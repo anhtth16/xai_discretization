{
 "cells": [
  {
   "cell_type": "markdown",
   "id": "514e58db",
   "metadata": {},
   "source": [
    "# Classification models - supervised discretization\n",
    "\n",
    "Dataset: tranfusion <br>\n",
    "By: Sam <br>\n",
    "Update at: 07/03/2023 <br>\n",
    "\n",
    "====\n",
    "\n",
    "Summary:<br>\n",
    "- Import unsupervised discretised datasets (already encoded categorical attributes)\n",
    "- Split dataset: 75% training, 25% testing, seed = 30\n",
    "- Class imbalance: Using SMOTE-ENN for training data\n",
    "- Perform 3 classification models: ChiMerge (4 settings) and Decision Tree (4 settings)\n",
    "**For categorical Naive Bayes: passing number of categories of features in the parameter min_categories to avoid index out of bound error**\n",
    "- Evaluation on testing data: Classification report (accuracy, precision, recall, f1-score) + G-mean\n",
    "- Export models after training: CNB models - joblib; ID3 & Knn-Hamming: skops\n",
    "- Write models performance to file: 'transfusion_models.txt'."
   ]
  },
  {
   "cell_type": "markdown",
   "id": "349a2e49",
   "metadata": {},
   "source": [
    "### About Dataset\n",
    "Attribute Information:\n",
    "Given is the variable name, variable type, the measurement unit and a brief  description. The \"Blood Transfusion Service Center\" is a classification problem. \n",
    "The order of this listing corresponds to the order of numerals along the rows of  the database.\n",
    "- R (Recency - months since last donation),\n",
    "- F (Frequency - total number of donation),\n",
    "- M (Monetary - total blood donated in c.c.),\n",
    "- T (Time - months since first donation),\n",
    "\n",
    "LABEL: a binary variable representing whether he/she donated blood in March 2007 \n",
    "- 1 stand for donating blood\n",
    "- 0 stands for not donating blood"
   ]
  },
  {
   "cell_type": "code",
   "execution_count": 1,
   "id": "6e959660",
   "metadata": {},
   "outputs": [],
   "source": [
    "import pandas as pd\n",
    "from pandas import read_csv\n",
    "from pandas import set_option\n",
    "import numpy as np\n",
    "from numpy import arange\n",
    "## EDA\n",
    "from collections import Counter"
   ]
  },
  {
   "cell_type": "code",
   "execution_count": 2,
   "id": "c39986bb",
   "metadata": {},
   "outputs": [],
   "source": [
    "# Pre-processing\n",
    "from sklearn.preprocessing import OrdinalEncoder\n",
    "# Cross validation\n",
    "from sklearn.model_selection import train_test_split\n",
    "from sklearn.model_selection import KFold\n",
    "from sklearn.model_selection import RepeatedKFold\n",
    "from sklearn.model_selection import cross_val_score # 1 metric\n",
    "from sklearn.model_selection import cross_validate # more than 1 metric\n",
    "from sklearn.model_selection import GridSearchCV\n",
    "from sklearn.pipeline import Pipeline"
   ]
  },
  {
   "cell_type": "code",
   "execution_count": 3,
   "id": "a1d3237a",
   "metadata": {},
   "outputs": [],
   "source": [
    "# For Naive Bayes\n",
    "from sklearn.naive_bayes import CategoricalNB # Categorical Naive Bayes\n",
    "from sklearn.naive_bayes import MultinomialNB # Multinominal Naive Bayes (suitable for NLP)\n",
    "from mixed_naive_bayes import MixedNB # Mixed Naive Bayes for combination of both discrete & continuous feature"
   ]
  },
  {
   "cell_type": "code",
   "execution_count": 4,
   "id": "9e9ddea0",
   "metadata": {},
   "outputs": [],
   "source": [
    "# For decision tree ID3 \n",
    "# https://stackoverflow.com/questions/61867945/python-import-error-cannot-import-name-six-from-sklearn-externals\n",
    "import six\n",
    "import sys\n",
    "sys.modules['sklearn.externals.six'] = six\n",
    "import mlrose\n",
    "from id3 import Id3Estimator # ID3 Decision Tree (https://pypi.org/project/decision-tree-id3/)\n",
    "from id3 import export_graphviz"
   ]
  },
  {
   "cell_type": "code",
   "execution_count": 5,
   "id": "beb75f81",
   "metadata": {},
   "outputs": [],
   "source": [
    "# Knn-VDM 3\n",
    "from vdm3 import ValueDifferenceMetric\n",
    "from sklearn.neighbors import KNeighborsClassifier"
   ]
  },
  {
   "cell_type": "code",
   "execution_count": 6,
   "id": "039c536e",
   "metadata": {},
   "outputs": [],
   "source": [
    "# For model evaluation\n",
    "from sklearn.metrics import classification_report\n",
    "from sklearn import metrics\n",
    "import sklearn.metrics as metrics\n",
    "from sklearn.metrics import make_scorer\n",
    "from sklearn.metrics import confusion_matrix"
   ]
  },
  {
   "cell_type": "code",
   "execution_count": 7,
   "id": "e4ec1b7c",
   "metadata": {},
   "outputs": [],
   "source": [
    "import seaborn as sns\n",
    "import matplotlib.pyplot as plt"
   ]
  },
  {
   "cell_type": "markdown",
   "id": "13679f21",
   "metadata": {},
   "source": [
    "# 1. ChiMerge data"
   ]
  },
  {
   "cell_type": "markdown",
   "id": "72f773ca",
   "metadata": {},
   "source": [
    "## 1. Max intervals = 6"
   ]
  },
  {
   "cell_type": "code",
   "execution_count": 8,
   "id": "3c5bf499",
   "metadata": {},
   "outputs": [
    {
     "name": "stdout",
     "output_type": "stream",
     "text": [
      "<class 'pandas.core.frame.DataFrame'>\n",
      "RangeIndex: 748 entries, 0 to 747\n",
      "Data columns (total 5 columns):\n",
      " #   Column     Non-Null Count  Dtype\n",
      "---  ------     --------------  -----\n",
      " 0   recency    748 non-null    int64\n",
      " 1   frequency  748 non-null    int64\n",
      " 2   monetary   748 non-null    int64\n",
      " 3   time       748 non-null    int64\n",
      " 4   label      748 non-null    int64\n",
      "dtypes: int64(5)\n",
      "memory usage: 29.3 KB\n",
      "(748, 4) (748,)\n",
      "Class representation - original:  Counter({0: 570, 1: 178})\n",
      "Class representation - training data:  Counter({0: 428, 1: 133})\n",
      "Class representation - testing data:  Counter({0: 142, 1: 45})\n"
     ]
    }
   ],
   "source": [
    "# Complete code for data preperation\n",
    "# Read data\n",
    "df_cm1 = pd.read_csv('sc_cm_tranfusion_6int.csv')\n",
    "disc = 'CM'\n",
    "k = 6\n",
    "\n",
    "df_cm1.info()\n",
    "data = df_cm1.values\n",
    "data.shape\n",
    "\n",
    "features = df_cm1.drop('label', axis = 1).columns\n",
    "\n",
    "# separate the data into X and y\n",
    "X = data[:, : len(features)]\n",
    "Y = data[:,-1]\n",
    "#X = df_cm1[features]\n",
    "#Y = df_cm1['label']\n",
    "\n",
    "print(X.shape, Y.shape)\n",
    "\n",
    "# Split train test\n",
    "x_train, x_test, y_train, y_test = train_test_split(X, Y, test_size=0.25, random_state = 30, stratify=Y)\n",
    "\n",
    "# Check representation of class\n",
    "print('Class representation - original: ', Counter(Y)) \n",
    "print('Class representation - training data: ', Counter(y_train)) \n",
    "print('Class representation - testing data: ', Counter(y_test)) \n",
    "\n",
    "# Check number of categories for features\n",
    "n_categories = df_cm1[features].nunique()"
   ]
  },
  {
   "cell_type": "code",
   "execution_count": 9,
   "id": "430c546d",
   "metadata": {},
   "outputs": [],
   "source": [
    "# from imblearn.combine import SMOTEENN\n",
    "# smt_enn = SMOTEENN(random_state=42)\n",
    "# x_resample, y_resample = smt_enn.fit_resample(x_train, y_train)\n",
    "# # Check labels in traning dataset after SMOTE\n",
    "# pd.Series(y_resample) \\\n",
    "# .value_counts() \\\n",
    "# .plot(kind='bar', title='Class distribution after applying SMOTE ENN', xlabel='Blood donating')"
   ]
  },
  {
   "cell_type": "code",
   "execution_count": 10,
   "id": "a2fcacaf",
   "metadata": {},
   "outputs": [
    {
     "data": {
      "text/plain": [
       "<AxesSubplot:title={'center':'Class distribution after applying SMOTE Tomek'}, xlabel='Blood donating'>"
      ]
     },
     "execution_count": 10,
     "metadata": {},
     "output_type": "execute_result"
    },
    {
     "data": {
      "image/png": "[encoded data removed]",
      "text/plain": [
       "<Figure size 432x288 with 1 Axes>"
      ]
     },
     "metadata": {
      "needs_background": "light"
     },
     "output_type": "display_data"
    }
   ],
   "source": [
    "from imblearn.combine import SMOTETomek\n",
    "smt_tomek = SMOTETomek(random_state=42)\n",
    "x_resample, y_resample = smt_tomek.fit_resample(x_train, y_train)\n",
    "# Check labels in traning dataset after SMOTE\n",
    "pd.Series(y_resample) \\\n",
    ".value_counts() \\\n",
    ".plot(kind='bar', title='Class distribution after applying SMOTE Tomek', xlabel='Blood donating')"
   ]
  },
  {
   "cell_type": "markdown",
   "id": "22930726",
   "metadata": {},
   "source": [
    "### Models - CM, max intervals = 6"
   ]
  },
  {
   "cell_type": "code",
   "execution_count": 11,
   "id": "88d73217",
   "metadata": {},
   "outputs": [],
   "source": [
    "# ID3 - Default\n",
    "model = 'ID3'\n",
    "dataset = 'tranfusion'\n",
    "discretizer = 'CM'\n",
    "disc_param = 'k = 6'\n",
    "\n",
    "f = open(\"tranfusion_supervised_disc_models.txt\", \"a\")\n",
    "import time\n",
    "start = time.time() # For measuring time execution\n",
    "\n",
    "model_id3 = Id3Estimator()\n",
    "model_id3.fit(x_resample, y_resample)\n",
    "\n",
    "# Testing\n",
    "y_pred_id3 = model_id3.predict(x_test)\n",
    "print(f'Models results: model {model}, dataset {dataset}, discretization {discretizer} with parameter {disc_param}', \n",
    "      file = f)\n",
    "print('Classification report', file = f)\n",
    "print(classification_report(y_test, y_pred_id3), file = f)\n",
    "\n",
    "from imblearn.metrics import geometric_mean_score as gmean\n",
    "print('G-mean:', gmean(y_test, y_pred_id3),file = f)\n",
    "\n",
    "end = time.time()\n",
    "print(f'Time for training model {model}- default, {disc}, k = {k} is: {end - start}.', file = f) # Total time execution\n",
    "print('=='*20, file = f)\n",
    "f.close()\n",
    "\n",
    "# Save models\n",
    "import skops.io as sio\n",
    "model_name = f\"{dataset}_{model}_{discretizer}_{k}.skops\"\n",
    "obj = sio.dump(model_id3, model_name)"
   ]
  },
  {
   "cell_type": "code",
   "execution_count": 12,
   "id": "e2788992",
   "metadata": {},
   "outputs": [
    {
     "name": "stdout",
     "output_type": "stream",
     "text": [
      "tranfusion_CNB_CM_6.sav\n"
     ]
    },
    {
     "data": {
      "text/plain": [
       "['tranfusion_CNB_CM_6.sav']"
      ]
     },
     "execution_count": 12,
     "metadata": {},
     "output_type": "execute_result"
    }
   ],
   "source": [
    "# Naive Bayes - pass number of categories in min_categories\n",
    "model = 'CNB'\n",
    "dataset = 'tranfusion'\n",
    "discretizer = 'CM'\n",
    "disc_param = 'k = 6'\n",
    "\n",
    "f = open(\"tranfusion_supervised_disc_models.txt\", \"a\")\n",
    "import time\n",
    "start = time.time() # For measuring time execution\n",
    "\n",
    "model_nb = CategoricalNB(min_categories = n_categories)\n",
    "model_nb.fit(x_resample, y_resample)\n",
    "\n",
    "# Testing\n",
    "y_pred_nb = model_nb.predict(x_test)\n",
    "model_nb.classes_\n",
    "print(f'Models results: model {model}, dataset {dataset}, discretization {discretizer} with parameter {disc_param}', \n",
    "      file = f)\n",
    "print('Classification report', file = f)\n",
    "print(classification_report(y_test, y_pred_nb), file = f)\n",
    "\n",
    "from imblearn.metrics import geometric_mean_score as gmean\n",
    "print('G-mean:', gmean(y_test, y_pred_nb),file = f)\n",
    "\n",
    "end = time.time()\n",
    "print(f'Time for training model {model}- default, {disc}, k = {k} is: {end - start}.', file = f) # Total time execution\n",
    "print('=='*20, file = f)\n",
    "f.close()\n",
    "\n",
    "# Save models\n",
    "import joblib\n",
    "filename = f\"{dataset}_{model}_{discretizer}_{k}.sav\"\n",
    "print(filename)\n",
    "joblib.dump(model_nb, filename)"
   ]
  },
  {
   "cell_type": "code",
   "execution_count": 13,
   "id": "4a0ca119",
   "metadata": {},
   "outputs": [
    {
     "name": "stdout",
     "output_type": "stream",
     "text": [
      "tranfusion_KNN-Hamming_CM_6.skops\n"
     ]
    }
   ],
   "source": [
    "# Knn-Hammingcomplete code\n",
    "\n",
    "model = 'KNN-Hamming'\n",
    "dataset = 'tranfusion'\n",
    "discretizer = 'CM'\n",
    "disc_param = 'k = 6'\n",
    "\n",
    "f = open(\"tranfusion_supervised_disc_models.txt\", \"a\")\n",
    "import time\n",
    "start = time.time() # For measuring time execution\n",
    "\n",
    "# Knn-Hamming complete code\n",
    "knn_hamming = KNeighborsClassifier(n_neighbors=3, metric='hamming', algorithm='auto')\n",
    "knn_hamming.fit(x_resample, y_resample)\n",
    "\n",
    "# Testing\n",
    "y_pred_knn = knn_hamming.predict(x_test)\n",
    "knn_hamming.classes_\n",
    "print(f'Models results: model {model}, dataset {dataset}, discretization {discretizer} with parameter {disc_param}', \n",
    "      file = f)\n",
    "print('Classification report', file = f)\n",
    "print(classification_report(y_test, y_pred_knn), file = f)\n",
    "\n",
    "from imblearn.metrics import geometric_mean_score as gmean\n",
    "print('G-mean:', gmean(y_test, y_pred_knn),file = f)\n",
    "\n",
    "end = time.time()\n",
    "print(f'Time for training model {model}- default, {disc}, k = {k} is: {end - start}.', file = f) # Total time execution\n",
    "print('=='*20, file = f)\n",
    "f.close()\n",
    "\n",
    "# Save models\n",
    "import skops.io as sio\n",
    "model_name = f\"{dataset}_{model}_{discretizer}_{k}.skops\"\n",
    "print(model_name)\n",
    "obj = sio.dump(knn_hamming, model_name)"
   ]
  },
  {
   "cell_type": "markdown",
   "id": "86c0a4f2",
   "metadata": {},
   "source": [
    "## 1.2 ChiMerge, max interval = 8"
   ]
  },
  {
   "cell_type": "markdown",
   "id": "817132b0",
   "metadata": {},
   "source": [
    "### Data prep"
   ]
  },
  {
   "cell_type": "code",
   "execution_count": 14,
   "id": "7700c25f",
   "metadata": {},
   "outputs": [
    {
     "name": "stdout",
     "output_type": "stream",
     "text": [
      "<class 'pandas.core.frame.DataFrame'>\n",
      "RangeIndex: 748 entries, 0 to 747\n",
      "Data columns (total 5 columns):\n",
      " #   Column     Non-Null Count  Dtype\n",
      "---  ------     --------------  -----\n",
      " 0   recency    748 non-null    int64\n",
      " 1   frequency  748 non-null    int64\n",
      " 2   monetary   748 non-null    int64\n",
      " 3   time       748 non-null    int64\n",
      " 4   label      748 non-null    int64\n",
      "dtypes: int64(5)\n",
      "memory usage: 29.3 KB\n",
      "(748, 4) (748,)\n",
      "Class representation - original:  Counter({0: 570, 1: 178})\n",
      "Class representation - training data:  Counter({0: 428, 1: 133})\n",
      "Class representation - testing data:  Counter({0: 142, 1: 45})\n"
     ]
    }
   ],
   "source": [
    "# Complete code for data preperation\n",
    "# Read data\n",
    "df_cm2 = pd.read_csv('sc_cm_tranfusion_8int.csv')\n",
    "disc = 'CM'\n",
    "k = 8\n",
    "\n",
    "df_cm2.info()\n",
    "data = df_cm2.values\n",
    "data.shape\n",
    "\n",
    "features = df_cm2.drop('label', axis = 1).columns\n",
    "\n",
    "# separate the data into X and y\n",
    "X = data[:, : len(features)]\n",
    "Y = data[:,-1]\n",
    "\n",
    "print(X.shape, Y.shape)\n",
    "\n",
    "# Split train test\n",
    "x_train, x_test, y_train, y_test = train_test_split(X, Y, test_size=0.25, random_state = 30, stratify=Y)\n",
    "\n",
    "# Check representation of class\n",
    "print('Class representation - original: ', Counter(Y)) \n",
    "print('Class representation - training data: ', Counter(y_train)) \n",
    "print('Class representation - testing data: ', Counter(y_test)) \n",
    "\n",
    "# Check number of categories for features\n",
    "n_categories = df_cm2[features].nunique()"
   ]
  },
  {
   "cell_type": "code",
   "execution_count": 15,
   "id": "b680ea9e",
   "metadata": {},
   "outputs": [
    {
     "data": {
      "text/plain": [
       "<AxesSubplot:title={'center':'Class distribution after applying SMOTE Tomek'}, xlabel='Blood donating'>"
      ]
     },
     "execution_count": 15,
     "metadata": {},
     "output_type": "execute_result"
    },
    {
     "data": {
      "image/png": "[encoded data removed]",
      "text/plain": [
       "<Figure size 432x288 with 1 Axes>"
      ]
     },
     "metadata": {
      "needs_background": "light"
     },
     "output_type": "display_data"
    }
   ],
   "source": [
    "from imblearn.combine import SMOTETomek\n",
    "smt_tomek = SMOTETomek(random_state=42)\n",
    "x_resample, y_resample = smt_tomek.fit_resample(x_train, y_train)\n",
    "# Check labels in traning dataset after SMOTE\n",
    "pd.Series(y_resample) \\\n",
    ".value_counts() \\\n",
    ".plot(kind='bar', title='Class distribution after applying SMOTE Tomek', xlabel='Blood donating')"
   ]
  },
  {
   "cell_type": "markdown",
   "id": "aaeaca15",
   "metadata": {},
   "source": [
    "### Models - ChiMerge, max intervals = 8"
   ]
  },
  {
   "cell_type": "code",
   "execution_count": 16,
   "id": "9fe14038",
   "metadata": {},
   "outputs": [
    {
     "name": "stdout",
     "output_type": "stream",
     "text": [
      "tranfusion_ID3_CM_8.skops\n"
     ]
    }
   ],
   "source": [
    "# ID3 - Default\n",
    "model = 'ID3'\n",
    "dataset = 'tranfusion'\n",
    "discretizer = 'CM'\n",
    "disc_param = 'k = 8'\n",
    "\n",
    "f = open(\"tranfusion_supervised_disc_models.txt\", \"a\")\n",
    "import time\n",
    "start = time.time() # For measuring time execution\n",
    "\n",
    "model_id3 = Id3Estimator()\n",
    "model_id3.fit(x_resample, y_resample)\n",
    "\n",
    "# Testing\n",
    "y_pred_id3 = model_id3.predict(x_test)\n",
    "print(f'Models results: model {model}, dataset {dataset}, discretization {discretizer} with parameter {disc_param}', \n",
    "      file = f)\n",
    "print('Classification report', file = f)\n",
    "print(classification_report(y_test, y_pred_id3), file = f)\n",
    "\n",
    "from imblearn.metrics import geometric_mean_score as gmean\n",
    "print('G-mean:', gmean(y_test, y_pred_id3),file = f)\n",
    "\n",
    "end = time.time()\n",
    "print(f'Time for training model {model}- default, {disc}, k = {k} is: {end - start}.', file = f) # Total time execution\n",
    "print('=='*20, file = f)\n",
    "f.close()\n",
    "\n",
    "# Save models\n",
    "import skops.io as sio\n",
    "model_name = f\"{dataset}_{model}_{discretizer}_{k}.skops\"\n",
    "print(model_name)\n",
    "obj = sio.dump(model_id3, model_name)"
   ]
  },
  {
   "cell_type": "code",
   "execution_count": 17,
   "id": "fe02ff6a",
   "metadata": {},
   "outputs": [
    {
     "name": "stdout",
     "output_type": "stream",
     "text": [
      "tranfusion_CNB_CM_8.sav\n"
     ]
    },
    {
     "data": {
      "text/plain": [
       "['tranfusion_CNB_CM_8.sav']"
      ]
     },
     "execution_count": 17,
     "metadata": {},
     "output_type": "execute_result"
    }
   ],
   "source": [
    "# Naive Bayes - pass number of categories in min_categories\n",
    "model = 'CNB'\n",
    "dataset = 'tranfusion'\n",
    "discretizer = 'CM'\n",
    "disc_param = 'k = 8'\n",
    "\n",
    "f = open(\"tranfusion_supervised_disc_models.txt\", \"a\")\n",
    "import time\n",
    "start = time.time() # For measuring time execution\n",
    "\n",
    "model_nb = CategoricalNB(min_categories = n_categories)\n",
    "model_nb.fit(x_resample, y_resample)\n",
    "\n",
    "# Testing\n",
    "y_pred_nb = model_nb.predict(x_test)\n",
    "model_nb.classes_\n",
    "print(f'Models results: model {model}, dataset {dataset}, discretization {discretizer} with parameter {disc_param}', \n",
    "      file = f)\n",
    "print('Classification report', file = f)\n",
    "print(classification_report(y_test, y_pred_nb), file = f)\n",
    "\n",
    "from imblearn.metrics import geometric_mean_score as gmean\n",
    "print('G-mean:', gmean(y_test, y_pred_nb),file = f)\n",
    "\n",
    "end = time.time()\n",
    "print(f'Time for training model {model}- default, {disc}, k = {k} is: {end - start}.', file = f) # Total time execution\n",
    "print('=='*20, file = f)\n",
    "f.close()\n",
    "\n",
    "# Save models\n",
    "import joblib\n",
    "filename = f\"{dataset}_{model}_{discretizer}_{k}.sav\"\n",
    "print(filename)\n",
    "joblib.dump(model_nb, filename)"
   ]
  },
  {
   "cell_type": "code",
   "execution_count": 18,
   "id": "197d7a3c",
   "metadata": {},
   "outputs": [
    {
     "name": "stdout",
     "output_type": "stream",
     "text": [
      "tranfusion_KNN-Hamming_CM_8.skops\n"
     ]
    }
   ],
   "source": [
    "# Knn-Hammingcomplete code\n",
    "\n",
    "model = 'KNN-Hamming'\n",
    "dataset = 'tranfusion'\n",
    "discretizer = 'CM'\n",
    "disc_param = 'k = 8'\n",
    "\n",
    "f = open(\"tranfusion_supervised_disc_models.txt\", \"a\")\n",
    "import time\n",
    "start = time.time() # For measuring time execution\n",
    "\n",
    "# Knn-Hamming complete code\n",
    "knn_hamming = KNeighborsClassifier(n_neighbors=3, metric='hamming', algorithm='auto')\n",
    "knn_hamming.fit(x_resample, y_resample)\n",
    "\n",
    "# Testing\n",
    "y_pred_knn = knn_hamming.predict(x_test)\n",
    "knn_hamming.classes_\n",
    "print(f'Models results: model {model}, dataset {dataset}, discretization {discretizer} with parameter {disc_param}', \n",
    "      file = f)\n",
    "print('Classification report', file = f)\n",
    "print(classification_report(y_test, y_pred_knn), file = f)\n",
    "\n",
    "from imblearn.metrics import geometric_mean_score as gmean\n",
    "print('G-mean:', gmean(y_test, y_pred_knn),file = f)\n",
    "\n",
    "end = time.time()\n",
    "print(f'Time for training model {model}- default, {disc}, k = {k} is: {end - start}.', file = f) # Total time execution\n",
    "print('=='*20, file = f)\n",
    "f.close()\n",
    "\n",
    "# Save models\n",
    "import skops.io as sio\n",
    "model_name = f\"{dataset}_{model}_{discretizer}_{k}.skops\"\n",
    "print(model_name)\n",
    "obj = sio.dump(knn_hamming, model_name)"
   ]
  },
  {
   "cell_type": "markdown",
   "id": "72fe06a0",
   "metadata": {},
   "source": [
    "## 1.3 ChiMerge, max intervals = 10"
   ]
  },
  {
   "cell_type": "markdown",
   "id": "8c5e59bf",
   "metadata": {},
   "source": [
    "### Data prep"
   ]
  },
  {
   "cell_type": "code",
   "execution_count": 19,
   "id": "a7d939f3",
   "metadata": {},
   "outputs": [
    {
     "name": "stdout",
     "output_type": "stream",
     "text": [
      "<class 'pandas.core.frame.DataFrame'>\n",
      "RangeIndex: 748 entries, 0 to 747\n",
      "Data columns (total 5 columns):\n",
      " #   Column     Non-Null Count  Dtype\n",
      "---  ------     --------------  -----\n",
      " 0   recency    748 non-null    int64\n",
      " 1   frequency  748 non-null    int64\n",
      " 2   monetary   748 non-null    int64\n",
      " 3   time       748 non-null    int64\n",
      " 4   label      748 non-null    int64\n",
      "dtypes: int64(5)\n",
      "memory usage: 29.3 KB\n",
      "(748, 4) (748,)\n",
      "Class representation - original:  Counter({0: 570, 1: 178})\n",
      "Class representation - training data:  Counter({0: 428, 1: 133})\n",
      "Class representation - testing data:  Counter({0: 142, 1: 45})\n"
     ]
    }
   ],
   "source": [
    "# Complete code for data preperation\n",
    "# Read data\n",
    "df_cm3 = pd.read_csv('sc_cm_tranfusion_10int.csv')\n",
    "disc = 'cm'\n",
    "k = 10\n",
    "\n",
    "df_cm3.info()\n",
    "data = df_cm3.values\n",
    "data.shape\n",
    "\n",
    "features = df_cm3.drop('label', axis = 1).columns\n",
    "\n",
    "# separate the data into X and y\n",
    "X = data[:, : len(features)]\n",
    "Y = data[:,-1]\n",
    "\n",
    "print(X.shape, Y.shape)\n",
    "\n",
    "# Split train test\n",
    "x_train, x_test, y_train, y_test = train_test_split(X, Y, test_size=0.25, random_state = 30, stratify=Y)\n",
    "\n",
    "# Check representation of class\n",
    "print('Class representation - original: ', Counter(Y)) \n",
    "print('Class representation - training data: ', Counter(y_train)) \n",
    "print('Class representation - testing data: ', Counter(y_test)) \n",
    "\n",
    "# Check number of categories for features\n",
    "n_categories = df_cm3[features].nunique()"
   ]
  },
  {
   "cell_type": "code",
   "execution_count": 20,
   "id": "6f65d623",
   "metadata": {},
   "outputs": [
    {
     "data": {
      "text/plain": [
       "<AxesSubplot:title={'center':'Class distribution after applying SMOTE Tomek'}, xlabel='Blood donating'>"
      ]
     },
     "execution_count": 20,
     "metadata": {},
     "output_type": "execute_result"
    },
    {
     "data": {
      "image/png": "[encoded data removed]",
      "text/plain": [
       "<Figure size 432x288 with 1 Axes>"
      ]
     },
     "metadata": {
      "needs_background": "light"
     },
     "output_type": "display_data"
    }
   ],
   "source": [
    "from imblearn.combine import SMOTETomek\n",
    "smt_tomek = SMOTETomek(random_state=42)\n",
    "x_resample, y_resample = smt_tomek.fit_resample(x_train, y_train)\n",
    "# Check labels in traning dataset after SMOTE\n",
    "pd.Series(y_resample) \\\n",
    ".value_counts() \\\n",
    ".plot(kind='bar', title='Class distribution after applying SMOTE Tomek', xlabel='Blood donating')"
   ]
  },
  {
   "cell_type": "markdown",
   "id": "f5d33064",
   "metadata": {},
   "source": [
    "### Models - ChiMerge, max intervals =10"
   ]
  },
  {
   "cell_type": "code",
   "execution_count": 21,
   "id": "8c9eff1a",
   "metadata": {},
   "outputs": [
    {
     "name": "stdout",
     "output_type": "stream",
     "text": [
      "tranfusion_ID3_CM_10.skops\n"
     ]
    }
   ],
   "source": [
    "# ID3 - Default\n",
    "model = 'ID3'\n",
    "dataset = 'tranfusion'\n",
    "discretizer = 'CM'\n",
    "disc_param = 'k = 10'\n",
    "\n",
    "f = open(\"tranfusion_supervised_disc_models.txt\", \"a\")\n",
    "import time\n",
    "start = time.time() # For measuring time execution\n",
    "\n",
    "model_id3 = Id3Estimator()\n",
    "model_id3.fit(x_resample, y_resample)\n",
    "\n",
    "# Testing\n",
    "y_pred_id3 = model_id3.predict(x_test)\n",
    "print(f'Models results: model {model}, dataset {dataset}, discretization {discretizer} with parameter {disc_param}', \n",
    "      file = f)\n",
    "print('Classification report', file = f)\n",
    "print(classification_report(y_test, y_pred_id3), file = f)\n",
    "\n",
    "from imblearn.metrics import geometric_mean_score as gmean\n",
    "print('G-mean:', gmean(y_test, y_pred_id3),file = f)\n",
    "\n",
    "end = time.time()\n",
    "print(f'Time for training model {model}- default, {disc}, k = {k} is: {end - start}.', file = f) # Total time execution\n",
    "print('=='*20, file = f)\n",
    "f.close()\n",
    "\n",
    "# Save models\n",
    "import skops.io as sio\n",
    "model_name = f\"{dataset}_{model}_{discretizer}_{k}.skops\"\n",
    "print(model_name)\n",
    "obj = sio.dump(model_id3, model_name)"
   ]
  },
  {
   "cell_type": "code",
   "execution_count": 22,
   "id": "f167b31c",
   "metadata": {},
   "outputs": [
    {
     "name": "stdout",
     "output_type": "stream",
     "text": [
      "tranfusion_CNB_CM_10.sav\n"
     ]
    },
    {
     "data": {
      "text/plain": [
       "['tranfusion_CNB_CM_10.sav']"
      ]
     },
     "execution_count": 22,
     "metadata": {},
     "output_type": "execute_result"
    }
   ],
   "source": [
    "# Naive Bayes - pass number of categories in min_categories\n",
    "model = 'CNB'\n",
    "dataset = 'tranfusion'\n",
    "discretizer = 'CM'\n",
    "disc_param = 'k = 10'\n",
    "\n",
    "f = open(\"tranfusion_supervised_disc_models.txt\", \"a\")\n",
    "import time\n",
    "start = time.time() # For measuring time execution\n",
    "\n",
    "model_nb = CategoricalNB(min_categories = n_categories)\n",
    "model_nb.fit(x_resample, y_resample)\n",
    "\n",
    "# Testing\n",
    "y_pred_nb = model_nb.predict(x_test)\n",
    "model_nb.classes_\n",
    "print(f'Models results: model {model}, dataset {dataset}, discretization {discretizer} with parameter {disc_param}', \n",
    "      file = f)\n",
    "print('Classification report', file = f)\n",
    "print(classification_report(y_test, y_pred_nb), file = f)\n",
    "\n",
    "from imblearn.metrics import geometric_mean_score as gmean\n",
    "print('G-mean:', gmean(y_test, y_pred_nb),file = f)\n",
    "\n",
    "end = time.time()\n",
    "print(f'Time for training model {model}- default, {disc}, k = {k} is: {end - start}.', file = f) # Total time execution\n",
    "print('=='*20, file = f)\n",
    "f.close()\n",
    "\n",
    "# Save models\n",
    "\n",
    "import joblib\n",
    "filename = f\"{dataset}_{model}_{discretizer}_{k}.sav\"\n",
    "print(filename)\n",
    "joblib.dump(model_nb, filename)"
   ]
  },
  {
   "cell_type": "code",
   "execution_count": 23,
   "id": "d96b68c4",
   "metadata": {},
   "outputs": [
    {
     "name": "stdout",
     "output_type": "stream",
     "text": [
      "tranfusion_KNN-Hamming_CM_10.skops\n"
     ]
    }
   ],
   "source": [
    "# Knn-Hammingcomplete code\n",
    "\n",
    "model = 'KNN-Hamming'\n",
    "dataset = 'tranfusion'\n",
    "discretizer = 'CM'\n",
    "disc_param = 'k = 10'\n",
    "\n",
    "f = open(\"tranfusion_supervised_disc_models.txt\", \"a\")\n",
    "import time\n",
    "start = time.time() # For measuring time execution\n",
    "\n",
    "# Knn-Hamming complete code\n",
    "knn_hamming = KNeighborsClassifier(n_neighbors=3, metric='hamming', algorithm='auto')\n",
    "knn_hamming.fit(x_resample, y_resample)\n",
    "\n",
    "# Testing\n",
    "y_pred_knn = knn_hamming.predict(x_test)\n",
    "knn_hamming.classes_\n",
    "print(f'Models results: model {model}, dataset {dataset}, discretization {discretizer} with parameter {disc_param}', \n",
    "      file = f)\n",
    "print('Classification report', file = f)\n",
    "print(classification_report(y_test, y_pred_knn), file = f)\n",
    "\n",
    "from imblearn.metrics import geometric_mean_score as gmean\n",
    "print('G-mean:', gmean(y_test, y_pred_knn),file = f)\n",
    "\n",
    "end = time.time()\n",
    "print(f'Time for training model {model}- default, {disc}, k = {k} is: {end - start}.', file = f) # Total time execution\n",
    "print('=='*20, file = f)\n",
    "f.close()\n",
    "\n",
    "# Save models\n",
    "import skops.io as sio\n",
    "model_name = f\"{dataset}_{model}_{discretizer}_{k}.skops\"\n",
    "print(model_name)\n",
    "obj = sio.dump(knn_hamming, model_name)"
   ]
  },
  {
   "cell_type": "markdown",
   "id": "bbea5e62",
   "metadata": {},
   "source": [
    "## 1.4 ChiMerge, max intervals = 15"
   ]
  },
  {
   "cell_type": "markdown",
   "id": "d5764cf9",
   "metadata": {},
   "source": [
    "### Data prep"
   ]
  },
  {
   "cell_type": "code",
   "execution_count": 24,
   "id": "042ad21c",
   "metadata": {},
   "outputs": [
    {
     "name": "stdout",
     "output_type": "stream",
     "text": [
      "<class 'pandas.core.frame.DataFrame'>\n",
      "RangeIndex: 748 entries, 0 to 747\n",
      "Data columns (total 5 columns):\n",
      " #   Column     Non-Null Count  Dtype\n",
      "---  ------     --------------  -----\n",
      " 0   recency    748 non-null    int64\n",
      " 1   frequency  748 non-null    int64\n",
      " 2   monetary   748 non-null    int64\n",
      " 3   time       748 non-null    int64\n",
      " 4   label      748 non-null    int64\n",
      "dtypes: int64(5)\n",
      "memory usage: 29.3 KB\n",
      "(748, 4) (748,)\n",
      "Class representation - original:  Counter({0: 570, 1: 178})\n",
      "Class representation - training data:  Counter({0: 428, 1: 133})\n",
      "Class representation - testing data:  Counter({0: 142, 1: 45})\n"
     ]
    }
   ],
   "source": [
    "# Complete code for data preperation\n",
    "# Read data\n",
    "df_cm4 = pd.read_csv('sc_cm_tranfusion_15int.csv')\n",
    "disc = 'cm'\n",
    "k = 15\n",
    "\n",
    "df_cm4.info()\n",
    "data = df_cm4.values\n",
    "data.shape\n",
    "\n",
    "features = df_cm4.drop('label', axis = 1).columns\n",
    "\n",
    "# separate the data into X and y\n",
    "X = data[:, : len(features)]\n",
    "Y = data[:,-1]\n",
    "\n",
    "print(X.shape, Y.shape)\n",
    "\n",
    "# Split train test\n",
    "x_train, x_test, y_train, y_test = train_test_split(X, Y, test_size=0.25, random_state = 30, stratify=Y)\n",
    "\n",
    "# Check representation of class\n",
    "print('Class representation - original: ', Counter(Y)) \n",
    "print('Class representation - training data: ', Counter(y_train)) \n",
    "print('Class representation - testing data: ', Counter(y_test)) \n",
    "\n",
    "# Check number of categories for features\n",
    "n_categories = df_cm4[features].nunique()"
   ]
  },
  {
   "cell_type": "code",
   "execution_count": 25,
   "id": "6ba440da",
   "metadata": {},
   "outputs": [
    {
     "data": {
      "text/plain": [
       "<AxesSubplot:title={'center':'Class distribution after applying SMOTE Tomek'}, xlabel='Blood donating'>"
      ]
     },
     "execution_count": 25,
     "metadata": {},
     "output_type": "execute_result"
    },
    {
     "data": {
      "image/png": "[encoded data removed]",
      "text/plain": [
       "<Figure size 432x288 with 1 Axes>"
      ]
     },
     "metadata": {
      "needs_background": "light"
     },
     "output_type": "display_data"
    }
   ],
   "source": [
    "from imblearn.combine import SMOTETomek\n",
    "smt_tomek = SMOTETomek(random_state=42)\n",
    "x_resample, y_resample = smt_tomek.fit_resample(x_train, y_train)\n",
    "# Check labels in traning dataset after SMOTE\n",
    "pd.Series(y_resample) \\\n",
    ".value_counts() \\\n",
    ".plot(kind='bar', title='Class distribution after applying SMOTE Tomek', xlabel='Blood donating')"
   ]
  },
  {
   "cell_type": "markdown",
   "id": "43324924",
   "metadata": {},
   "source": [
    "### Models, ChiMerge, max intervals = 15"
   ]
  },
  {
   "cell_type": "code",
   "execution_count": 26,
   "id": "89ac74ad",
   "metadata": {},
   "outputs": [
    {
     "name": "stdout",
     "output_type": "stream",
     "text": [
      "tranfusion_ID3_CM_15.skops\n"
     ]
    }
   ],
   "source": [
    "# ID3 - Default\n",
    "model = 'ID3'\n",
    "dataset = 'tranfusion'\n",
    "discretizer = 'CM'\n",
    "disc_param = 'k = 15'\n",
    "\n",
    "f = open(\"tranfusion_supervised_disc_models.txt\", \"a\")\n",
    "import time\n",
    "start = time.time() # For measuring time execution\n",
    "\n",
    "model_id3 = Id3Estimator()\n",
    "model_id3.fit(x_resample, y_resample)\n",
    "\n",
    "# Testing\n",
    "y_pred_id3 = model_id3.predict(x_test)\n",
    "print(f'Models results: model {model}, dataset {dataset}, discretization {discretizer} with parameter {disc_param}', \n",
    "      file = f)\n",
    "print('Classification report', file = f)\n",
    "print(classification_report(y_test, y_pred_id3), file = f)\n",
    "\n",
    "from imblearn.metrics import geometric_mean_score as gmean\n",
    "print('G-mean:', gmean(y_test, y_pred_id3),file = f)\n",
    "\n",
    "end = time.time()\n",
    "print(f'Time for training model {model}- default, {disc}, k = {k} is: {end - start}.', file = f) # Total time execution\n",
    "print('=='*20, file = f)\n",
    "f.close()\n",
    "\n",
    "# Save models\n",
    "import skops.io as sio\n",
    "model_name = f\"{dataset}_{model}_{discretizer}_{k}.skops\"\n",
    "print(model_name)\n",
    "obj = sio.dump(model_id3, model_name)"
   ]
  },
  {
   "cell_type": "code",
   "execution_count": 27,
   "id": "389ddf92",
   "metadata": {},
   "outputs": [
    {
     "name": "stdout",
     "output_type": "stream",
     "text": [
      "tranfusion_CNB_CM_15.sav\n"
     ]
    },
    {
     "data": {
      "text/plain": [
       "['tranfusion_CNB_CM_15.sav']"
      ]
     },
     "execution_count": 27,
     "metadata": {},
     "output_type": "execute_result"
    }
   ],
   "source": [
    "# Naive Bayes - pass number of categories in min_categories\n",
    "model = 'CNB'\n",
    "dataset = 'tranfusion'\n",
    "discretizer = 'CM'\n",
    "disc_param = 'k = 15'\n",
    "\n",
    "f = open(\"tranfusion_supervised_disc_models.txt\", \"a\")\n",
    "import time\n",
    "start = time.time() # For measuring time execution\n",
    "\n",
    "model_nb = CategoricalNB(min_categories = n_categories)\n",
    "model_nb.fit(x_resample, y_resample)\n",
    "\n",
    "# Testing\n",
    "y_pred_nb = model_nb.predict(x_test)\n",
    "model_nb.classes_\n",
    "print(f'Models results: model {model}, dataset {dataset}, discretization {discretizer} with parameter {disc_param}', \n",
    "      file = f)\n",
    "print('Classification report', file = f)\n",
    "print(classification_report(y_test, y_pred_nb), file = f)\n",
    "\n",
    "from imblearn.metrics import geometric_mean_score as gmean\n",
    "print('G-mean:', gmean(y_test, y_pred_nb),file = f)\n",
    "\n",
    "end = time.time()\n",
    "print(f'Time for training model {model}- default, {disc}, k = {k} is: {end - start}.', file = f) # Total time execution\n",
    "print('=='*20, file = f)\n",
    "f.close()\n",
    "\n",
    "# Save models\n",
    "\n",
    "import joblib\n",
    "filename = f\"{dataset}_{model}_{discretizer}_{k}.sav\"\n",
    "print(filename)\n",
    "joblib.dump(model_nb, filename)"
   ]
  },
  {
   "cell_type": "code",
   "execution_count": 28,
   "id": "5431cd87",
   "metadata": {},
   "outputs": [
    {
     "name": "stdout",
     "output_type": "stream",
     "text": [
      "tranfusion_KNN-Hamming_CM_15.skops\n"
     ]
    }
   ],
   "source": [
    "# Knn-Hammingcomplete code\n",
    "\n",
    "model = 'KNN-Hamming'\n",
    "dataset = 'tranfusion'\n",
    "discretizer = 'CM'\n",
    "disc_param = 'k = 15'\n",
    "\n",
    "f = open(\"tranfusion_supervised_disc_models.txt\", \"a\")\n",
    "import time\n",
    "start = time.time() # For measuring time execution\n",
    "\n",
    "# Knn-Hamming complete code\n",
    "knn_hamming = KNeighborsClassifier(n_neighbors=3, metric='hamming', algorithm='auto')\n",
    "knn_hamming.fit(x_resample, y_resample)\n",
    "\n",
    "# Testing\n",
    "y_pred_knn = knn_hamming.predict(x_test)\n",
    "knn_hamming.classes_\n",
    "print(f'Models results: model {model}, dataset {dataset}, discretization {discretizer} with parameter {disc_param}', \n",
    "      file = f)\n",
    "print('Classification report', file = f)\n",
    "print(classification_report(y_test, y_pred_knn), file = f)\n",
    "\n",
    "from imblearn.metrics import geometric_mean_score as gmean\n",
    "print('G-mean:', gmean(y_test, y_pred_knn),file = f)\n",
    "\n",
    "end = time.time()\n",
    "print(f'Time for training model {model}- default, {disc}, k = {k} is: {end - start}.', file = f) # Total time execution\n",
    "print('=='*20, file = f)\n",
    "f.close()\n",
    "\n",
    "# Save models\n",
    "import skops.io as sio\n",
    "model_name = f\"{dataset}_{model}_{discretizer}_{k}.skops\"\n",
    "print(model_name)\n",
    "obj = sio.dump(knn_hamming, model_name)"
   ]
  },
  {
   "cell_type": "markdown",
   "id": "4cb96c1d",
   "metadata": {},
   "source": [
    "# 2. Decision Tree Discretizer"
   ]
  },
  {
   "cell_type": "markdown",
   "id": "229a0ccb",
   "metadata": {},
   "source": [
    "## 2.1 DT, max_depth = 2"
   ]
  },
  {
   "cell_type": "markdown",
   "id": "52a46ad2",
   "metadata": {},
   "source": [
    "### Data prep"
   ]
  },
  {
   "cell_type": "code",
   "execution_count": 29,
   "id": "1668bb1f",
   "metadata": {},
   "outputs": [
    {
     "name": "stdout",
     "output_type": "stream",
     "text": [
      "<class 'pandas.core.frame.DataFrame'>\n",
      "RangeIndex: 748 entries, 0 to 747\n",
      "Data columns (total 5 columns):\n",
      " #   Column     Non-Null Count  Dtype\n",
      "---  ------     --------------  -----\n",
      " 0   recency    748 non-null    int64\n",
      " 1   frequency  748 non-null    int64\n",
      " 2   monetary   748 non-null    int64\n",
      " 3   time       748 non-null    int64\n",
      " 4   label      748 non-null    int64\n",
      "dtypes: int64(5)\n",
      "memory usage: 29.3 KB\n",
      "(748, 4) (748,)\n",
      "Class representation - original:  Counter({0: 570, 1: 178})\n",
      "Class representation - training data:  Counter({0: 428, 1: 133})\n",
      "Class representation - testing data:  Counter({0: 142, 1: 45})\n"
     ]
    }
   ],
   "source": [
    "# Complete code for data preperation\n",
    "# Read data\n",
    "df_dt1 = pd.read_csv('DT_small_discretized_tranfusion.csv')\n",
    "disc = 'DT'\n",
    "max_depth = 2\n",
    "\n",
    "df_dt1.info()\n",
    "data = df_dt1.values\n",
    "data.shape\n",
    "\n",
    "features = df_dt1.drop('label', axis = 1).columns\n",
    "\n",
    "# separate the data into X and y\n",
    "X = data[:, : len(features)]\n",
    "Y = data[:,-1]\n",
    "\n",
    "print(X.shape, Y.shape)\n",
    "\n",
    "# Split train test\n",
    "x_train, x_test, y_train, y_test = train_test_split(X, Y, test_size=0.25, random_state = 30, stratify = Y)\n",
    "\n",
    "# Check representation of class\n",
    "print('Class representation - original: ', Counter(Y)) \n",
    "print('Class representation - training data: ', Counter(y_train)) \n",
    "print('Class representation - testing data: ', Counter(y_test)) \n",
    "\n",
    "# Check number of categories for features\n",
    "n_categories = df_dt1[features].nunique()"
   ]
  },
  {
   "cell_type": "code",
   "execution_count": 30,
   "id": "c90b1928",
   "metadata": {},
   "outputs": [
    {
     "data": {
      "text/plain": [
       "<AxesSubplot:title={'center':'Class distribution after applying SMOTE Tomek'}, xlabel='Blood donating'>"
      ]
     },
     "execution_count": 30,
     "metadata": {},
     "output_type": "execute_result"
    },
    {
     "data": {
      "image/png": "[encoded data removed]",
      "text/plain": [
       "<Figure size 432x288 with 1 Axes>"
      ]
     },
     "metadata": {
      "needs_background": "light"
     },
     "output_type": "display_data"
    }
   ],
   "source": [
    "from imblearn.combine import SMOTETomek\n",
    "smt_tomek = SMOTETomek(random_state=42)\n",
    "x_resample, y_resample = smt_tomek.fit_resample(x_train, y_train)\n",
    "# Check labels in traning dataset after SMOTE\n",
    "pd.Series(y_resample) \\\n",
    ".value_counts() \\\n",
    ".plot(kind='bar', title='Class distribution after applying SMOTE Tomek', xlabel='Blood donating')"
   ]
  },
  {
   "cell_type": "markdown",
   "id": "f674a1a2",
   "metadata": {},
   "source": [
    "### Models - DT, max_depth = 2"
   ]
  },
  {
   "cell_type": "code",
   "execution_count": 31,
   "id": "5ee8f479",
   "metadata": {},
   "outputs": [
    {
     "name": "stdout",
     "output_type": "stream",
     "text": [
      "tranfusion_ID3_DT_2.skops\n"
     ]
    }
   ],
   "source": [
    "# ID3 - Default\n",
    "model = 'ID3'\n",
    "dataset = 'tranfusion'\n",
    "discretizer = 'DT'\n",
    "disc_param = 'max_depth = 2'\n",
    "\n",
    "f = open(\"tranfusion_supervised_disc_models.txt\", \"a\")\n",
    "import time\n",
    "start = time.time() # For measuring time execution\n",
    "\n",
    "model_id3 = Id3Estimator()\n",
    "model_id3.fit(x_resample, y_resample)\n",
    "\n",
    "# Testing\n",
    "y_pred_id3 = model_id3.predict(x_test)\n",
    "print(f'Models results: model {model}, dataset {dataset}, discretization {discretizer} with parameter {disc_param}', \n",
    "      file = f)\n",
    "print('Classification report', file = f)\n",
    "print(classification_report(y_test, y_pred_id3), file = f)\n",
    "\n",
    "from imblearn.metrics import geometric_mean_score as gmean\n",
    "print('G-mean:', gmean(y_test, y_pred_id3),file = f)\n",
    "\n",
    "end = time.time()\n",
    "print(f'Time for training model {model}- default, {disc}, max_depth = {max_depth} is: {end - start}.', file = f) # Total time execution\n",
    "print('=='*20, file = f)\n",
    "f.close()\n",
    "\n",
    "# Save models\n",
    "import skops.io as sio\n",
    "model_name = f\"{dataset}_{model}_{discretizer}_{max_depth}.skops\"\n",
    "print(model_name)\n",
    "obj = sio.dump(model_id3, model_name)"
   ]
  },
  {
   "cell_type": "code",
   "execution_count": 32,
   "id": "7ee5c140",
   "metadata": {},
   "outputs": [
    {
     "name": "stdout",
     "output_type": "stream",
     "text": [
      "tranfusion_CNB_DT_2.sav\n"
     ]
    },
    {
     "data": {
      "text/plain": [
       "['tranfusion_CNB_DT_2.sav']"
      ]
     },
     "execution_count": 32,
     "metadata": {},
     "output_type": "execute_result"
    }
   ],
   "source": [
    "# Naive Bayes - pass number of categories in min_categories\n",
    "model = 'CNB'\n",
    "dataset = 'tranfusion'\n",
    "discretizer = 'DT'\n",
    "disc_param = 'max_depth = 2'\n",
    "\n",
    "f = open(\"tranfusion_supervised_disc_models.txt\", \"a\")\n",
    "import time\n",
    "start = time.time() # For measuring time execution\n",
    "\n",
    "model_nb = CategoricalNB(min_categories = n_categories)\n",
    "model_nb.fit(x_resample, y_resample)\n",
    "\n",
    "# Testing\n",
    "y_pred_nb = model_nb.predict(x_test)\n",
    "model_nb.classes_\n",
    "print(f'Models results: model {model}, dataset {dataset}, discretization {discretizer} with parameter {disc_param}', \n",
    "      file = f)\n",
    "print('Classification report', file = f)\n",
    "print(classification_report(y_test, y_pred_nb), file = f)\n",
    "\n",
    "from imblearn.metrics import geometric_mean_score as gmean\n",
    "print('G-mean:', gmean(y_test, y_pred_nb),file = f)\n",
    "\n",
    "end = time.time()\n",
    "print(f'Time for training model {model}- default, {disc}, max_depth = {max_depth} is: {end - start}.', file = f) # Total time execution\n",
    "print('=='*20, file = f)\n",
    "f.close()\n",
    "\n",
    "# Save models\n",
    "import joblib\n",
    "filename = f\"{dataset}_{model}_{discretizer}_{max_depth}.sav\"\n",
    "print(filename)\n",
    "joblib.dump(model_nb, filename)"
   ]
  },
  {
   "cell_type": "code",
   "execution_count": 33,
   "id": "3bc109f0",
   "metadata": {},
   "outputs": [
    {
     "name": "stdout",
     "output_type": "stream",
     "text": [
      "tranfusion_KNN-Hamming_DT_2.skops\n"
     ]
    }
   ],
   "source": [
    "# Knn-Hamming complete code\n",
    "\n",
    "model = 'KNN-Hamming'\n",
    "dataset = 'tranfusion'\n",
    "discretizer = 'DT'\n",
    "disc_param = 'max_depth = 2'\n",
    "\n",
    "f = open(\"tranfusion_supervised_disc_models.txt\", \"a\")\n",
    "import time\n",
    "start = time.time() # For measuring time execution\n",
    "\n",
    "# Knn-Hamming complete code\n",
    "knn_hamming = KNeighborsClassifier(n_neighbors=3, metric='hamming', algorithm='auto')\n",
    "knn_hamming.fit(x_resample, y_resample)\n",
    "\n",
    "# Testing\n",
    "y_pred_knn = knn_hamming.predict(x_test)\n",
    "knn_hamming.classes_\n",
    "print(f'Models results: model {model}, dataset {dataset}, discretization {discretizer} with parameter {disc_param}', \n",
    "      file = f)\n",
    "print('Classification report', file = f)\n",
    "print(classification_report(y_test, y_pred_knn), file = f)\n",
    "\n",
    "from imblearn.metrics import geometric_mean_score as gmean\n",
    "print('G-mean:', gmean(y_test, y_pred_knn),file = f)\n",
    "\n",
    "end = time.time()\n",
    "print(f'Time for training model {model}- default, {disc}, max_depth = {max_depth} is: {end - start}.', file = f) # Total time execution\n",
    "print('=='*20, file = f)\n",
    "f.close()\n",
    "\n",
    "# Save models\n",
    "import skops.io as sio\n",
    "model_name = f\"{dataset}_{model}_{discretizer}_{max_depth}.skops\"\n",
    "print(model_name)\n",
    "obj = sio.dump(knn_hamming, model_name)"
   ]
  },
  {
   "cell_type": "markdown",
   "id": "ca03cff4",
   "metadata": {},
   "source": [
    "## 2.2 Decision Tree, max_depth = 3"
   ]
  },
  {
   "cell_type": "markdown",
   "id": "b3c786d9",
   "metadata": {},
   "source": [
    "### Data prep"
   ]
  },
  {
   "cell_type": "code",
   "execution_count": 34,
   "id": "7cfd7736",
   "metadata": {},
   "outputs": [
    {
     "name": "stdout",
     "output_type": "stream",
     "text": [
      "<class 'pandas.core.frame.DataFrame'>\n",
      "RangeIndex: 748 entries, 0 to 747\n",
      "Data columns (total 5 columns):\n",
      " #   Column     Non-Null Count  Dtype\n",
      "---  ------     --------------  -----\n",
      " 0   recency    748 non-null    int64\n",
      " 1   frequency  748 non-null    int64\n",
      " 2   monetary   748 non-null    int64\n",
      " 3   time       748 non-null    int64\n",
      " 4   label      748 non-null    int64\n",
      "dtypes: int64(5)\n",
      "memory usage: 29.3 KB\n",
      "(748, 4) (748,)\n",
      "Class representation - original:  Counter({0: 570, 1: 178})\n",
      "Class representation - training data:  Counter({0: 428, 1: 133})\n",
      "Class representation - testing data:  Counter({0: 142, 1: 45})\n"
     ]
    }
   ],
   "source": [
    "# Complete code for data preperation\n",
    "# Read data\n",
    "df_dt2 = pd.read_csv('DT_medium_discretized_tranfusion.csv')\n",
    "disc = 'DT'\n",
    "max_depth = 3\n",
    "\n",
    "df_dt2.info()\n",
    "data = df_dt2.values\n",
    "data.shape\n",
    "\n",
    "features = df_dt2.drop('label', axis = 1).columns\n",
    "\n",
    "# separate the data into X and y\n",
    "X = data[:, : len(features)]\n",
    "Y = data[:,-1]\n",
    "\n",
    "print(X.shape, Y.shape)\n",
    "\n",
    "# Split train test\n",
    "x_train, x_test, y_train, y_test = train_test_split(X, Y, test_size=0.25, random_state = 30, stratify = Y)\n",
    "\n",
    "# Check representation of class\n",
    "print('Class representation - original: ', Counter(Y)) \n",
    "print('Class representation - training data: ', Counter(y_train)) \n",
    "print('Class representation - testing data: ', Counter(y_test)) \n",
    "\n",
    "# Check number of categories for features\n",
    "n_categories = df_dt2[features].nunique()"
   ]
  },
  {
   "cell_type": "code",
   "execution_count": 35,
   "id": "99b759e7",
   "metadata": {},
   "outputs": [
    {
     "data": {
      "text/plain": [
       "<AxesSubplot:title={'center':'Class distribution after applying SMOTE Tomek'}, xlabel='Blood donating'>"
      ]
     },
     "execution_count": 35,
     "metadata": {},
     "output_type": "execute_result"
    },
    {
     "data": {
      "image/png": "[encoded data removed]",
      "text/plain": [
       "<Figure size 432x288 with 1 Axes>"
      ]
     },
     "metadata": {
      "needs_background": "light"
     },
     "output_type": "display_data"
    }
   ],
   "source": [
    "from imblearn.combine import SMOTETomek\n",
    "smt_tomek = SMOTETomek(random_state=42)\n",
    "x_resample, y_resample = smt_tomek.fit_resample(x_train, y_train)\n",
    "# Check labels in traning dataset after SMOTE\n",
    "pd.Series(y_resample) \\\n",
    ".value_counts() \\\n",
    ".plot(kind='bar', title='Class distribution after applying SMOTE Tomek', xlabel='Blood donating')"
   ]
  },
  {
   "cell_type": "markdown",
   "id": "f538866e",
   "metadata": {},
   "source": [
    "### Models, DT, max_depth = 3"
   ]
  },
  {
   "cell_type": "code",
   "execution_count": 36,
   "id": "6e91ceaf",
   "metadata": {},
   "outputs": [
    {
     "name": "stdout",
     "output_type": "stream",
     "text": [
      "tranfusion_ID3_DT_3.skops\n"
     ]
    }
   ],
   "source": [
    "# ID3 - Default\n",
    "model = 'ID3'\n",
    "dataset = 'tranfusion'\n",
    "discretizer = 'DT'\n",
    "disc_param = 'max_depth = 3'\n",
    "\n",
    "f = open(\"tranfusion_supervised_disc_models.txt\", \"a\")\n",
    "import time\n",
    "start = time.time() # For measuring time execution\n",
    "\n",
    "model_id3 = Id3Estimator()\n",
    "model_id3.fit(x_resample, y_resample)\n",
    "\n",
    "# Testing\n",
    "y_pred_id3 = model_id3.predict(x_test)\n",
    "print(f'Models results: model {model}, dataset {dataset}, discretization {discretizer} with parameter {disc_param}', \n",
    "      file = f)\n",
    "print('Classification report', file = f)\n",
    "print(classification_report(y_test, y_pred_id3), file = f)\n",
    "\n",
    "from imblearn.metrics import geometric_mean_score as gmean\n",
    "print('G-mean:', gmean(y_test, y_pred_id3),file = f)\n",
    "\n",
    "end = time.time()\n",
    "print(f'Time for training model {model}- default, {disc}, max_depth = {max_depth} is: {end - start}.', file = f) # Total time execution\n",
    "print('=='*20, file = f)\n",
    "f.close()\n",
    "\n",
    "# Save models\n",
    "import skops.io as sio\n",
    "model_name = f\"{dataset}_{model}_{discretizer}_{max_depth}.skops\"\n",
    "print(model_name)\n",
    "obj = sio.dump(model_id3, model_name)"
   ]
  },
  {
   "cell_type": "code",
   "execution_count": 37,
   "id": "cbdc94a9",
   "metadata": {},
   "outputs": [
    {
     "name": "stdout",
     "output_type": "stream",
     "text": [
      "tranfusion_CNB_DT_3.sav\n"
     ]
    },
    {
     "data": {
      "text/plain": [
       "['tranfusion_CNB_DT_3.sav']"
      ]
     },
     "execution_count": 37,
     "metadata": {},
     "output_type": "execute_result"
    }
   ],
   "source": [
    "# Naive Bayes - pass number of categories in min_categories\n",
    "model = 'CNB'\n",
    "dataset = 'tranfusion'\n",
    "discretizer = 'DT'\n",
    "disc_param = 'max_depth = 3'\n",
    "\n",
    "f = open(\"tranfusion_supervised_disc_models.txt\", \"a\")\n",
    "import time\n",
    "start = time.time() # For measuring time execution\n",
    "\n",
    "model_nb = CategoricalNB(min_categories = n_categories)\n",
    "model_nb.fit(x_resample, y_resample)\n",
    "\n",
    "# Testing\n",
    "y_pred_nb = model_nb.predict(x_test)\n",
    "model_nb.classes_\n",
    "print(f'Models results: model {model}, dataset {dataset}, discretization {discretizer} with parameter {disc_param}', \n",
    "      file = f)\n",
    "print('Classification report', file = f)\n",
    "print(classification_report(y_test, y_pred_nb), file = f)\n",
    "\n",
    "from imblearn.metrics import geometric_mean_score as gmean\n",
    "print('G-mean:', gmean(y_test, y_pred_nb),file = f)\n",
    "\n",
    "end = time.time()\n",
    "print(f'Time for training model {model}- default, {disc}, max_depth = {max_depth} is: {end - start}.', file = f) # Total time execution\n",
    "print('=='*20, file = f)\n",
    "f.close()\n",
    "\n",
    "# Save models\n",
    "import joblib\n",
    "filename = f\"{dataset}_{model}_{discretizer}_{max_depth}.sav\"\n",
    "print(filename)\n",
    "joblib.dump(model_nb, filename)"
   ]
  },
  {
   "cell_type": "code",
   "execution_count": 38,
   "id": "5da6891b",
   "metadata": {},
   "outputs": [
    {
     "name": "stdout",
     "output_type": "stream",
     "text": [
      "tranfusion_KNN-Hamming_DT_3.skops\n"
     ]
    }
   ],
   "source": [
    "# Knn-Hamming complete code\n",
    "\n",
    "model = 'KNN-Hamming'\n",
    "dataset = 'tranfusion'\n",
    "discretizer = 'DT'\n",
    "disc_param = 'max_depth = 3'\n",
    "\n",
    "f = open(\"tranfusion_supervised_disc_models.txt\", \"a\")\n",
    "import time\n",
    "start = time.time() # For measuring time execution\n",
    "\n",
    "# Knn-Hamming complete code\n",
    "knn_hamming = KNeighborsClassifier(n_neighbors=3, metric='hamming', algorithm='auto')\n",
    "knn_hamming.fit(x_resample, y_resample)\n",
    "\n",
    "# Testing\n",
    "y_pred_knn = knn_hamming.predict(x_test)\n",
    "knn_hamming.classes_\n",
    "print(f'Models results: model {model}, dataset {dataset}, discretization {discretizer} with parameter {disc_param}', \n",
    "      file = f)\n",
    "print('Classification report', file = f)\n",
    "print(classification_report(y_test, y_pred_knn), file = f)\n",
    "\n",
    "from imblearn.metrics import geometric_mean_score as gmean\n",
    "print('G-mean:', gmean(y_test, y_pred_knn),file = f)\n",
    "\n",
    "end = time.time()\n",
    "print(f'Time for training model {model}- default, {disc}, max_depth = {max_depth} is: {end - start}.', file = f) # Total time execution\n",
    "print('=='*20, file = f)\n",
    "f.close()\n",
    "\n",
    "# Save models\n",
    "import skops.io as sio\n",
    "model_name = f\"{dataset}_{model}_{discretizer}_{max_depth}.skops\"\n",
    "print(model_name)\n",
    "obj = sio.dump(knn_hamming, model_name)"
   ]
  },
  {
   "cell_type": "markdown",
   "id": "2824762f",
   "metadata": {},
   "source": [
    "## 2.3 Decision Tree, max_depth = 4"
   ]
  },
  {
   "cell_type": "markdown",
   "id": "1f96c5e2",
   "metadata": {},
   "source": [
    "### Dataprep"
   ]
  },
  {
   "cell_type": "code",
   "execution_count": 39,
   "id": "172e7788",
   "metadata": {},
   "outputs": [
    {
     "name": "stdout",
     "output_type": "stream",
     "text": [
      "<class 'pandas.core.frame.DataFrame'>\n",
      "RangeIndex: 748 entries, 0 to 747\n",
      "Data columns (total 5 columns):\n",
      " #   Column     Non-Null Count  Dtype\n",
      "---  ------     --------------  -----\n",
      " 0   recency    748 non-null    int64\n",
      " 1   frequency  748 non-null    int64\n",
      " 2   monetary   748 non-null    int64\n",
      " 3   time       748 non-null    int64\n",
      " 4   label      748 non-null    int64\n",
      "dtypes: int64(5)\n",
      "memory usage: 29.3 KB\n",
      "(748, 4) (748,)\n",
      "Class representation - original:  Counter({0: 570, 1: 178})\n",
      "Class representation - training data:  Counter({0: 428, 1: 133})\n",
      "Class representation - testing data:  Counter({0: 142, 1: 45})\n"
     ]
    }
   ],
   "source": [
    "# Complete code for data preperation\n",
    "# Read data\n",
    "df_dt3 = pd.read_csv('DT_large_discretized_tranfusion.csv')\n",
    "disc = 'DT'\n",
    "max_depth = 4\n",
    "\n",
    "df_dt3.info()\n",
    "data = df_dt3.values\n",
    "data.shape\n",
    "\n",
    "features = df_dt3.drop('label', axis = 1).columns\n",
    "\n",
    "# separate the data into X and y\n",
    "X = data[:, : len(features)]\n",
    "Y = data[:,-1]\n",
    "\n",
    "print(X.shape, Y.shape)\n",
    "\n",
    "# Split train test\n",
    "x_train, x_test, y_train, y_test = train_test_split(X, Y, test_size=0.25, random_state = 30, stratify = Y)\n",
    "\n",
    "# Check representation of class\n",
    "print('Class representation - original: ', Counter(Y)) \n",
    "print('Class representation - training data: ', Counter(y_train)) \n",
    "print('Class representation - testing data: ', Counter(y_test)) \n",
    "\n",
    "# Check number of categories for features\n",
    "n_categories = df_dt3[features].nunique()"
   ]
  },
  {
   "cell_type": "code",
   "execution_count": 40,
   "id": "c8020914",
   "metadata": {},
   "outputs": [
    {
     "data": {
      "text/plain": [
       "<AxesSubplot:title={'center':'Class distribution after applying SMOTE Tomek'}, xlabel='Blood donating'>"
      ]
     },
     "execution_count": 40,
     "metadata": {},
     "output_type": "execute_result"
    },
    {
     "data": {
      "image/png": "[encoded data removed]",
      "text/plain": [
       "<Figure size 432x288 with 1 Axes>"
      ]
     },
     "metadata": {
      "needs_background": "light"
     },
     "output_type": "display_data"
    }
   ],
   "source": [
    "from imblearn.combine import SMOTETomek\n",
    "smt_tomek = SMOTETomek(random_state=42)\n",
    "x_resample, y_resample = smt_tomek.fit_resample(x_train, y_train)\n",
    "# Check labels in traning dataset after SMOTE\n",
    "pd.Series(y_resample) \\\n",
    ".value_counts() \\\n",
    ".plot(kind='bar', title='Class distribution after applying SMOTE Tomek', xlabel='Blood donating')"
   ]
  },
  {
   "cell_type": "markdown",
   "id": "ce6a8a5e",
   "metadata": {},
   "source": [
    "### Models, DT, max_depth = 4"
   ]
  },
  {
   "cell_type": "code",
   "execution_count": 41,
   "id": "69360470",
   "metadata": {},
   "outputs": [
    {
     "name": "stdout",
     "output_type": "stream",
     "text": [
      "tranfusion_ID3_DT_4.skops\n"
     ]
    }
   ],
   "source": [
    "# ID3 - Default\n",
    "model = 'ID3'\n",
    "dataset = 'tranfusion'\n",
    "discretizer = 'DT'\n",
    "disc_param = 'max_depth = 4'\n",
    "\n",
    "f = open(\"tranfusion_supervised_disc_models.txt\", \"a\")\n",
    "import time\n",
    "start = time.time() # For measuring time execution\n",
    "\n",
    "model_id3 = Id3Estimator()\n",
    "model_id3.fit(x_resample, y_resample)\n",
    "\n",
    "# Testing\n",
    "y_pred_id3 = model_id3.predict(x_test)\n",
    "print(f'Models results: model {model}, dataset {dataset}, discretization {discretizer} with parameter {disc_param}', \n",
    "      file = f)\n",
    "print('Classification report', file = f)\n",
    "print(classification_report(y_test, y_pred_id3), file = f)\n",
    "\n",
    "from imblearn.metrics import geometric_mean_score as gmean\n",
    "print('G-mean:', gmean(y_test, y_pred_id3),file = f)\n",
    "\n",
    "end = time.time()\n",
    "print(f'Time for training model {model}- default, {disc}, max_depth = {max_depth} is: {end - start}.', file = f) # Total time execution\n",
    "print('=='*20, file = f)\n",
    "f.close()\n",
    "\n",
    "# Save models\n",
    "import skops.io as sio\n",
    "model_name = f\"{dataset}_{model}_{discretizer}_{max_depth}.skops\"\n",
    "print(model_name)\n",
    "obj = sio.dump(model_id3, model_name)"
   ]
  },
  {
   "cell_type": "code",
   "execution_count": 42,
   "id": "c22bfdc4",
   "metadata": {},
   "outputs": [
    {
     "name": "stdout",
     "output_type": "stream",
     "text": [
      "tranfusion_CNB_DT_4.sav\n"
     ]
    },
    {
     "data": {
      "text/plain": [
       "['tranfusion_CNB_DT_4.sav']"
      ]
     },
     "execution_count": 42,
     "metadata": {},
     "output_type": "execute_result"
    }
   ],
   "source": [
    "# Naive Bayes - pass number of categories in min_categories\n",
    "model = 'CNB'\n",
    "dataset = 'tranfusion'\n",
    "discretizer = 'DT'\n",
    "disc_param = 'max_depth = 4'\n",
    "\n",
    "f = open(\"tranfusion_supervised_disc_models.txt\", \"a\")\n",
    "import time\n",
    "start = time.time() # For measuring time execution\n",
    "\n",
    "model_nb = CategoricalNB(min_categories = n_categories)\n",
    "model_nb.fit(x_resample, y_resample)\n",
    "\n",
    "# Testing\n",
    "y_pred_nb = model_nb.predict(x_test)\n",
    "model_nb.classes_\n",
    "print(f'Models results: model {model}, dataset {dataset}, discretization {discretizer} with parameter {disc_param}', \n",
    "      file = f)\n",
    "print('Classification report', file = f)\n",
    "print(classification_report(y_test, y_pred_nb), file = f)\n",
    "\n",
    "from imblearn.metrics import geometric_mean_score as gmean\n",
    "print('G-mean:', gmean(y_test, y_pred_nb),file = f)\n",
    "\n",
    "end = time.time()\n",
    "print(f'Time for training model {model}- default, {disc}, max_depth = {max_depth} is: {end - start}.', file = f) # Total time execution\n",
    "print('=='*20, file = f)\n",
    "f.close()\n",
    "\n",
    "# Save models\n",
    "import joblib\n",
    "filename = f\"{dataset}_{model}_{discretizer}_{max_depth}.sav\"\n",
    "print(filename)\n",
    "joblib.dump(model_nb, filename)"
   ]
  },
  {
   "cell_type": "code",
   "execution_count": 43,
   "id": "c08c513b",
   "metadata": {},
   "outputs": [
    {
     "name": "stdout",
     "output_type": "stream",
     "text": [
      "tranfusion_KNN-Hamming_DT_4.skops\n"
     ]
    }
   ],
   "source": [
    "# Knn-Hamming complete code\n",
    "\n",
    "model = 'KNN-Hamming'\n",
    "dataset = 'tranfusion'\n",
    "discretizer = 'DT'\n",
    "disc_param = 'max_depth = 4'\n",
    "\n",
    "f = open(\"tranfusion_supervised_disc_models.txt\", \"a\")\n",
    "import time\n",
    "start = time.time() # For measuring time execution\n",
    "\n",
    "# Knn-Hamming complete code\n",
    "knn_hamming = KNeighborsClassifier(n_neighbors=3, metric='hamming', algorithm='auto')\n",
    "knn_hamming.fit(x_resample, y_resample)\n",
    "\n",
    "# Testing\n",
    "y_pred_knn = knn_hamming.predict(x_test)\n",
    "knn_hamming.classes_\n",
    "print(f'Models results: model {model}, dataset {dataset}, discretization {discretizer} with parameter {disc_param}', \n",
    "      file = f)\n",
    "print('Classification report', file = f)\n",
    "print(classification_report(y_test, y_pred_knn), file = f)\n",
    "\n",
    "from imblearn.metrics import geometric_mean_score as gmean\n",
    "print('G-mean:', gmean(y_test, y_pred_knn),file = f)\n",
    "\n",
    "end = time.time()\n",
    "print(f'Time for training model {model}- default, {disc}, max_depth = {max_depth} is: {end - start}.', file = f) # Total time execution\n",
    "print('=='*20, file = f)\n",
    "f.close()\n",
    "\n",
    "# Save models\n",
    "import skops.io as sio\n",
    "model_name = f\"{dataset}_{model}_{discretizer}_{max_depth}.skops\"\n",
    "print(model_name)\n",
    "obj = sio.dump(knn_hamming, model_name)"
   ]
  },
  {
   "cell_type": "markdown",
   "id": "74265a0a",
   "metadata": {},
   "source": [
    "## 2.3 Decision Tree, max_depth = 5"
   ]
  },
  {
   "cell_type": "markdown",
   "id": "53a0191b",
   "metadata": {},
   "source": [
    "### Data prep"
   ]
  },
  {
   "cell_type": "code",
   "execution_count": 44,
   "id": "e0a99473",
   "metadata": {},
   "outputs": [
    {
     "name": "stdout",
     "output_type": "stream",
     "text": [
      "<class 'pandas.core.frame.DataFrame'>\n",
      "RangeIndex: 748 entries, 0 to 747\n",
      "Data columns (total 5 columns):\n",
      " #   Column     Non-Null Count  Dtype\n",
      "---  ------     --------------  -----\n",
      " 0   recency    748 non-null    int64\n",
      " 1   frequency  748 non-null    int64\n",
      " 2   monetary   748 non-null    int64\n",
      " 3   time       748 non-null    int64\n",
      " 4   label      748 non-null    int64\n",
      "dtypes: int64(5)\n",
      "memory usage: 29.3 KB\n",
      "(748, 4) (748,)\n",
      "Class representation - original:  Counter({0: 570, 1: 178})\n",
      "Class representation - training data:  Counter({0: 428, 1: 133})\n",
      "Class representation - testing data:  Counter({0: 142, 1: 45})\n"
     ]
    }
   ],
   "source": [
    "# Complete code for data preperation\n",
    "# Read data\n",
    "df_dt4 = pd.read_csv('DT_verylarge_discretized_tranfusion.csv')\n",
    "disc = 'DT'\n",
    "max_depth = 5\n",
    "\n",
    "df_dt4.info()\n",
    "data = df_dt4.values\n",
    "data.shape\n",
    "\n",
    "features = df_dt4.drop('label', axis = 1).columns\n",
    "\n",
    "# separate the data into X and y\n",
    "X = data[:, : len(features)]\n",
    "Y = data[:,-1]\n",
    "\n",
    "print(X.shape, Y.shape)\n",
    "\n",
    "# Split train test\n",
    "x_train, x_test, y_train, y_test = train_test_split(X, Y, test_size=0.25, random_state = 30, stratify = Y)\n",
    "\n",
    "# Check representation of class\n",
    "print('Class representation - original: ', Counter(Y)) \n",
    "print('Class representation - training data: ', Counter(y_train)) \n",
    "print('Class representation - testing data: ', Counter(y_test)) \n",
    "\n",
    "# Check number of categories for features\n",
    "n_categories = df_dt4[features].nunique()"
   ]
  },
  {
   "cell_type": "code",
   "execution_count": 45,
   "id": "42e7c08b",
   "metadata": {},
   "outputs": [
    {
     "data": {
      "text/plain": [
       "<AxesSubplot:title={'center':'Class distribution after applying SMOTE Tomek'}, xlabel='Blood donating'>"
      ]
     },
     "execution_count": 45,
     "metadata": {},
     "output_type": "execute_result"
    },
    {
     "data": {
      "image/png": "[encoded data removed]",
      "text/plain": [
       "<Figure size 432x288 with 1 Axes>"
      ]
     },
     "metadata": {
      "needs_background": "light"
     },
     "output_type": "display_data"
    }
   ],
   "source": [
    "from imblearn.combine import SMOTETomek\n",
    "smt_tomek = SMOTETomek(random_state=42)\n",
    "x_resample, y_resample = smt_tomek.fit_resample(x_train, y_train)\n",
    "# Check labels in traning dataset after SMOTE\n",
    "pd.Series(y_resample) \\\n",
    ".value_counts() \\\n",
    ".plot(kind='bar', title='Class distribution after applying SMOTE Tomek', xlabel='Blood donating')"
   ]
  },
  {
   "cell_type": "markdown",
   "id": "b52d371c",
   "metadata": {},
   "source": [
    "### Models, DT, max_depth = 5"
   ]
  },
  {
   "cell_type": "code",
   "execution_count": 46,
   "id": "bf8d11d6",
   "metadata": {},
   "outputs": [
    {
     "name": "stdout",
     "output_type": "stream",
     "text": [
      "tranfusion_ID3_DT_5.skops\n"
     ]
    }
   ],
   "source": [
    "# ID3 - Default\n",
    "model = 'ID3'\n",
    "dataset = 'tranfusion'\n",
    "discretizer = 'DT'\n",
    "disc_param = 'max_depth = 5'\n",
    "\n",
    "f = open(\"tranfusion_supervised_disc_models.txt\", \"a\")\n",
    "import time\n",
    "start = time.time() # For measuring time execution\n",
    "\n",
    "model_id3 = Id3Estimator()\n",
    "model_id3.fit(x_resample, y_resample)\n",
    "\n",
    "# Testing\n",
    "y_pred_id3 = model_id3.predict(x_test)\n",
    "print(f'Models results: model {model}, dataset {dataset}, discretization {discretizer} with parameter {disc_param}', \n",
    "      file = f)\n",
    "print('Classification report', file = f)\n",
    "print(classification_report(y_test, y_pred_id3), file = f)\n",
    "\n",
    "from imblearn.metrics import geometric_mean_score as gmean\n",
    "print('G-mean:', gmean(y_test, y_pred_id3),file = f)\n",
    "\n",
    "end = time.time()\n",
    "print(f'Time for training model {model}- default, {disc}, max_depth = {max_depth} is: {end - start}.', file = f) # Total time execution\n",
    "print('=='*20, file = f)\n",
    "f.close()\n",
    "\n",
    "# Save models\n",
    "import skops.io as sio\n",
    "model_name = f\"{dataset}_{model}_{discretizer}_{max_depth}.skops\"\n",
    "print(model_name)\n",
    "obj = sio.dump(model_id3, model_name)"
   ]
  },
  {
   "cell_type": "code",
   "execution_count": 47,
   "id": "1aeb5c57",
   "metadata": {},
   "outputs": [
    {
     "name": "stdout",
     "output_type": "stream",
     "text": [
      "tranfusion_CNB_DT_5.sav\n"
     ]
    },
    {
     "data": {
      "text/plain": [
       "['tranfusion_CNB_DT_5.sav']"
      ]
     },
     "execution_count": 47,
     "metadata": {},
     "output_type": "execute_result"
    }
   ],
   "source": [
    "# Naive Bayes - pass number of categories in min_categories\n",
    "model = 'CNB'\n",
    "dataset = 'tranfusion'\n",
    "discretizer = 'DT'\n",
    "disc_param = 'max_depth = 5'\n",
    "\n",
    "f = open(\"tranfusion_supervised_disc_models.txt\", \"a\")\n",
    "import time\n",
    "start = time.time() # For measuring time execution\n",
    "\n",
    "model_nb = CategoricalNB(min_categories = n_categories)\n",
    "model_nb.fit(x_resample, y_resample)\n",
    "\n",
    "# Testing\n",
    "y_pred_nb = model_nb.predict(x_test)\n",
    "model_nb.classes_\n",
    "print(f'Models results: model {model}, dataset {dataset}, discretization {discretizer} with parameter {disc_param}', \n",
    "      file = f)\n",
    "print('Classification report', file = f)\n",
    "print(classification_report(y_test, y_pred_nb), file = f)\n",
    "\n",
    "from imblearn.metrics import geometric_mean_score as gmean\n",
    "print('G-mean:', gmean(y_test, y_pred_nb),file = f)\n",
    "\n",
    "end = time.time()\n",
    "print(f'Time for training model {model}- default, {disc}, max_depth = {max_depth} is: {end - start}.', file = f) # Total time execution\n",
    "print('=='*20, file = f)\n",
    "f.close()\n",
    "\n",
    "# Save models\n",
    "import joblib\n",
    "filename = f\"{dataset}_{model}_{discretizer}_{max_depth}.sav\"\n",
    "print(filename)\n",
    "joblib.dump(model_nb, filename)"
   ]
  },
  {
   "cell_type": "code",
   "execution_count": 48,
   "id": "4c39dbab",
   "metadata": {},
   "outputs": [
    {
     "name": "stdout",
     "output_type": "stream",
     "text": [
      "tranfusion_KNN-Hamming_DT_5.skops\n"
     ]
    }
   ],
   "source": [
    "# Knn-Hamming complete code\n",
    "\n",
    "model = 'KNN-Hamming'\n",
    "dataset = 'tranfusion'\n",
    "discretizer = 'DT'\n",
    "disc_param = 'max_depth = 5'\n",
    "\n",
    "f = open(\"tranfusion_supervised_disc_models.txt\", \"a\")\n",
    "import time\n",
    "start = time.time() # For measuring time execution\n",
    "\n",
    "# Knn-Hamming complete code\n",
    "knn_hamming = KNeighborsClassifier(n_neighbors=3, metric='hamming', algorithm='auto')\n",
    "knn_hamming.fit(x_resample, y_resample)\n",
    "\n",
    "# Testing\n",
    "y_pred_knn = knn_hamming.predict(x_test)\n",
    "knn_hamming.classes_\n",
    "print(f'Models results: model {model}, dataset {dataset}, discretization {discretizer} with parameter {disc_param}', \n",
    "      file = f)\n",
    "print('Classification report', file = f)\n",
    "print(classification_report(y_test, y_pred_knn), file = f)\n",
    "\n",
    "from imblearn.metrics import geometric_mean_score as gmean\n",
    "print('G-mean:', gmean(y_test, y_pred_knn),file = f)\n",
    "\n",
    "end = time.time()\n",
    "print(f'Time for training model {model}- default, {disc}, max_depth = {max_depth} is: {end - start}.', file = f) # Total time execution\n",
    "print('=='*20, file = f)\n",
    "f.close()\n",
    "\n",
    "# Save models\n",
    "import skops.io as sio\n",
    "model_name = f\"{dataset}_{model}_{discretizer}_{max_depth}.skops\"\n",
    "print(model_name)\n",
    "obj = sio.dump(knn_hamming, model_name)"
   ]
  }
 ],
 "metadata": {
  "kernelspec": {
   "display_name": "Python 3 (ipykernel)",
   "language": "python",
   "name": "python3"
  },
  "language_info": {
   "codemirror_mode": {
    "name": "ipython",
    "version": 3
   },
   "file_extension": ".py",
   "mimetype": "text/x-python",
   "name": "python",
   "nbconvert_exporter": "python",
   "pygments_lexer": "ipython3",
   "version": "3.9.12"
  },
  "vscode": {
   "interpreter": {
    "hash": "361241f9a80b796977997c633c663aa5cf3bdc315ac376a4c38a1a056ab6874d"
   }
  }
 },
 "nbformat": 4,
 "nbformat_minor": 5
}
