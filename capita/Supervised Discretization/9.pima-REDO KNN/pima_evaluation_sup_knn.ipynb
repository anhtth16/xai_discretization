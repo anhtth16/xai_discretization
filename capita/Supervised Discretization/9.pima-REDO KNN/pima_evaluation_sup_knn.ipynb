{
 "cells": [
  {
   "cell_type": "markdown",
   "id": "25f531ad",
   "metadata": {},
   "source": [
    "# Bias - Variance Decomposition - Supervised discretizer\n",
    "\n",
    "- Dataset: pima\n",
    "- Discretization: supervised: DecisionTree\n",
    "- Model: Knn-Hamming\n",
    "- Updated: 27/04/23\n",
    "\n",
    "Process:\n",
    "- Load pre-trained model (skops)\n",
    "- Run bias-variance decomposition\n",
    "- Save result to \"pima_evaluation_sup_knn.txt\"\n"
   ]
  },
  {
   "cell_type": "code",
   "execution_count": 1,
   "id": "41ccebb9",
   "metadata": {},
   "outputs": [],
   "source": [
    "# Import \n",
    "import pandas as pd\n",
    "import numpy as np\n",
    "\n",
    "import skops.io as sio\n",
    "import mlxtend\n",
    "from collections import Counter"
   ]
  },
  {
   "cell_type": "code",
   "execution_count": 2,
   "id": "7b563481",
   "metadata": {},
   "outputs": [],
   "source": [
    "# For model evaluation\n",
    "from sklearn.model_selection import train_test_split\n",
    "from sklearn.metrics import classification_report\n",
    "from sklearn import metrics\n",
    "import sklearn.metrics as metrics\n",
    "from sklearn.metrics import make_scorer\n",
    "from sklearn.metrics import confusion_matrix\n",
    "from sklearn.metrics import zero_one_loss\n",
    "#This library is used to decompose bias and variance in our models\n",
    "from mlxtend.evaluate import bias_variance_decomp\n",
    "import warnings\n",
    "warnings.filterwarnings('ignore')"
   ]
  },
  {
   "cell_type": "code",
   "execution_count": 3,
   "id": "bfae4107",
   "metadata": {},
   "outputs": [],
   "source": [
    "import six\n",
    "import sys\n",
    "sys.modules['sklearn.externals.six'] = six"
   ]
  },
  {
   "cell_type": "code",
   "execution_count": 4,
   "id": "1506c69d",
   "metadata": {},
   "outputs": [],
   "source": [
    "# Import \n",
    "import skops.io as sio\n",
    "import joblib\n",
    "import mlxtend"
   ]
  },
  {
   "cell_type": "markdown",
   "id": "fd32b5c6",
   "metadata": {},
   "source": [
    "# Decision Tree discretizer"
   ]
  },
  {
   "cell_type": "markdown",
   "id": "b72dcb79",
   "metadata": {},
   "source": [
    "## DT, max_depth = 2"
   ]
  },
  {
   "cell_type": "code",
   "execution_count": 5,
   "id": "170fa18b",
   "metadata": {},
   "outputs": [
    {
     "name": "stdout",
     "output_type": "stream",
     "text": [
      "<class 'pandas.core.frame.DataFrame'>\n",
      "RangeIndex: 768 entries, 0 to 767\n",
      "Data columns (total 9 columns):\n",
      " #   Column                    Non-Null Count  Dtype\n",
      "---  ------                    --------------  -----\n",
      " 0   Pregnancies               768 non-null    int64\n",
      " 1   Glucose                   768 non-null    int64\n",
      " 2   BloodPressure             768 non-null    int64\n",
      " 3   SkinThickness             768 non-null    int64\n",
      " 4   Insulin                   768 non-null    int64\n",
      " 5   BMI                       768 non-null    int64\n",
      " 6   DiabetesPedigreeFunction  768 non-null    int64\n",
      " 7   Age                       768 non-null    int64\n",
      " 8   label                     768 non-null    int64\n",
      "dtypes: int64(9)\n",
      "memory usage: 54.1 KB\n",
      "(768, 8) (768,)\n",
      "Class representation - original:  Counter({0: 500, 1: 268})\n",
      "Class representation - training data:  Counter({0: 375, 1: 201})\n",
      "Class representation - testing data:  Counter({0: 125, 1: 67})\n"
     ]
    }
   ],
   "source": [
    "# Complete code for data preperation\n",
    "# Read data\n",
    "df_dt1 = pd.read_csv('DT_small_discretized_pima.csv')\n",
    "df_dt1.rename(columns={'Outcome':'label'}, inplace=True)\n",
    "disc = 'DT'\n",
    "max_depth = 2\n",
    "\n",
    "df_dt1.info()\n",
    "data = df_dt1.values\n",
    "data.shape\n",
    "\n",
    "features = df_dt1.drop('label', axis = 1).columns\n",
    "\n",
    "# separate the data into X and y\n",
    "X = data[:, : len(features)]\n",
    "Y = data[:,-1]\n",
    "\n",
    "print(X.shape, Y.shape)\n",
    "\n",
    "# Split train test\n",
    "x_train, x_test, y_train, y_test = train_test_split(X, Y, test_size=0.25, random_state = 30, stratify=Y)\n",
    "\n",
    "# Check representation of class\n",
    "print('Class representation - original: ', Counter(Y)) \n",
    "print('Class representation - training data: ', Counter(y_train)) \n",
    "print('Class representation - testing data: ', Counter(y_test)) \n",
    "\n",
    "# Check number of categories for features\n",
    "n_categories = df_dt1[features].nunique()"
   ]
  },
  {
   "cell_type": "code",
   "execution_count": 6,
   "id": "9c570716",
   "metadata": {},
   "outputs": [
    {
     "name": "stdout",
     "output_type": "stream",
     "text": [
      "pima_Knn-Hamming_DT_2.skops\n"
     ]
    }
   ],
   "source": [
    "# Load models\n",
    "model = 'Knn-Hamming'\n",
    "dataset = 'pima'\n",
    "discretizer = 'DT'\n",
    "disc_param = 'max_depth = 2'\n",
    "\n",
    "model_name = f\"{dataset}_{model}_{discretizer}_{max_depth}.skops\"\n",
    "\n",
    "print(model_name)\n",
    "loaded_knn = sio.load(model_name, trusted=True)\n",
    "y_pred_knn = loaded_knn.predict(x_test)"
   ]
  },
  {
   "cell_type": "code",
   "execution_count": 7,
   "id": "382b6786",
   "metadata": {},
   "outputs": [],
   "source": [
    "# Decomposition\n",
    "f = open(\"pima_evaluation_sup_knn.txt\", \"a\")\n",
    "import time\n",
    "start = time.time() # For measuring time execution\n",
    "\n",
    "avg_expected_loss, avg_bias, avg_var = bias_variance_decomp(\n",
    "loaded_knn, x_train, y_train, x_test, y_test,\n",
    "loss='0-1_loss',\n",
    "random_seed=123)\n",
    "#---\n",
    "\n",
    "print(f'Evaluation result: {model}, {discretizer}, {disc_param}', file = f)\n",
    "print('Average expected loss: %.3f' % avg_expected_loss, file = f)\n",
    "print('Average bias: %.3f' % avg_bias, file = f)\n",
    "print('Average variance: %.3f' % avg_var, file = f)\n",
    "print('Sklearn 0-1 loss: %.3f' % zero_one_loss(y_test,y_pred_knn), file = f)\n",
    "\n",
    "end = time.time()\n",
    "print(f'Execution time {model}- default, {disc}, max_depth = {max_depth} is: {end - start}.', file = f) # Total time execution\n",
    "print('=='*20, file = f)\n",
    "f.close()"
   ]
  },
  {
   "cell_type": "markdown",
   "id": "f193d581",
   "metadata": {},
   "source": [
    "## DT, max_depth = 3"
   ]
  },
  {
   "cell_type": "code",
   "execution_count": 8,
   "id": "90230be0",
   "metadata": {},
   "outputs": [
    {
     "name": "stdout",
     "output_type": "stream",
     "text": [
      "<class 'pandas.core.frame.DataFrame'>\n",
      "RangeIndex: 768 entries, 0 to 767\n",
      "Data columns (total 9 columns):\n",
      " #   Column                    Non-Null Count  Dtype\n",
      "---  ------                    --------------  -----\n",
      " 0   Pregnancies               768 non-null    int64\n",
      " 1   Glucose                   768 non-null    int64\n",
      " 2   BloodPressure             768 non-null    int64\n",
      " 3   SkinThickness             768 non-null    int64\n",
      " 4   Insulin                   768 non-null    int64\n",
      " 5   BMI                       768 non-null    int64\n",
      " 6   DiabetesPedigreeFunction  768 non-null    int64\n",
      " 7   Age                       768 non-null    int64\n",
      " 8   label                     768 non-null    int64\n",
      "dtypes: int64(9)\n",
      "memory usage: 54.1 KB\n",
      "(768, 8) (768,)\n",
      "Class representation - original:  Counter({0: 500, 1: 268})\n",
      "Class representation - training data:  Counter({0: 375, 1: 201})\n",
      "Class representation - testing data:  Counter({0: 125, 1: 67})\n"
     ]
    }
   ],
   "source": [
    "# Complete code for data preperation\n",
    "# Read data\n",
    "df_dt2 = pd.read_csv('DT_medium_discretized_pima.csv')\n",
    "df_dt2.rename(columns={'Outcome':'label'}, inplace=True)\n",
    "disc = 'DT'\n",
    "max_depth = 3\n",
    "\n",
    "df_dt2.info()\n",
    "data = df_dt2.values\n",
    "data.shape\n",
    "\n",
    "features = df_dt2.drop('label', axis = 1).columns\n",
    "\n",
    "# separate the data into X and y\n",
    "X = data[:, : len(features)]\n",
    "Y = data[:,-1]\n",
    "\n",
    "print(X.shape, Y.shape)\n",
    "\n",
    "# Split train test\n",
    "x_train, x_test, y_train, y_test = train_test_split(X, Y, test_size=0.25, random_state = 30, stratify=Y)\n",
    "\n",
    "# Check representation of class\n",
    "print('Class representation - original: ', Counter(Y)) \n",
    "print('Class representation - training data: ', Counter(y_train)) \n",
    "print('Class representation - testing data: ', Counter(y_test)) \n",
    "\n",
    "# Check number of categories for features\n",
    "n_categories = df_dt2[features].nunique()"
   ]
  },
  {
   "cell_type": "code",
   "execution_count": 9,
   "id": "3ef1f941",
   "metadata": {},
   "outputs": [
    {
     "name": "stdout",
     "output_type": "stream",
     "text": [
      "pima_Knn-Hamming_DT_3.skops\n"
     ]
    }
   ],
   "source": [
    "# Load models\n",
    "model = 'Knn-Hamming'\n",
    "dataset = 'pima'\n",
    "discretizer = 'DT'\n",
    "disc_param = 'max_depth = 3'\n",
    "\n",
    "model_name = f\"{dataset}_{model}_{discretizer}_{max_depth}.skops\"\n",
    "\n",
    "print(model_name)\n",
    "loaded_knn = sio.load(model_name, trusted=True)\n",
    "y_pred_knn = loaded_knn.predict(x_test)"
   ]
  },
  {
   "cell_type": "code",
   "execution_count": 10,
   "id": "11bc26ba",
   "metadata": {},
   "outputs": [],
   "source": [
    "# Decomposition\n",
    "f = open(\"pima_evaluation_sup_knn.txt\", \"a\")\n",
    "import time\n",
    "start = time.time() # For measuring time execution\n",
    "\n",
    "avg_expected_loss, avg_bias, avg_var = bias_variance_decomp(\n",
    "loaded_knn, x_train, y_train, x_test, y_test,\n",
    "loss='0-1_loss',\n",
    "random_seed=123)\n",
    "#---\n",
    "\n",
    "print(f'Evaluation result: {model}, {discretizer}, {disc_param}', file = f)\n",
    "print('Average expected loss: %.3f' % avg_expected_loss, file = f)\n",
    "print('Average bias: %.3f' % avg_bias, file = f)\n",
    "print('Average variance: %.3f' % avg_var, file = f)\n",
    "print('Sklearn 0-1 loss: %.3f' % zero_one_loss(y_test,y_pred_knn), file = f)\n",
    "\n",
    "end = time.time()\n",
    "print(f'Execution time {model}- default, {disc}, max_depth = {max_depth} is: {end - start}.', file = f) # Total time execution\n",
    "print('=='*20, file = f)\n",
    "f.close()"
   ]
  },
  {
   "cell_type": "markdown",
   "id": "aa23913b",
   "metadata": {},
   "source": [
    "## DT, max_depth = 4"
   ]
  },
  {
   "cell_type": "code",
   "execution_count": 11,
   "id": "43bfc1e3",
   "metadata": {},
   "outputs": [
    {
     "name": "stdout",
     "output_type": "stream",
     "text": [
      "<class 'pandas.core.frame.DataFrame'>\n",
      "RangeIndex: 768 entries, 0 to 767\n",
      "Data columns (total 9 columns):\n",
      " #   Column                    Non-Null Count  Dtype\n",
      "---  ------                    --------------  -----\n",
      " 0   Pregnancies               768 non-null    int64\n",
      " 1   Glucose                   768 non-null    int64\n",
      " 2   BloodPressure             768 non-null    int64\n",
      " 3   SkinThickness             768 non-null    int64\n",
      " 4   Insulin                   768 non-null    int64\n",
      " 5   BMI                       768 non-null    int64\n",
      " 6   DiabetesPedigreeFunction  768 non-null    int64\n",
      " 7   Age                       768 non-null    int64\n",
      " 8   label                     768 non-null    int64\n",
      "dtypes: int64(9)\n",
      "memory usage: 54.1 KB\n",
      "(768, 8) (768,)\n",
      "Class representation - original:  Counter({0: 500, 1: 268})\n",
      "Class representation - training data:  Counter({0: 375, 1: 201})\n",
      "Class representation - testing data:  Counter({0: 125, 1: 67})\n"
     ]
    }
   ],
   "source": [
    "# Complete code for data preperation\n",
    "# Read data\n",
    "df_dt3 = pd.read_csv('DT_large_discretized_pima.csv')\n",
    "df_dt3.rename(columns={'Outcome':'label'}, inplace=True)\n",
    "disc = 'DT'\n",
    "max_depth = 4\n",
    "\n",
    "df_dt3.info()\n",
    "data = df_dt3.values\n",
    "data.shape\n",
    "\n",
    "features = df_dt3.drop('label', axis = 1).columns\n",
    "\n",
    "# separate the data into X and y\n",
    "X = data[:, : len(features)]\n",
    "Y = data[:,-1]\n",
    "\n",
    "print(X.shape, Y.shape)\n",
    "\n",
    "# Split train test\n",
    "x_train, x_test, y_train, y_test = train_test_split(X, Y, test_size=0.25, random_state = 30, stratify=Y)\n",
    "\n",
    "# Check representation of class\n",
    "print('Class representation - original: ', Counter(Y)) \n",
    "print('Class representation - training data: ', Counter(y_train)) \n",
    "print('Class representation - testing data: ', Counter(y_test)) \n",
    "\n",
    "# Check number of categories for features\n",
    "n_categories = df_dt3[features].nunique()"
   ]
  },
  {
   "cell_type": "code",
   "execution_count": 12,
   "id": "156ca90e",
   "metadata": {},
   "outputs": [
    {
     "name": "stdout",
     "output_type": "stream",
     "text": [
      "pima_Knn-Hamming_DT_4.skops\n"
     ]
    }
   ],
   "source": [
    "# Load models\n",
    "model = 'Knn-Hamming'\n",
    "dataset = 'pima'\n",
    "discretizer = 'DT'\n",
    "disc_param = 'max_depth = 4'\n",
    "\n",
    "model_name = f\"{dataset}_{model}_{discretizer}_{max_depth}.skops\"\n",
    "\n",
    "print(model_name)\n",
    "loaded_knn = sio.load(model_name, trusted=True)\n",
    "y_pred_knn = loaded_knn.predict(x_test)"
   ]
  },
  {
   "cell_type": "code",
   "execution_count": 13,
   "id": "c9c9fe8a",
   "metadata": {},
   "outputs": [],
   "source": [
    "# Decomposition\n",
    "f = open(\"pima_evaluation_sup_knn.txt\", \"a\")\n",
    "import time\n",
    "start = time.time() # For measuring time execution\n",
    "\n",
    "avg_expected_loss, avg_bias, avg_var = bias_variance_decomp(\n",
    "loaded_knn, x_train, y_train, x_test, y_test,\n",
    "loss='0-1_loss',\n",
    "random_seed=123)\n",
    "#---\n",
    "\n",
    "print(f'Evaluation result: {model}, {discretizer}, {disc_param}', file = f)\n",
    "print('Average expected loss: %.3f' % avg_expected_loss, file = f)\n",
    "print('Average bias: %.3f' % avg_bias, file = f)\n",
    "print('Average variance: %.3f' % avg_var, file = f)\n",
    "print('Sklearn 0-1 loss: %.3f' % zero_one_loss(y_test,y_pred_knn), file = f)\n",
    "\n",
    "end = time.time()\n",
    "print(f'Execution time {model}- default, {disc}, max_depth = {max_depth} is: {end - start}.', file = f) # Total time execution\n",
    "print('=='*20, file = f)\n",
    "f.close()"
   ]
  },
  {
   "cell_type": "markdown",
   "id": "cb8e9fa3",
   "metadata": {},
   "source": [
    "## DT, max_depth = 5"
   ]
  },
  {
   "cell_type": "code",
   "execution_count": 14,
   "id": "97700667",
   "metadata": {},
   "outputs": [
    {
     "name": "stdout",
     "output_type": "stream",
     "text": [
      "<class 'pandas.core.frame.DataFrame'>\n",
      "RangeIndex: 768 entries, 0 to 767\n",
      "Data columns (total 9 columns):\n",
      " #   Column                    Non-Null Count  Dtype\n",
      "---  ------                    --------------  -----\n",
      " 0   Pregnancies               768 non-null    int64\n",
      " 1   Glucose                   768 non-null    int64\n",
      " 2   BloodPressure             768 non-null    int64\n",
      " 3   SkinThickness             768 non-null    int64\n",
      " 4   Insulin                   768 non-null    int64\n",
      " 5   BMI                       768 non-null    int64\n",
      " 6   DiabetesPedigreeFunction  768 non-null    int64\n",
      " 7   Age                       768 non-null    int64\n",
      " 8   label                     768 non-null    int64\n",
      "dtypes: int64(9)\n",
      "memory usage: 54.1 KB\n",
      "(768, 8) (768,)\n",
      "(576, 8)\n",
      "(192, 8)\n",
      "=================\n",
      "Class representation - original:  Counter({0: 500, 1: 268})\n",
      "Class representation - training data:  Counter({0: 375, 1: 201})\n",
      "Class representation - testing data:  Counter({0: 125, 1: 67})\n"
     ]
    }
   ],
   "source": [
    "# Complete code for data preperation\n",
    "# Read data\n",
    "df_dt4 = pd.read_csv('DT_verylarge_discretized_pima.csv')\n",
    "df_dt4.rename(columns={'Outcome':'label'}, inplace=True)\n",
    "disc = 'DT'\n",
    "max_depth = 5\n",
    "\n",
    "df_dt4.info()\n",
    "data = df_dt4.values\n",
    "data.shape\n",
    "\n",
    "features = df_dt4.drop('label', axis = 1).columns\n",
    "\n",
    "# separate the data into X and y\n",
    "X = data[:, : len(features)]\n",
    "Y = data[:,-1]\n",
    "\n",
    "print(X.shape, Y.shape)\n",
    "\n",
    "# Split train test\n",
    "x_train, x_test, y_train, y_test = train_test_split(X, Y, test_size=0.25, random_state = 30, stratify=Y)\n",
    "\n",
    "print(x_train.shape)\n",
    "print(x_test.shape)\n",
    "print('=================')\n",
    "\n",
    "# Check representation of class\n",
    "print('Class representation - original: ', Counter(Y)) \n",
    "print('Class representation - training data: ', Counter(y_train)) \n",
    "print('Class representation - testing data: ', Counter(y_test)) \n",
    "\n",
    "# Check number of categories for features\n",
    "n_categories = df_dt4[features].nunique()"
   ]
  },
  {
   "cell_type": "code",
   "execution_count": 15,
   "id": "06a81319",
   "metadata": {},
   "outputs": [
    {
     "name": "stdout",
     "output_type": "stream",
     "text": [
      "pima_KNN-Hamming_DT_5.skops\n"
     ]
    }
   ],
   "source": [
    "# Load models\n",
    "model = 'KNN-Hamming'\n",
    "dataset = 'pima'\n",
    "discretizer = 'DT'\n",
    "disc_param = 'max_depth = 5'\n",
    "\n",
    "model_name = f\"{dataset}_{model}_{discretizer}_{max_depth}.skops\"\n",
    "\n",
    "print(model_name)\n",
    "loaded_knn = sio.load(model_name, trusted=True)\n",
    "y_pred_knn = loaded_knn.predict(x_test)"
   ]
  },
  {
   "cell_type": "code",
   "execution_count": 16,
   "id": "5a6a0395",
   "metadata": {},
   "outputs": [],
   "source": [
    "# Decomposition\n",
    "f = open(\"pima_evaluation_sup_knn.txt\", \"a\")\n",
    "import time\n",
    "start = time.time() # For measuring time execution\n",
    "\n",
    "avg_expected_loss, avg_bias, avg_var = bias_variance_decomp(\n",
    "loaded_knn, x_train, y_train, x_test, y_test,\n",
    "loss='0-1_loss',\n",
    "random_seed=123)\n",
    "#---\n",
    "\n",
    "print(f'Evaluation result: {model}, {discretizer}, {disc_param}', file = f)\n",
    "print('Average expected loss: %.3f' % avg_expected_loss, file = f)\n",
    "print('Average bias: %.3f' % avg_bias, file = f)\n",
    "print('Average variance: %.3f' % avg_var, file = f)\n",
    "print('Sklearn 0-1 loss: %.3f' % zero_one_loss(y_test,y_pred_knn), file = f)\n",
    "\n",
    "end = time.time()\n",
    "print(f'Execution time {model}- default, {disc}, max_depth = {max_depth} is: {end - start}.', file = f) # Total time execution\n",
    "print('=='*20, file = f)\n",
    "f.close()"
   ]
  },
  {
   "cell_type": "code",
   "execution_count": null,
   "id": "6decc5f4",
   "metadata": {},
   "outputs": [],
   "source": []
  }
 ],
 "metadata": {
  "kernelspec": {
   "display_name": "Python 3 (ipykernel)",
   "language": "python",
   "name": "python3"
  },
  "language_info": {
   "codemirror_mode": {
    "name": "ipython",
    "version": 3
   },
   "file_extension": ".py",
   "mimetype": "text/x-python",
   "name": "python",
   "nbconvert_exporter": "python",
   "pygments_lexer": "ipython3",
   "version": "3.9.12"
  }
 },
 "nbformat": 4,
 "nbformat_minor": 5
}
