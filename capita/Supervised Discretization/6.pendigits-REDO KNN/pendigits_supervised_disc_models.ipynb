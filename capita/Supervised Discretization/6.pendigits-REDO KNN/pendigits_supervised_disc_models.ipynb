{
 "cells": [
  {
   "cell_type": "markdown",
   "id": "514e58db",
   "metadata": {},
   "source": [
    "# Classification models - supervised discretization\n",
    "\n",
    "Dataset: pendigits (REDO) <br>\n",
    "By: Sam <br>\n",
    "Update at: 27/04/2023 <br>\n",
    "\n",
    "====\n",
    "\n",
    "Summary:<br>\n",
    "- Import unsupervised discretised datasets (already encoded categorical attributes)\n",
    "- Split dataset: no random split\n",
    "train= pendigits6.head(4435)\n",
    "test= pendigits6.tail(2000)\n",
    "\n",
    "- Perform 3 classification models: ChiMerge (4 settings) and Decision Tree (4 settings)\n",
    "**For categorical Naive Bayes: passing number of categories of features in the parameter min_categories to avoid index out of bound error**\n",
    "- Evaluation on testing data: Classification report (accuracy, precision, recall, f1-score) + G-mean\n",
    "- Export models after training: CNB models - joblib; ID3 & Knn-Hamming: skops\n",
    "- Write models performance to file: 'transfusion_models.txt'."
   ]
  },
  {
   "cell_type": "markdown",
   "id": "349a2e49",
   "metadata": {},
   "source": [
    "### About Dataset\n",
    "NUMBER OF ATTRIBUTES: 36 (= 4 spectral bands x 9 pixels in neighbourhood) the pixels read out in sequence left-to-right and top-to-bottom. \n",
    "\n",
    "    - A1-A4: 4 top-left\n",
    "    - A5-A8: 4 top middle\n",
    "    - A9-A12: 4 top-right\n",
    "    => central pixel are given by attributes 17,18,19 and 20\n",
    "\n",
    "NUMBER OF EXAMPLES:\n",
    "\n",
    "\t- training set     4435\n",
    "\t- test set         2000\n",
    "    \n",
    "ATTRIBUTES: The attributes are numerical, in the range 0 to 255.\n",
    "CLASS: \n",
    "\tThere are 6 decision classes: 1,2,3,4,5 and 7.\n",
    "\n",
    "!!! NB. There are no examples with class 6 in this dataset-they have all been removed because of doubts about the \n",
    "\tvalidity of this class.\n",
    "    \n",
    "!!! NB. DO NOT USE CROSS-VALIDATION WITH THIS DATASET !!!\n",
    "- Just train and test only once with the above training and test sets.\n",
    "- The data is given in random order and certain lines of data have been removed so you cannot reconstruct the original image from this dataset."
   ]
  },
  {
   "cell_type": "code",
   "execution_count": 1,
   "id": "6e959660",
   "metadata": {},
   "outputs": [],
   "source": [
    "import pandas as pd\n",
    "from pandas import read_csv\n",
    "from pandas import set_option\n",
    "import numpy as np\n",
    "from numpy import arange\n",
    "## EDA\n",
    "from collections import Counter"
   ]
  },
  {
   "cell_type": "code",
   "execution_count": 2,
   "id": "c39986bb",
   "metadata": {},
   "outputs": [],
   "source": [
    "# Pre-processing\n",
    "from sklearn.preprocessing import OrdinalEncoder\n",
    "# Cross validation\n",
    "from sklearn.model_selection import train_test_split\n",
    "from sklearn.model_selection import KFold\n",
    "from sklearn.model_selection import RepeatedKFold\n",
    "from sklearn.model_selection import cross_val_score # 1 metric\n",
    "from sklearn.model_selection import cross_validate # more than 1 metric\n",
    "from sklearn.model_selection import GridSearchCV\n",
    "from sklearn.pipeline import Pipeline"
   ]
  },
  {
   "cell_type": "code",
   "execution_count": 3,
   "id": "a1d3237a",
   "metadata": {},
   "outputs": [],
   "source": [
    "# For Naive Bayes\n",
    "from sklearn.naive_bayes import CategoricalNB # Categorical Naive Bayes\n",
    "from sklearn.naive_bayes import MultinomialNB # Multinominal Naive Bayes (suitable for NLP)\n",
    "from mixed_naive_bayes import MixedNB # Mixed Naive Bayes for combination of both discrete & continuous feature"
   ]
  },
  {
   "cell_type": "code",
   "execution_count": 4,
   "id": "9e9ddea0",
   "metadata": {},
   "outputs": [],
   "source": [
    "# For decision tree ID3 \n",
    "# https://stackoverflow.com/questions/61867945/python-import-error-cannot-import-name-six-from-sklearn-externals\n",
    "import six\n",
    "import sys\n",
    "sys.modules['sklearn.externals.six'] = six\n",
    "import mlrose\n",
    "from id3 import Id3Estimator # ID3 Decision Tree (https://pypi.org/project/decision-tree-id3/)\n",
    "from id3 import export_graphviz"
   ]
  },
  {
   "cell_type": "code",
   "execution_count": 5,
   "id": "beb75f81",
   "metadata": {},
   "outputs": [],
   "source": [
    "# Knn-VDM 3\n",
    "from vdm3 import ValueDifferenceMetric\n",
    "from sklearn.neighbors import KNeighborsClassifier"
   ]
  },
  {
   "cell_type": "code",
   "execution_count": 6,
   "id": "039c536e",
   "metadata": {},
   "outputs": [],
   "source": [
    "# For model evaluation\n",
    "from sklearn.metrics import classification_report\n",
    "from sklearn import metrics\n",
    "import sklearn.metrics as metrics\n",
    "from sklearn.metrics import make_scorer\n",
    "from sklearn.metrics import confusion_matrix"
   ]
  },
  {
   "cell_type": "code",
   "execution_count": 7,
   "id": "e4ec1b7c",
   "metadata": {},
   "outputs": [],
   "source": [
    "import seaborn as sns\n",
    "import matplotlib.pyplot as plt"
   ]
  },
  {
   "cell_type": "markdown",
   "id": "13679f21",
   "metadata": {},
   "source": [
    "# 1. ChiMerge data"
   ]
  },
  {
   "cell_type": "markdown",
   "id": "72f773ca",
   "metadata": {},
   "source": [
    "## 1. Max intervals = 6"
   ]
  },
  {
   "cell_type": "code",
   "execution_count": 8,
   "id": "3c5bf499",
   "metadata": {},
   "outputs": [
    {
     "name": "stdout",
     "output_type": "stream",
     "text": [
      "<class 'pandas.core.frame.DataFrame'>\n",
      "RangeIndex: 10992 entries, 0 to 10991\n",
      "Data columns (total 17 columns):\n",
      " #   Column  Non-Null Count  Dtype\n",
      "---  ------  --------------  -----\n",
      " 0   A1      10992 non-null  int64\n",
      " 1   A2      10992 non-null  int64\n",
      " 2   A3      10992 non-null  int64\n",
      " 3   A4      10992 non-null  int64\n",
      " 4   A5      10992 non-null  int64\n",
      " 5   A6      10992 non-null  int64\n",
      " 6   A7      10992 non-null  int64\n",
      " 7   A8      10992 non-null  int64\n",
      " 8   A9      10992 non-null  int64\n",
      " 9   A10     10992 non-null  int64\n",
      " 10  A11     10992 non-null  int64\n",
      " 11  A12     10992 non-null  int64\n",
      " 12  A13     10992 non-null  int64\n",
      " 13  A14     10992 non-null  int64\n",
      " 14  A15     10992 non-null  int64\n",
      " 15  A16     10992 non-null  int64\n",
      " 16  label   10992 non-null  int64\n",
      "dtypes: int64(17)\n",
      "memory usage: 1.4 MB\n",
      "(10992, 16) (10992,)\n",
      "Class representation - original:  Counter({2: 1144, 4: 1144, 1: 1143, 0: 1143, 7: 1142, 6: 1056, 8: 1055, 5: 1055, 9: 1055, 3: 1055})\n",
      "Class representation - training data:  Counter({4: 858, 2: 858, 0: 857, 1: 857, 7: 857, 5: 792, 6: 792, 3: 791, 8: 791, 9: 791})\n",
      "Class representation - testing data:  Counter({2: 286, 0: 286, 4: 286, 1: 286, 7: 285, 8: 264, 6: 264, 9: 264, 3: 264, 5: 263})\n"
     ]
    }
   ],
   "source": [
    "# Complete code for data preperation\n",
    "# Read data\n",
    "df_cm1 = pd.read_csv('cm_pendigits_6int.csv')\n",
    "df_cm1.rename(columns={'class':'label'}, inplace=True)\n",
    "disc = 'CM'\n",
    "k = 6\n",
    "\n",
    "df_cm1.info()\n",
    "data = df_cm1.values\n",
    "data.shape\n",
    "\n",
    "features = df_cm1.drop('label', axis = 1).columns\n",
    "\n",
    "# separate the data into X and y\n",
    "X = data[:, : len(features)]\n",
    "Y = data[:,-1]\n",
    "#X = df_cm1[features]\n",
    "#Y = df_cm1['label']\n",
    "\n",
    "print(X.shape, Y.shape)\n",
    "\n",
    "# Split train test\n",
    "x_train, x_test, y_train, y_test = train_test_split(X, Y, test_size=0.25, random_state = 30, stratify=Y)\n",
    "\n",
    "# Check representation of class\n",
    "print('Class representation - original: ', Counter(Y)) \n",
    "print('Class representation - training data: ', Counter(y_train)) \n",
    "print('Class representation - testing data: ', Counter(y_test)) \n",
    "\n",
    "# Check number of categories for features\n",
    "n_categories = df_cm1[features].nunique()"
   ]
  },
  {
   "cell_type": "code",
   "execution_count": 9,
   "id": "a2fcacaf",
   "metadata": {},
   "outputs": [],
   "source": [
    "# from imblearn.combine import SMOTETomek\n",
    "# smt_tomek = SMOTETomek(random_state=42)\n",
    "# x_resample, y_resample = smt_tomek.fit_resample(x_train, y_train)\n",
    "# # Check labels in traning dataset after SMOTE\n",
    "# pd.Series(y_resample) \\\n",
    "# .value_counts() \\\n",
    "# .plot(kind='bar', title='Class distribution after applying SMOTE Tomek', xlabel='Vowels')"
   ]
  },
  {
   "cell_type": "markdown",
   "id": "22930726",
   "metadata": {},
   "source": [
    "### Models - CM, max intervals = 6"
   ]
  },
  {
   "cell_type": "code",
   "execution_count": 10,
   "id": "4a0ca119",
   "metadata": {},
   "outputs": [
    {
     "name": "stdout",
     "output_type": "stream",
     "text": [
      "pendigits_KNN-Hamming_CM_6.skops\n"
     ]
    }
   ],
   "source": [
    "# Knn-Hammingcomplete code\n",
    "\n",
    "model = 'KNN-Hamming'\n",
    "dataset = 'pendigits'\n",
    "discretizer = 'CM'\n",
    "disc_param = 'k = 6'\n",
    "\n",
    "f = open(\"pendigits_supervised_disc_models.txt\", \"a\")\n",
    "import time\n",
    "start = time.time() # For measuring time execution\n",
    "\n",
    "# Knn-Hamming complete code\n",
    "knn_hamming = KNeighborsClassifier(n_neighbors=3, metric='hamming', algorithm='auto')\n",
    "knn_hamming.fit(x_train, y_train)\n",
    "\n",
    "# Testing\n",
    "y_pred_knn = knn_hamming.predict(x_test)\n",
    "knn_hamming.classes_\n",
    "print(f'Models results: model {model}, dataset {dataset}, discretization {discretizer} with parameter {disc_param}', \n",
    "      file = f)\n",
    "print('Classification report', file = f)\n",
    "print(classification_report(y_test, y_pred_knn), file = f)\n",
    "\n",
    "from imblearn.metrics import geometric_mean_score as gmean\n",
    "print('G-mean:', gmean(y_test, y_pred_knn),file = f)\n",
    "\n",
    "end = time.time()\n",
    "print(f'Time for training model {model}- default, {disc}, k = {k} is: {end - start}.', file = f) # Total time execution\n",
    "print('=='*20, file = f)\n",
    "f.close()\n",
    "\n",
    "# Save models\n",
    "import skops.io as sio\n",
    "model_name = f\"{dataset}_{model}_{discretizer}_{k}.skops\"\n",
    "print(model_name)\n",
    "obj = sio.dump(knn_hamming, model_name)"
   ]
  },
  {
   "cell_type": "markdown",
   "id": "86c0a4f2",
   "metadata": {},
   "source": [
    "## 1.2 ChiMerge, max interval = 8"
   ]
  },
  {
   "cell_type": "markdown",
   "id": "817132b0",
   "metadata": {},
   "source": [
    "### Data prep"
   ]
  },
  {
   "cell_type": "code",
   "execution_count": 11,
   "id": "7700c25f",
   "metadata": {},
   "outputs": [
    {
     "name": "stdout",
     "output_type": "stream",
     "text": [
      "<class 'pandas.core.frame.DataFrame'>\n",
      "RangeIndex: 10992 entries, 0 to 10991\n",
      "Data columns (total 17 columns):\n",
      " #   Column  Non-Null Count  Dtype\n",
      "---  ------  --------------  -----\n",
      " 0   A1      10992 non-null  int64\n",
      " 1   A2      10992 non-null  int64\n",
      " 2   A3      10992 non-null  int64\n",
      " 3   A4      10992 non-null  int64\n",
      " 4   A5      10992 non-null  int64\n",
      " 5   A6      10992 non-null  int64\n",
      " 6   A7      10992 non-null  int64\n",
      " 7   A8      10992 non-null  int64\n",
      " 8   A9      10992 non-null  int64\n",
      " 9   A10     10992 non-null  int64\n",
      " 10  A11     10992 non-null  int64\n",
      " 11  A12     10992 non-null  int64\n",
      " 12  A13     10992 non-null  int64\n",
      " 13  A14     10992 non-null  int64\n",
      " 14  A15     10992 non-null  int64\n",
      " 15  A16     10992 non-null  int64\n",
      " 16  label   10992 non-null  int64\n",
      "dtypes: int64(17)\n",
      "memory usage: 1.4 MB\n",
      "(10992, 16) (10992,)\n",
      "Class representation - original:  Counter({2: 1144, 4: 1144, 1: 1143, 0: 1143, 7: 1142, 6: 1056, 8: 1055, 5: 1055, 9: 1055, 3: 1055})\n",
      "Class representation - training data:  Counter({4: 858, 2: 858, 0: 857, 1: 857, 7: 857, 5: 792, 6: 792, 3: 791, 8: 791, 9: 791})\n",
      "Class representation - testing data:  Counter({2: 286, 0: 286, 4: 286, 1: 286, 7: 285, 8: 264, 6: 264, 9: 264, 3: 264, 5: 263})\n"
     ]
    }
   ],
   "source": [
    "# Complete code for data preperation\n",
    "# Read data\n",
    "df_cm2 = pd.read_csv('cm_pendigits_8int.csv')\n",
    "df_cm2.rename(columns={'class':'label'}, inplace=True)\n",
    "disc = 'CM'\n",
    "k = 8\n",
    "\n",
    "df_cm2.info()\n",
    "data = df_cm2.values\n",
    "data.shape\n",
    "\n",
    "features = df_cm2.drop('label', axis = 1).columns\n",
    "\n",
    "# separate the data into X and y\n",
    "X = data[:, : len(features)]\n",
    "Y = data[:,-1]\n",
    "\n",
    "print(X.shape, Y.shape)\n",
    "\n",
    "# Split train test\n",
    "x_train, x_test, y_train, y_test = train_test_split(X, Y, test_size=0.25, random_state = 30, stratify=Y)\n",
    "\n",
    "# Check representation of class\n",
    "print('Class representation - original: ', Counter(Y)) \n",
    "print('Class representation - training data: ', Counter(y_train)) \n",
    "print('Class representation - testing data: ', Counter(y_test)) \n",
    "\n",
    "# Check number of categories for features\n",
    "n_categories = df_cm2[features].nunique()"
   ]
  },
  {
   "cell_type": "code",
   "execution_count": 12,
   "id": "b680ea9e",
   "metadata": {},
   "outputs": [],
   "source": [
    "# from imblearn.combine import SMOTETomek\n",
    "# smt_tomek = SMOTETomek(random_state=42)\n",
    "# x_resample, y_resample = smt_tomek.fit_resample(x_train, y_train)\n",
    "# # Check labels in traning dataset after SMOTE\n",
    "# pd.Series(y_resample) \\\n",
    "# .value_counts() \\\n",
    "# .plot(kind='bar', title='Class distribution after applying SMOTE Tomek', xlabel='Vowels')"
   ]
  },
  {
   "cell_type": "markdown",
   "id": "aaeaca15",
   "metadata": {},
   "source": [
    "### Models - ChiMerge, max intervals = 8"
   ]
  },
  {
   "cell_type": "code",
   "execution_count": 13,
   "id": "197d7a3c",
   "metadata": {},
   "outputs": [
    {
     "name": "stdout",
     "output_type": "stream",
     "text": [
      "pendigits_KNN-Hamming_CM_8.skops\n"
     ]
    }
   ],
   "source": [
    "# Knn-Hammingcomplete code\n",
    "\n",
    "model = 'KNN-Hamming'\n",
    "dataset = 'pendigits'\n",
    "discretizer = 'CM'\n",
    "disc_param = 'k = 8'\n",
    "\n",
    "f = open(\"pendigits_supervised_disc_models.txt\", \"a\")\n",
    "import time\n",
    "start = time.time() # For measuring time execution\n",
    "\n",
    "# Knn-Hamming complete code\n",
    "knn_hamming = KNeighborsClassifier(n_neighbors=3, metric='hamming', algorithm='auto')\n",
    "knn_hamming.fit(x_train, y_train)\n",
    "\n",
    "# Testing\n",
    "y_pred_knn = knn_hamming.predict(x_test)\n",
    "knn_hamming.classes_\n",
    "print(f'Models results: model {model}, dataset {dataset}, discretization {discretizer} with parameter {disc_param}', \n",
    "      file = f)\n",
    "print('Classification report', file = f)\n",
    "print(classification_report(y_test, y_pred_knn), file = f)\n",
    "\n",
    "from imblearn.metrics import geometric_mean_score as gmean\n",
    "print('G-mean:', gmean(y_test, y_pred_knn),file = f)\n",
    "\n",
    "end = time.time()\n",
    "print(f'Time for training model {model}- default, {disc}, k = {k} is: {end - start}.', file = f) # Total time execution\n",
    "print('=='*20, file = f)\n",
    "f.close()\n",
    "\n",
    "# Save models\n",
    "import skops.io as sio\n",
    "model_name = f\"{dataset}_{model}_{discretizer}_{k}.skops\"\n",
    "print(model_name)\n",
    "obj = sio.dump(knn_hamming, model_name)"
   ]
  },
  {
   "cell_type": "markdown",
   "id": "72fe06a0",
   "metadata": {},
   "source": [
    "## 1.3 ChiMerge, max intervals = 10"
   ]
  },
  {
   "cell_type": "markdown",
   "id": "8c5e59bf",
   "metadata": {},
   "source": [
    "### Data prep"
   ]
  },
  {
   "cell_type": "code",
   "execution_count": 14,
   "id": "a7d939f3",
   "metadata": {},
   "outputs": [
    {
     "name": "stdout",
     "output_type": "stream",
     "text": [
      "<class 'pandas.core.frame.DataFrame'>\n",
      "RangeIndex: 10992 entries, 0 to 10991\n",
      "Data columns (total 17 columns):\n",
      " #   Column  Non-Null Count  Dtype\n",
      "---  ------  --------------  -----\n",
      " 0   A1      10992 non-null  int64\n",
      " 1   A2      10992 non-null  int64\n",
      " 2   A3      10992 non-null  int64\n",
      " 3   A4      10992 non-null  int64\n",
      " 4   A5      10992 non-null  int64\n",
      " 5   A6      10992 non-null  int64\n",
      " 6   A7      10992 non-null  int64\n",
      " 7   A8      10992 non-null  int64\n",
      " 8   A9      10992 non-null  int64\n",
      " 9   A10     10992 non-null  int64\n",
      " 10  A11     10992 non-null  int64\n",
      " 11  A12     10992 non-null  int64\n",
      " 12  A13     10992 non-null  int64\n",
      " 13  A14     10992 non-null  int64\n",
      " 14  A15     10992 non-null  int64\n",
      " 15  A16     10992 non-null  int64\n",
      " 16  label   10992 non-null  int64\n",
      "dtypes: int64(17)\n",
      "memory usage: 1.4 MB\n",
      "(10992, 16) (10992,)\n",
      "Class representation - original:  Counter({2: 1144, 4: 1144, 1: 1143, 0: 1143, 7: 1142, 6: 1056, 8: 1055, 5: 1055, 9: 1055, 3: 1055})\n",
      "Class representation - training data:  Counter({4: 858, 2: 858, 0: 857, 1: 857, 7: 857, 5: 792, 6: 792, 3: 791, 8: 791, 9: 791})\n",
      "Class representation - testing data:  Counter({2: 286, 0: 286, 4: 286, 1: 286, 7: 285, 8: 264, 6: 264, 9: 264, 3: 264, 5: 263})\n"
     ]
    }
   ],
   "source": [
    "# Complete code for data preperation\n",
    "# Read data\n",
    "df_cm3 = pd.read_csv('cm_pendigits_10int.csv')\n",
    "df_cm3.rename(columns={'class':'label'}, inplace=True)\n",
    "disc = 'cm'\n",
    "k = 10\n",
    "\n",
    "df_cm3.info()\n",
    "data = df_cm3.values\n",
    "data.shape\n",
    "\n",
    "features = df_cm3.drop('label', axis = 1).columns\n",
    "\n",
    "# separate the data into X and y\n",
    "X = data[:, : len(features)]\n",
    "Y = data[:,-1]\n",
    "\n",
    "print(X.shape, Y.shape)\n",
    "\n",
    "# Split train test\n",
    "x_train, x_test, y_train, y_test = train_test_split(X, Y, test_size=0.25, random_state = 30, stratify=Y)\n",
    "\n",
    "# Check representation of class\n",
    "print('Class representation - original: ', Counter(Y)) \n",
    "print('Class representation - training data: ', Counter(y_train)) \n",
    "print('Class representation - testing data: ', Counter(y_test)) \n",
    "\n",
    "# Check number of categories for features\n",
    "n_categories = df_cm3[features].nunique()"
   ]
  },
  {
   "cell_type": "markdown",
   "id": "f5d33064",
   "metadata": {},
   "source": [
    "### Models - ChiMerge, max intervals =10"
   ]
  },
  {
   "cell_type": "code",
   "execution_count": 15,
   "id": "d96b68c4",
   "metadata": {},
   "outputs": [
    {
     "name": "stdout",
     "output_type": "stream",
     "text": [
      "pendigits_KNN-Hamming_CM_10.skops\n"
     ]
    }
   ],
   "source": [
    "# Knn-Hammingcomplete code\n",
    "\n",
    "model = 'KNN-Hamming'\n",
    "dataset = 'pendigits'\n",
    "discretizer = 'CM'\n",
    "disc_param = 'k = 10'\n",
    "\n",
    "f = open(\"pendigits_supervised_disc_models.txt\", \"a\")\n",
    "import time\n",
    "start = time.time() # For measuring time execution\n",
    "\n",
    "# Knn-Hamming complete code\n",
    "knn_hamming = KNeighborsClassifier(n_neighbors=3, metric='hamming', algorithm='auto')\n",
    "knn_hamming.fit(x_train, y_train)\n",
    "\n",
    "# Testing\n",
    "y_pred_knn = knn_hamming.predict(x_test)\n",
    "knn_hamming.classes_\n",
    "print(f'Models results: model {model}, dataset {dataset}, discretization {discretizer} with parameter {disc_param}', \n",
    "      file = f)\n",
    "print('Classification report', file = f)\n",
    "print(classification_report(y_test, y_pred_knn), file = f)\n",
    "\n",
    "from imblearn.metrics import geometric_mean_score as gmean\n",
    "print('G-mean:', gmean(y_test, y_pred_knn),file = f)\n",
    "\n",
    "end = time.time()\n",
    "print(f'Time for training model {model}- default, {disc}, k = {k} is: {end - start}.', file = f) # Total time execution\n",
    "print('=='*20, file = f)\n",
    "f.close()\n",
    "\n",
    "# Save models\n",
    "import skops.io as sio\n",
    "model_name = f\"{dataset}_{model}_{discretizer}_{k}.skops\"\n",
    "print(model_name)\n",
    "obj = sio.dump(knn_hamming, model_name)"
   ]
  },
  {
   "cell_type": "markdown",
   "id": "bbea5e62",
   "metadata": {},
   "source": [
    "## 1.4 ChiMerge, max intervals = 15"
   ]
  },
  {
   "cell_type": "markdown",
   "id": "d5764cf9",
   "metadata": {},
   "source": [
    "### Data prep"
   ]
  },
  {
   "cell_type": "code",
   "execution_count": 16,
   "id": "042ad21c",
   "metadata": {},
   "outputs": [
    {
     "name": "stdout",
     "output_type": "stream",
     "text": [
      "<class 'pandas.core.frame.DataFrame'>\n",
      "RangeIndex: 10992 entries, 0 to 10991\n",
      "Data columns (total 17 columns):\n",
      " #   Column  Non-Null Count  Dtype\n",
      "---  ------  --------------  -----\n",
      " 0   A1      10992 non-null  int64\n",
      " 1   A2      10992 non-null  int64\n",
      " 2   A3      10992 non-null  int64\n",
      " 3   A4      10992 non-null  int64\n",
      " 4   A5      10992 non-null  int64\n",
      " 5   A6      10992 non-null  int64\n",
      " 6   A7      10992 non-null  int64\n",
      " 7   A8      10992 non-null  int64\n",
      " 8   A9      10992 non-null  int64\n",
      " 9   A10     10992 non-null  int64\n",
      " 10  A11     10992 non-null  int64\n",
      " 11  A12     10992 non-null  int64\n",
      " 12  A13     10992 non-null  int64\n",
      " 13  A14     10992 non-null  int64\n",
      " 14  A15     10992 non-null  int64\n",
      " 15  A16     10992 non-null  int64\n",
      " 16  label   10992 non-null  int64\n",
      "dtypes: int64(17)\n",
      "memory usage: 1.4 MB\n",
      "(10992, 16) (10992,)\n",
      "Class representation - original:  Counter({2: 1144, 4: 1144, 1: 1143, 0: 1143, 7: 1142, 6: 1056, 8: 1055, 5: 1055, 9: 1055, 3: 1055})\n",
      "Class representation - training data:  Counter({4: 858, 2: 858, 0: 857, 1: 857, 7: 857, 5: 792, 6: 792, 3: 791, 8: 791, 9: 791})\n",
      "Class representation - testing data:  Counter({2: 286, 0: 286, 4: 286, 1: 286, 7: 285, 8: 264, 6: 264, 9: 264, 3: 264, 5: 263})\n"
     ]
    }
   ],
   "source": [
    "# Complete code for data preperation\n",
    "# Read data\n",
    "df_cm4 = pd.read_csv('cm_pendigits_15int.csv')\n",
    "df_cm4.rename(columns={'class':'label'}, inplace=True)\n",
    "disc = 'cm'\n",
    "k = 15\n",
    "\n",
    "df_cm4.info()\n",
    "data = df_cm4.values\n",
    "data.shape\n",
    "\n",
    "features = df_cm4.drop('label', axis = 1).columns\n",
    "\n",
    "# separate the data into X and y\n",
    "X = data[:, : len(features)]\n",
    "Y = data[:,-1]\n",
    "\n",
    "print(X.shape, Y.shape)\n",
    "\n",
    "# Split train test\n",
    "x_train, x_test, y_train, y_test = train_test_split(X, Y, test_size=0.25, random_state = 30, stratify=Y)\n",
    "\n",
    "# Check representation of class\n",
    "print('Class representation - original: ', Counter(Y)) \n",
    "print('Class representation - training data: ', Counter(y_train)) \n",
    "print('Class representation - testing data: ', Counter(y_test)) \n",
    "\n",
    "# Check number of categories for features\n",
    "n_categories = df_cm4[features].nunique()"
   ]
  },
  {
   "cell_type": "markdown",
   "id": "43324924",
   "metadata": {},
   "source": [
    "### Models, ChiMerge, max intervals = 15"
   ]
  },
  {
   "cell_type": "code",
   "execution_count": 17,
   "id": "5431cd87",
   "metadata": {},
   "outputs": [
    {
     "name": "stdout",
     "output_type": "stream",
     "text": [
      "pendigits_KNN-Hamming_CM_15.skops\n"
     ]
    }
   ],
   "source": [
    "# Knn-Hammingcomplete code\n",
    "\n",
    "model = 'KNN-Hamming'\n",
    "dataset = 'pendigits'\n",
    "discretizer = 'CM'\n",
    "disc_param = 'k = 15'\n",
    "\n",
    "f = open(\"pendigits_supervised_disc_models.txt\", \"a\")\n",
    "import time\n",
    "start = time.time() # For measuring time execution\n",
    "\n",
    "# Knn-Hamming complete code\n",
    "knn_hamming = KNeighborsClassifier(n_neighbors=3, metric='hamming', algorithm='auto')\n",
    "knn_hamming.fit(x_train, y_train)\n",
    "\n",
    "# Testing\n",
    "y_pred_knn = knn_hamming.predict(x_test)\n",
    "knn_hamming.classes_\n",
    "print(f'Models results: model {model}, dataset {dataset}, discretization {discretizer} with parameter {disc_param}', \n",
    "      file = f)\n",
    "print('Classification report', file = f)\n",
    "print(classification_report(y_test, y_pred_knn), file = f)\n",
    "\n",
    "from imblearn.metrics import geometric_mean_score as gmean\n",
    "print('G-mean:', gmean(y_test, y_pred_knn),file = f)\n",
    "\n",
    "end = time.time()\n",
    "print(f'Time for training model {model}- default, {disc}, k = {k} is: {end - start}.', file = f) # Total time execution\n",
    "print('=='*20, file = f)\n",
    "f.close()\n",
    "\n",
    "# Save models\n",
    "import skops.io as sio\n",
    "model_name = f\"{dataset}_{model}_{discretizer}_{k}.skops\"\n",
    "print(model_name)\n",
    "obj = sio.dump(knn_hamming, model_name)"
   ]
  },
  {
   "cell_type": "markdown",
   "id": "4cb96c1d",
   "metadata": {},
   "source": [
    "# 2. Decision Tree Discretizer"
   ]
  },
  {
   "cell_type": "markdown",
   "id": "229a0ccb",
   "metadata": {},
   "source": [
    "## 2.1 DT, max_depth = 2"
   ]
  },
  {
   "cell_type": "markdown",
   "id": "52a46ad2",
   "metadata": {},
   "source": [
    "### Data prep"
   ]
  },
  {
   "cell_type": "code",
   "execution_count": 18,
   "id": "1668bb1f",
   "metadata": {},
   "outputs": [
    {
     "name": "stdout",
     "output_type": "stream",
     "text": [
      "<class 'pandas.core.frame.DataFrame'>\n",
      "RangeIndex: 10992 entries, 0 to 10991\n",
      "Data columns (total 17 columns):\n",
      " #   Column  Non-Null Count  Dtype\n",
      "---  ------  --------------  -----\n",
      " 0   A1      10992 non-null  int64\n",
      " 1   A2      10992 non-null  int64\n",
      " 2   A3      10992 non-null  int64\n",
      " 3   A4      10992 non-null  int64\n",
      " 4   A5      10992 non-null  int64\n",
      " 5   A6      10992 non-null  int64\n",
      " 6   A7      10992 non-null  int64\n",
      " 7   A8      10992 non-null  int64\n",
      " 8   A9      10992 non-null  int64\n",
      " 9   A10     10992 non-null  int64\n",
      " 10  A11     10992 non-null  int64\n",
      " 11  A12     10992 non-null  int64\n",
      " 12  A13     10992 non-null  int64\n",
      " 13  A14     10992 non-null  int64\n",
      " 14  A15     10992 non-null  int64\n",
      " 15  A16     10992 non-null  int64\n",
      " 16  label   10992 non-null  int64\n",
      "dtypes: int64(17)\n",
      "memory usage: 1.4 MB\n",
      "(10992, 16) (10992,)\n",
      "Class representation - original:  Counter({2: 1144, 4: 1144, 0: 1143, 1: 1143, 7: 1142, 6: 1056, 9: 1055, 5: 1055, 3: 1055, 8: 1055})\n",
      "Class representation - training data:  Counter({4: 858, 2: 858, 0: 857, 1: 857, 7: 857, 5: 792, 6: 792, 3: 791, 8: 791, 9: 791})\n",
      "Class representation - testing data:  Counter({2: 286, 0: 286, 4: 286, 1: 286, 7: 285, 8: 264, 6: 264, 9: 264, 3: 264, 5: 263})\n"
     ]
    }
   ],
   "source": [
    "# Complete code for data preperation\n",
    "# Read data\n",
    "df_dt1 = pd.read_csv('DT_small_discretized_pendigits.csv')\n",
    "df_dt1.rename(columns={'class':'label'}, inplace=True)\n",
    "disc = 'DT'\n",
    "max_depth = 2\n",
    "\n",
    "df_dt1.info()\n",
    "data = df_dt1.values\n",
    "data.shape\n",
    "\n",
    "features = df_dt1.drop('label', axis = 1).columns\n",
    "\n",
    "# separate the data into X and y\n",
    "X = data[:, : len(features)]\n",
    "Y = data[:,-1]\n",
    "\n",
    "print(X.shape, Y.shape)\n",
    "\n",
    "# Split train test\n",
    "x_train, x_test, y_train, y_test = train_test_split(X, Y, test_size=0.25, random_state = 30, stratify=Y)\n",
    "\n",
    "# Check representation of class\n",
    "print('Class representation - original: ', Counter(Y)) \n",
    "print('Class representation - training data: ', Counter(y_train)) \n",
    "print('Class representation - testing data: ', Counter(y_test)) \n",
    "\n",
    "# Check number of categories for features\n",
    "n_categories = df_dt1[features].nunique()"
   ]
  },
  {
   "cell_type": "markdown",
   "id": "f674a1a2",
   "metadata": {},
   "source": [
    "### Models - DT, max_depth = 2"
   ]
  },
  {
   "cell_type": "code",
   "execution_count": 19,
   "id": "3bc109f0",
   "metadata": {},
   "outputs": [
    {
     "name": "stdout",
     "output_type": "stream",
     "text": [
      "pendigits_KNN-Hamming_DT_2.skops\n"
     ]
    }
   ],
   "source": [
    "# Knn-Hamming complete code\n",
    "\n",
    "model = 'KNN-Hamming'\n",
    "dataset = 'pendigits'\n",
    "discretizer = 'DT'\n",
    "disc_param = 'max_depth = 2'\n",
    "\n",
    "f = open(\"pendigits_supervised_disc_models.txt\", \"a\")\n",
    "import time\n",
    "start = time.time() # For measuring time execution\n",
    "\n",
    "# Knn-Hamming complete code\n",
    "knn_hamming = KNeighborsClassifier(n_neighbors=3, metric='hamming', algorithm='auto')\n",
    "knn_hamming.fit(x_train, y_train)\n",
    "\n",
    "# Testing\n",
    "y_pred_knn = knn_hamming.predict(x_test)\n",
    "knn_hamming.classes_\n",
    "print(f'Models results: model {model}, dataset {dataset}, discretization {discretizer} with parameter {disc_param}', \n",
    "      file = f)\n",
    "print('Classification report', file = f)\n",
    "print(classification_report(y_test, y_pred_knn), file = f)\n",
    "\n",
    "from imblearn.metrics import geometric_mean_score as gmean\n",
    "print('G-mean:', gmean(y_test, y_pred_knn),file = f)\n",
    "\n",
    "end = time.time()\n",
    "print(f'Time for training model {model}- default, {disc}, max_depth = {max_depth} is: {end - start}.', file = f) # Total time execution\n",
    "print('=='*20, file = f)\n",
    "f.close()\n",
    "\n",
    "# Save models\n",
    "import skops.io as sio\n",
    "model_name = f\"{dataset}_{model}_{discretizer}_{max_depth}.skops\"\n",
    "print(model_name)\n",
    "obj = sio.dump(knn_hamming, model_name)"
   ]
  },
  {
   "cell_type": "markdown",
   "id": "ca03cff4",
   "metadata": {},
   "source": [
    "## 2.2 Decision Tree, max_depth = 3"
   ]
  },
  {
   "cell_type": "markdown",
   "id": "b3c786d9",
   "metadata": {},
   "source": [
    "### Data prep"
   ]
  },
  {
   "cell_type": "code",
   "execution_count": 20,
   "id": "7cfd7736",
   "metadata": {},
   "outputs": [
    {
     "name": "stdout",
     "output_type": "stream",
     "text": [
      "<class 'pandas.core.frame.DataFrame'>\n",
      "RangeIndex: 10992 entries, 0 to 10991\n",
      "Data columns (total 17 columns):\n",
      " #   Column  Non-Null Count  Dtype\n",
      "---  ------  --------------  -----\n",
      " 0   A1      10992 non-null  int64\n",
      " 1   A2      10992 non-null  int64\n",
      " 2   A3      10992 non-null  int64\n",
      " 3   A4      10992 non-null  int64\n",
      " 4   A5      10992 non-null  int64\n",
      " 5   A6      10992 non-null  int64\n",
      " 6   A7      10992 non-null  int64\n",
      " 7   A8      10992 non-null  int64\n",
      " 8   A9      10992 non-null  int64\n",
      " 9   A10     10992 non-null  int64\n",
      " 10  A11     10992 non-null  int64\n",
      " 11  A12     10992 non-null  int64\n",
      " 12  A13     10992 non-null  int64\n",
      " 13  A14     10992 non-null  int64\n",
      " 14  A15     10992 non-null  int64\n",
      " 15  A16     10992 non-null  int64\n",
      " 16  label   10992 non-null  int64\n",
      "dtypes: int64(17)\n",
      "memory usage: 1.4 MB\n",
      "(10992, 16) (10992,)\n",
      "Class representation - original:  Counter({2: 1144, 4: 1144, 0: 1143, 1: 1143, 7: 1142, 6: 1056, 9: 1055, 5: 1055, 3: 1055, 8: 1055})\n",
      "Class representation - training data:  Counter({4: 858, 2: 858, 0: 857, 1: 857, 7: 857, 5: 792, 6: 792, 3: 791, 8: 791, 9: 791})\n",
      "Class representation - testing data:  Counter({2: 286, 0: 286, 4: 286, 1: 286, 7: 285, 8: 264, 6: 264, 9: 264, 3: 264, 5: 263})\n"
     ]
    }
   ],
   "source": [
    "# Complete code for data preperation\n",
    "# Read data\n",
    "df_dt2 = pd.read_csv('DT_medium_discretized_pendigits.csv')\n",
    "df_dt2.rename(columns={'class':'label'}, inplace=True)\n",
    "disc = 'DT'\n",
    "max_depth = 3\n",
    "\n",
    "df_dt2.info()\n",
    "data = df_dt2.values\n",
    "data.shape\n",
    "\n",
    "features = df_dt2.drop('label', axis = 1).columns\n",
    "\n",
    "# separate the data into X and y\n",
    "X = data[:, : len(features)]\n",
    "Y = data[:,-1]\n",
    "\n",
    "print(X.shape, Y.shape)\n",
    "\n",
    "# Split train test\n",
    "x_train, x_test, y_train, y_test = train_test_split(X, Y, test_size=0.25, random_state = 30, stratify=Y)\n",
    "\n",
    "# Check representation of class\n",
    "print('Class representation - original: ', Counter(Y)) \n",
    "print('Class representation - training data: ', Counter(y_train)) \n",
    "print('Class representation - testing data: ', Counter(y_test)) \n",
    "\n",
    "# Check number of categories for features\n",
    "n_categories = df_dt2[features].nunique()"
   ]
  },
  {
   "cell_type": "markdown",
   "id": "f538866e",
   "metadata": {},
   "source": [
    "### Models, DT, max_depth = 3"
   ]
  },
  {
   "cell_type": "code",
   "execution_count": 21,
   "id": "5da6891b",
   "metadata": {},
   "outputs": [
    {
     "name": "stdout",
     "output_type": "stream",
     "text": [
      "pendigits_KNN-Hamming_DT_3.skops\n"
     ]
    }
   ],
   "source": [
    "# Knn-Hamming complete code\n",
    "\n",
    "model = 'KNN-Hamming'\n",
    "dataset = 'pendigits'\n",
    "discretizer = 'DT'\n",
    "disc_param = 'max_depth = 3'\n",
    "\n",
    "f = open(\"pendigits_supervised_disc_models.txt\", \"a\")\n",
    "import time\n",
    "start = time.time() # For measuring time execution\n",
    "\n",
    "# Knn-Hamming complete code\n",
    "knn_hamming = KNeighborsClassifier(n_neighbors=3, metric='hamming', algorithm='auto')\n",
    "knn_hamming.fit(x_train, y_train)\n",
    "\n",
    "# Testing\n",
    "y_pred_knn = knn_hamming.predict(x_test)\n",
    "knn_hamming.classes_\n",
    "print(f'Models results: model {model}, dataset {dataset}, discretization {discretizer} with parameter {disc_param}', \n",
    "      file = f)\n",
    "print('Classification report', file = f)\n",
    "print(classification_report(y_test, y_pred_knn), file = f)\n",
    "\n",
    "from imblearn.metrics import geometric_mean_score as gmean\n",
    "print('G-mean:', gmean(y_test, y_pred_knn),file = f)\n",
    "\n",
    "end = time.time()\n",
    "print(f'Time for training model {model}- default, {disc}, max_depth = {max_depth} is: {end - start}.', file = f) # Total time execution\n",
    "print('=='*20, file = f)\n",
    "f.close()\n",
    "\n",
    "# Save models\n",
    "import skops.io as sio\n",
    "model_name = f\"{dataset}_{model}_{discretizer}_{max_depth}.skops\"\n",
    "print(model_name)\n",
    "obj = sio.dump(knn_hamming, model_name)"
   ]
  },
  {
   "cell_type": "markdown",
   "id": "2824762f",
   "metadata": {},
   "source": [
    "## 2.3 Decision Tree, max_depth = 4"
   ]
  },
  {
   "cell_type": "markdown",
   "id": "1f96c5e2",
   "metadata": {},
   "source": [
    "### Dataprep"
   ]
  },
  {
   "cell_type": "code",
   "execution_count": 22,
   "id": "172e7788",
   "metadata": {},
   "outputs": [
    {
     "name": "stdout",
     "output_type": "stream",
     "text": [
      "<class 'pandas.core.frame.DataFrame'>\n",
      "RangeIndex: 10992 entries, 0 to 10991\n",
      "Data columns (total 17 columns):\n",
      " #   Column  Non-Null Count  Dtype\n",
      "---  ------  --------------  -----\n",
      " 0   A1      10992 non-null  int64\n",
      " 1   A2      10992 non-null  int64\n",
      " 2   A3      10992 non-null  int64\n",
      " 3   A4      10992 non-null  int64\n",
      " 4   A5      10992 non-null  int64\n",
      " 5   A6      10992 non-null  int64\n",
      " 6   A7      10992 non-null  int64\n",
      " 7   A8      10992 non-null  int64\n",
      " 8   A9      10992 non-null  int64\n",
      " 9   A10     10992 non-null  int64\n",
      " 10  A11     10992 non-null  int64\n",
      " 11  A12     10992 non-null  int64\n",
      " 12  A13     10992 non-null  int64\n",
      " 13  A14     10992 non-null  int64\n",
      " 14  A15     10992 non-null  int64\n",
      " 15  A16     10992 non-null  int64\n",
      " 16  label   10992 non-null  int64\n",
      "dtypes: int64(17)\n",
      "memory usage: 1.4 MB\n",
      "(10992, 16) (10992,)\n",
      "Class representation - original:  Counter({2: 1144, 4: 1144, 0: 1143, 1: 1143, 7: 1142, 6: 1056, 9: 1055, 5: 1055, 3: 1055, 8: 1055})\n",
      "Class representation - training data:  Counter({4: 858, 2: 858, 0: 857, 1: 857, 7: 857, 5: 792, 6: 792, 3: 791, 8: 791, 9: 791})\n",
      "Class representation - testing data:  Counter({2: 286, 0: 286, 4: 286, 1: 286, 7: 285, 8: 264, 6: 264, 9: 264, 3: 264, 5: 263})\n"
     ]
    }
   ],
   "source": [
    "# Complete code for data preperation\n",
    "# Read data\n",
    "df_dt3 = pd.read_csv('DT_large_discretized_pendigits.csv')\n",
    "df_dt3.rename(columns={'class':'label'}, inplace=True)\n",
    "disc = 'DT'\n",
    "max_depth = 4\n",
    "\n",
    "df_dt3.info()\n",
    "data = df_dt3.values\n",
    "data.shape\n",
    "\n",
    "features = df_dt3.drop('label', axis = 1).columns\n",
    "\n",
    "# separate the data into X and y\n",
    "X = data[:, : len(features)]\n",
    "Y = data[:,-1]\n",
    "\n",
    "print(X.shape, Y.shape)\n",
    "\n",
    "# Split train test\n",
    "x_train, x_test, y_train, y_test = train_test_split(X, Y, test_size=0.25, random_state = 30, stratify=Y)\n",
    "\n",
    "# Check representation of class\n",
    "print('Class representation - original: ', Counter(Y)) \n",
    "print('Class representation - training data: ', Counter(y_train)) \n",
    "print('Class representation - testing data: ', Counter(y_test)) \n",
    "\n",
    "# Check number of categories for features\n",
    "n_categories = df_dt3[features].nunique()"
   ]
  },
  {
   "cell_type": "markdown",
   "id": "ce6a8a5e",
   "metadata": {},
   "source": [
    "### Models, DT, max_depth = 4"
   ]
  },
  {
   "cell_type": "code",
   "execution_count": 23,
   "id": "c08c513b",
   "metadata": {},
   "outputs": [
    {
     "name": "stdout",
     "output_type": "stream",
     "text": [
      "pendigits_KNN-Hamming_DT_4.skops\n"
     ]
    }
   ],
   "source": [
    "# Knn-Hamming complete code\n",
    "\n",
    "model = 'KNN-Hamming'\n",
    "dataset = 'pendigits'\n",
    "discretizer = 'DT'\n",
    "disc_param = 'max_depth = 4'\n",
    "\n",
    "f = open(\"pendigits_supervised_disc_models.txt\", \"a\")\n",
    "import time\n",
    "start = time.time() # For measuring time execution\n",
    "\n",
    "# Knn-Hamming complete code\n",
    "knn_hamming = KNeighborsClassifier(n_neighbors=3, metric='hamming', algorithm='auto')\n",
    "knn_hamming.fit(x_train, y_train)\n",
    "\n",
    "# Testing\n",
    "y_pred_knn = knn_hamming.predict(x_test)\n",
    "knn_hamming.classes_\n",
    "print(f'Models results: model {model}, dataset {dataset}, discretization {discretizer} with parameter {disc_param}', \n",
    "      file = f)\n",
    "print('Classification report', file = f)\n",
    "print(classification_report(y_test, y_pred_knn), file = f)\n",
    "\n",
    "from imblearn.metrics import geometric_mean_score as gmean\n",
    "print('G-mean:', gmean(y_test, y_pred_knn),file = f)\n",
    "\n",
    "end = time.time()\n",
    "print(f'Time for training model {model}- default, {disc}, max_depth = {max_depth} is: {end - start}.', file = f) # Total time execution\n",
    "print('=='*20, file = f)\n",
    "f.close()\n",
    "\n",
    "# Save models\n",
    "import skops.io as sio\n",
    "model_name = f\"{dataset}_{model}_{discretizer}_{max_depth}.skops\"\n",
    "print(model_name)\n",
    "obj = sio.dump(knn_hamming, model_name)"
   ]
  },
  {
   "cell_type": "markdown",
   "id": "74265a0a",
   "metadata": {},
   "source": [
    "## 2.3 Decision Tree, max_depth = 5"
   ]
  },
  {
   "cell_type": "markdown",
   "id": "53a0191b",
   "metadata": {},
   "source": [
    "### Data prep"
   ]
  },
  {
   "cell_type": "code",
   "execution_count": 24,
   "id": "e0a99473",
   "metadata": {},
   "outputs": [
    {
     "name": "stdout",
     "output_type": "stream",
     "text": [
      "<class 'pandas.core.frame.DataFrame'>\n",
      "RangeIndex: 10992 entries, 0 to 10991\n",
      "Data columns (total 17 columns):\n",
      " #   Column  Non-Null Count  Dtype\n",
      "---  ------  --------------  -----\n",
      " 0   A1      10992 non-null  int64\n",
      " 1   A2      10992 non-null  int64\n",
      " 2   A3      10992 non-null  int64\n",
      " 3   A4      10992 non-null  int64\n",
      " 4   A5      10992 non-null  int64\n",
      " 5   A6      10992 non-null  int64\n",
      " 6   A7      10992 non-null  int64\n",
      " 7   A8      10992 non-null  int64\n",
      " 8   A9      10992 non-null  int64\n",
      " 9   A10     10992 non-null  int64\n",
      " 10  A11     10992 non-null  int64\n",
      " 11  A12     10992 non-null  int64\n",
      " 12  A13     10992 non-null  int64\n",
      " 13  A14     10992 non-null  int64\n",
      " 14  A15     10992 non-null  int64\n",
      " 15  A16     10992 non-null  int64\n",
      " 16  label   10992 non-null  int64\n",
      "dtypes: int64(17)\n",
      "memory usage: 1.4 MB\n",
      "(10992, 16) (10992,)\n",
      "Class representation - original:  Counter({2: 1144, 4: 1144, 0: 1143, 1: 1143, 7: 1142, 6: 1056, 9: 1055, 5: 1055, 3: 1055, 8: 1055})\n",
      "Class representation - training data:  Counter({4: 858, 2: 858, 0: 857, 1: 857, 7: 857, 5: 792, 6: 792, 3: 791, 8: 791, 9: 791})\n",
      "Class representation - testing data:  Counter({2: 286, 0: 286, 4: 286, 1: 286, 7: 285, 8: 264, 6: 264, 9: 264, 3: 264, 5: 263})\n"
     ]
    }
   ],
   "source": [
    "# Complete code for data preperation\n",
    "# Read data\n",
    "df_dt4 = pd.read_csv('DT_verylarge_discretized_pendigits.csv')\n",
    "df_dt4.rename(columns={'class':'label'}, inplace=True)\n",
    "disc = 'DT'\n",
    "max_depth = 5\n",
    "\n",
    "df_dt4.info()\n",
    "data = df_dt4.values\n",
    "data.shape\n",
    "\n",
    "features = df_dt4.drop('label', axis = 1).columns\n",
    "\n",
    "# separate the data into X and y\n",
    "X = data[:, : len(features)]\n",
    "Y = data[:,-1]\n",
    "\n",
    "print(X.shape, Y.shape)\n",
    "\n",
    "# Split train test\n",
    "x_train, x_test, y_train, y_test = train_test_split(X, Y, test_size=0.25, random_state = 30, stratify=Y)\n",
    "\n",
    "# Check representation of class\n",
    "print('Class representation - original: ', Counter(Y)) \n",
    "print('Class representation - training data: ', Counter(y_train)) \n",
    "print('Class representation - testing data: ', Counter(y_test)) \n",
    "\n",
    "# Check number of categories for features\n",
    "n_categories = df_dt4[features].nunique()"
   ]
  },
  {
   "cell_type": "markdown",
   "id": "b52d371c",
   "metadata": {},
   "source": [
    "### Models, DT, max_depth = 5"
   ]
  },
  {
   "cell_type": "code",
   "execution_count": 25,
   "id": "4c39dbab",
   "metadata": {},
   "outputs": [
    {
     "name": "stdout",
     "output_type": "stream",
     "text": [
      "pendigits_KNN-Hamming_DT_5.skops\n"
     ]
    }
   ],
   "source": [
    "# Knn-Hamming complete code\n",
    "\n",
    "model = 'KNN-Hamming'\n",
    "dataset = 'pendigits'\n",
    "discretizer = 'DT'\n",
    "disc_param = 'max_depth = 5'\n",
    "\n",
    "f = open(\"pendigits_supervised_disc_models.txt\", \"a\")\n",
    "import time\n",
    "start = time.time() # For measuring time execution\n",
    "\n",
    "# Knn-Hamming complete code\n",
    "knn_hamming = KNeighborsClassifier(n_neighbors=3, metric='hamming', algorithm='auto')\n",
    "knn_hamming.fit(x_train, y_train)\n",
    "\n",
    "# Testing\n",
    "y_pred_knn = knn_hamming.predict(x_test)\n",
    "knn_hamming.classes_\n",
    "print(f'Models results: model {model}, dataset {dataset}, discretization {discretizer} with parameter {disc_param}', \n",
    "      file = f)\n",
    "print('Classification report', file = f)\n",
    "print(classification_report(y_test, y_pred_knn), file = f)\n",
    "\n",
    "from imblearn.metrics import geometric_mean_score as gmean\n",
    "print('G-mean:', gmean(y_test, y_pred_knn),file = f)\n",
    "\n",
    "end = time.time()\n",
    "print(f'Time for training model {model}- default, {disc}, max_depth = {max_depth} is: {end - start}.', file = f) # Total time execution\n",
    "print('=='*20, file = f)\n",
    "f.close()\n",
    "\n",
    "# Save models\n",
    "import skops.io as sio\n",
    "model_name = f\"{dataset}_{model}_{discretizer}_{max_depth}.skops\"\n",
    "print(model_name)\n",
    "obj = sio.dump(knn_hamming, model_name)"
   ]
  },
  {
   "cell_type": "code",
   "execution_count": null,
   "id": "087f0674",
   "metadata": {},
   "outputs": [],
   "source": []
  }
 ],
 "metadata": {
  "kernelspec": {
   "display_name": "Python 3 (ipykernel)",
   "language": "python",
   "name": "python3"
  },
  "language_info": {
   "codemirror_mode": {
    "name": "ipython",
    "version": 3
   },
   "file_extension": ".py",
   "mimetype": "text/x-python",
   "name": "python",
   "nbconvert_exporter": "python",
   "pygments_lexer": "ipython3",
   "version": "3.9.12"
  },
  "vscode": {
   "interpreter": {
    "hash": "361241f9a80b796977997c633c663aa5cf3bdc315ac376a4c38a1a056ab6874d"
   }
  }
 },
 "nbformat": 4,
 "nbformat_minor": 5
}
