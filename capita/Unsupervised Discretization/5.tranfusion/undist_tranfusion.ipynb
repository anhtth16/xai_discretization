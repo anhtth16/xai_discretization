{
 "cells": [
  {
   "cell_type": "markdown",
   "id": "e2834d4c",
   "metadata": {},
   "source": [
    "# Unsupervised discretization\n",
    "\n",
    "Dataset: blood tranfustion\n",
    "\n",
    "Updated at: 22 June 22\n",
    "\n",
    "By: Sam"
   ]
  },
  {
   "cell_type": "markdown",
   "id": "52a5193a",
   "metadata": {},
   "source": [
    "### About Dataset\n",
    "Attribute Information:\n",
    "Given is the variable name, variable type, the measurement unit and a brief  description. The \"Blood Transfusion Service Center\" is a classification problem. \n",
    "The order of this listing corresponds to the order of numerals along the rows of  the database.\n",
    "- R (Recency - months since last donation),\n",
    "- F (Frequency - total number of donation),\n",
    "- M (Monetary - total blood donated in c.c.),\n",
    "- T (Time - months since first donation),\n",
    "\n",
    "LABEL: a binary variable representing whether he/she donated blood in March 2007 \n",
    "- 1 stand for donating blood\n",
    "- 0 stands for not donating blood"
   ]
  },
  {
   "cell_type": "code",
   "execution_count": 2,
   "id": "cdc62db5",
   "metadata": {},
   "outputs": [],
   "source": [
    "# Load library\n",
    "import pandas as pd\n",
    "import numpy as np\n",
    "import time\n",
    "import timeit"
   ]
  },
  {
   "cell_type": "code",
   "execution_count": 3,
   "id": "308ff28d",
   "metadata": {},
   "outputs": [],
   "source": [
    "from sklearn.preprocessing import KBinsDiscretizer as kbins # also use for unsupervised"
   ]
  },
  {
   "cell_type": "code",
   "execution_count": 4,
   "id": "24ba1015",
   "metadata": {},
   "outputs": [],
   "source": [
    "from feature_engine.discretisation import EqualFrequencyDiscretiser as efd\n",
    "from feature_engine.discretisation import EqualWidthDiscretiser as ewd"
   ]
  },
  {
   "cell_type": "code",
   "execution_count": 5,
   "id": "baf7bc88",
   "metadata": {},
   "outputs": [],
   "source": [
    "# Load dataset\n",
    "data = pd.read_csv('clean_tranfusion.csv')"
   ]
  },
  {
   "cell_type": "code",
   "execution_count": 6,
   "id": "ff632d99",
   "metadata": {},
   "outputs": [
    {
     "name": "stdout",
     "output_type": "stream",
     "text": [
      "<class 'pandas.core.frame.DataFrame'>\n",
      "RangeIndex: 748 entries, 0 to 747\n",
      "Data columns (total 5 columns):\n",
      " #   Column     Non-Null Count  Dtype\n",
      "---  ------     --------------  -----\n",
      " 0   recency    748 non-null    int64\n",
      " 1   frequency  748 non-null    int64\n",
      " 2   monetary   748 non-null    int64\n",
      " 3   time       748 non-null    int64\n",
      " 4   label      748 non-null    int64\n",
      "dtypes: int64(5)\n",
      "memory usage: 29.3 KB\n"
     ]
    }
   ],
   "source": [
    "data.info()"
   ]
  },
  {
   "cell_type": "code",
   "execution_count": 7,
   "id": "ed642444",
   "metadata": {},
   "outputs": [],
   "source": [
    "# Convert outcome to categorical\n",
    "data['label'] = pd.Categorical(data['label'])"
   ]
  },
  {
   "cell_type": "code",
   "execution_count": 8,
   "id": "ba14deb4",
   "metadata": {},
   "outputs": [],
   "source": [
    "# get list of numeric attributes to discretize\n",
    "num_col = data.select_dtypes(include=np.number).columns\n",
    "num_col = num_col.tolist()"
   ]
  },
  {
   "cell_type": "code",
   "execution_count": 9,
   "id": "11d3ebd4",
   "metadata": {},
   "outputs": [
    {
     "data": {
      "text/plain": [
       "['recency', 'frequency', 'monetary', 'time']"
      ]
     },
     "execution_count": 9,
     "metadata": {},
     "output_type": "execute_result"
    }
   ],
   "source": [
    "num_col"
   ]
  },
  {
   "cell_type": "markdown",
   "id": "6d8c5079",
   "metadata": {},
   "source": [
    "## Equal Width Discretization"
   ]
  },
  {
   "cell_type": "code",
   "execution_count": 10,
   "id": "ad79f6ae",
   "metadata": {},
   "outputs": [],
   "source": [
    "# Define function: Inputs: dataset, number of parameters\n",
    "\n",
    "def ewd_disc(data, k):\n",
    "    ## set up the discretisation transformer\n",
    "    ewd_disc = ewd(bins=k, variables=num_col, return_boundaries=False)\n",
    "    '''\n",
    "    Parameters\n",
    "    ----------\n",
    "    bins : int, default=10\n",
    "        Desired number of equal width intervals / bins.\n",
    "\n",
    "    variables : list\n",
    "        The list of numerical variables to transform. If None, the\n",
    "        discretiser will automatically select all numerical type variables.\n",
    "\n",
    "    return_object : bool, default=False\n",
    "        Whether the numbers in the discrete variable should be returned as\n",
    "        numeric or as object. The decision should be made by the user based on\n",
    "        whether they would like to proceed the engineering of the variable as\n",
    "        if it was numerical or categorical.\n",
    "\n",
    "    return_boundaries: bool, default=False\n",
    "        whether the output should be the interval boundaries. If True, it returns\n",
    "        the interval boundaries. If False, it returns integers.\n",
    "    '''\n",
    "    ## fit the transformer\n",
    "    ewd_disc.fit(data)\n",
    "    ## transform the data\n",
    "    data_ewd = ewd_disc.transform(data)\n",
    "    ## binner_dict contains the boundaries of the different bins: \n",
    "    # stores the interval limits identified for each variable\n",
    "    ewd_disc.binner_dict_\n",
    "    return data_ewd  # return dataset after discretization"
   ]
  },
  {
   "cell_type": "markdown",
   "id": "67987988",
   "metadata": {},
   "source": [
    "### EWD - Scenario 1: k = 4"
   ]
  },
  {
   "cell_type": "code",
   "execution_count": 11,
   "id": "58211148",
   "metadata": {},
   "outputs": [
    {
     "name": "stdout",
     "output_type": "stream",
     "text": [
      "Discretization time, EWD, k =  4 : 0.02020406723022461\n"
     ]
    }
   ],
   "source": [
    "# Perform discretization\n",
    "k = 4\n",
    "start = time.time() # Starting  time\n",
    "data_ewd1 = ewd_disc(data, k)\n",
    "end = time.time()\n",
    "ewd_t = end - start\n",
    "print(\"Discretization time, EWD, k = \", k,\":\",ewd_t) # Total time execution"
   ]
  },
  {
   "cell_type": "code",
   "execution_count": 12,
   "id": "4a3a482b",
   "metadata": {},
   "outputs": [
    {
     "data": {
      "text/html": [
       "<div>\n",
       "<style scoped>\n",
       "    .dataframe tbody tr th:only-of-type {\n",
       "        vertical-align: middle;\n",
       "    }\n",
       "\n",
       "    .dataframe tbody tr th {\n",
       "        vertical-align: top;\n",
       "    }\n",
       "\n",
       "    .dataframe thead th {\n",
       "        text-align: right;\n",
       "    }\n",
       "</style>\n",
       "<table border=\"1\" class=\"dataframe\">\n",
       "  <thead>\n",
       "    <tr style=\"text-align: right;\">\n",
       "      <th></th>\n",
       "      <th>recency</th>\n",
       "      <th>frequency</th>\n",
       "      <th>monetary</th>\n",
       "      <th>time</th>\n",
       "      <th>label</th>\n",
       "    </tr>\n",
       "  </thead>\n",
       "  <tbody>\n",
       "    <tr>\n",
       "      <th>0</th>\n",
       "      <td>0</td>\n",
       "      <td>3</td>\n",
       "      <td>3</td>\n",
       "      <td>3</td>\n",
       "      <td>1</td>\n",
       "    </tr>\n",
       "    <tr>\n",
       "      <th>1</th>\n",
       "      <td>0</td>\n",
       "      <td>0</td>\n",
       "      <td>0</td>\n",
       "      <td>1</td>\n",
       "      <td>1</td>\n",
       "    </tr>\n",
       "    <tr>\n",
       "      <th>2</th>\n",
       "      <td>0</td>\n",
       "      <td>1</td>\n",
       "      <td>1</td>\n",
       "      <td>1</td>\n",
       "      <td>1</td>\n",
       "    </tr>\n",
       "    <tr>\n",
       "      <th>3</th>\n",
       "      <td>0</td>\n",
       "      <td>1</td>\n",
       "      <td>1</td>\n",
       "      <td>1</td>\n",
       "      <td>1</td>\n",
       "    </tr>\n",
       "    <tr>\n",
       "      <th>4</th>\n",
       "      <td>0</td>\n",
       "      <td>1</td>\n",
       "      <td>1</td>\n",
       "      <td>3</td>\n",
       "      <td>0</td>\n",
       "    </tr>\n",
       "  </tbody>\n",
       "</table>\n",
       "</div>"
      ],
      "text/plain": [
       "   recency  frequency  monetary  time label\n",
       "0        0          3         3     3     1\n",
       "1        0          0         0     1     1\n",
       "2        0          1         1     1     1\n",
       "3        0          1         1     1     1\n",
       "4        0          1         1     3     0"
      ]
     },
     "execution_count": 12,
     "metadata": {},
     "output_type": "execute_result"
    }
   ],
   "source": [
    "# OUTPUT:\n",
    "data_ewd1.head()"
   ]
  },
  {
   "cell_type": "code",
   "execution_count": 13,
   "id": "6f0807bf",
   "metadata": {},
   "outputs": [
    {
     "name": "stdout",
     "output_type": "stream",
     "text": [
      "recency\n",
      "recency\n",
      "0    643\n",
      "1     99\n",
      "2      4\n",
      "3      2\n",
      "Name: recency, dtype: int64\n",
      "frequency\n",
      "frequency\n",
      "0    690\n",
      "1     49\n",
      "2      3\n",
      "3      6\n",
      "Name: frequency, dtype: int64\n",
      "monetary\n",
      "monetary\n",
      "0    690\n",
      "1     49\n",
      "2      3\n",
      "3      6\n",
      "Name: monetary, dtype: int64\n",
      "time\n",
      "time\n",
      "0    353\n",
      "1    215\n",
      "2    112\n",
      "3     68\n",
      "Name: time, dtype: int64\n"
     ]
    }
   ],
   "source": [
    "## OUTPUT: Check number of instance in each interval in the data_ewd\n",
    "# With equal width discretisation, each bin does not necessarily \n",
    "# contain the same number of observations.\n",
    "for col in num_col:\n",
    "    print(col)\n",
    "    print(data_ewd1.groupby(col)[col].count())"
   ]
  },
  {
   "cell_type": "markdown",
   "id": "7a9432c4",
   "metadata": {},
   "source": [
    "### EWD - Scenario 2: k = 7"
   ]
  },
  {
   "cell_type": "code",
   "execution_count": 14,
   "id": "442b515d",
   "metadata": {},
   "outputs": [
    {
     "name": "stdout",
     "output_type": "stream",
     "text": [
      "Discretization time, EWD, k =  7 : 0.03413105010986328\n"
     ]
    }
   ],
   "source": [
    "# Perform discretization\n",
    "k = 7\n",
    "start = time.time() # Starting  time\n",
    "data_ewd2 = ewd_disc(data, k)\n",
    "end = time.time()\n",
    "ewd_t = end - start\n",
    "print(\"Discretization time, EWD, k = \", k,\":\", ewd_t) # Total time execution"
   ]
  },
  {
   "cell_type": "code",
   "execution_count": 15,
   "id": "b17a42a4",
   "metadata": {},
   "outputs": [
    {
     "data": {
      "text/html": [
       "<div>\n",
       "<style scoped>\n",
       "    .dataframe tbody tr th:only-of-type {\n",
       "        vertical-align: middle;\n",
       "    }\n",
       "\n",
       "    .dataframe tbody tr th {\n",
       "        vertical-align: top;\n",
       "    }\n",
       "\n",
       "    .dataframe thead th {\n",
       "        text-align: right;\n",
       "    }\n",
       "</style>\n",
       "<table border=\"1\" class=\"dataframe\">\n",
       "  <thead>\n",
       "    <tr style=\"text-align: right;\">\n",
       "      <th></th>\n",
       "      <th>recency</th>\n",
       "      <th>frequency</th>\n",
       "      <th>monetary</th>\n",
       "      <th>time</th>\n",
       "      <th>label</th>\n",
       "    </tr>\n",
       "  </thead>\n",
       "  <tbody>\n",
       "    <tr>\n",
       "      <th>0</th>\n",
       "      <td>0</td>\n",
       "      <td>6</td>\n",
       "      <td>6</td>\n",
       "      <td>6</td>\n",
       "      <td>1</td>\n",
       "    </tr>\n",
       "    <tr>\n",
       "      <th>1</th>\n",
       "      <td>0</td>\n",
       "      <td>1</td>\n",
       "      <td>1</td>\n",
       "      <td>1</td>\n",
       "      <td>1</td>\n",
       "    </tr>\n",
       "    <tr>\n",
       "      <th>2</th>\n",
       "      <td>0</td>\n",
       "      <td>2</td>\n",
       "      <td>2</td>\n",
       "      <td>2</td>\n",
       "      <td>1</td>\n",
       "    </tr>\n",
       "    <tr>\n",
       "      <th>3</th>\n",
       "      <td>0</td>\n",
       "      <td>2</td>\n",
       "      <td>2</td>\n",
       "      <td>3</td>\n",
       "      <td>1</td>\n",
       "    </tr>\n",
       "    <tr>\n",
       "      <th>4</th>\n",
       "      <td>0</td>\n",
       "      <td>3</td>\n",
       "      <td>3</td>\n",
       "      <td>5</td>\n",
       "      <td>0</td>\n",
       "    </tr>\n",
       "  </tbody>\n",
       "</table>\n",
       "</div>"
      ],
      "text/plain": [
       "   recency  frequency  monetary  time label\n",
       "0        0          6         6     6     1\n",
       "1        0          1         1     1     1\n",
       "2        0          2         2     2     1\n",
       "3        0          2         2     3     1\n",
       "4        0          3         3     5     0"
      ]
     },
     "execution_count": 15,
     "metadata": {},
     "output_type": "execute_result"
    }
   ],
   "source": [
    "# OUTPUT:\n",
    "data_ewd2.head()"
   ]
  },
  {
   "cell_type": "code",
   "execution_count": 16,
   "id": "2273e115",
   "metadata": {},
   "outputs": [
    {
     "name": "stdout",
     "output_type": "stream",
     "text": [
      "recency\n",
      "recency\n",
      "0    404\n",
      "1    284\n",
      "2     53\n",
      "3      5\n",
      "6      2\n",
      "Name: recency, dtype: int64\n",
      "frequency\n",
      "frequency\n",
      "0    607\n",
      "1    102\n",
      "2     26\n",
      "3      5\n",
      "4      2\n",
      "5      3\n",
      "6      3\n",
      "Name: frequency, dtype: int64\n",
      "monetary\n",
      "monetary\n",
      "0    607\n",
      "1    102\n",
      "2     26\n",
      "3      5\n",
      "4      2\n",
      "5      3\n",
      "6      3\n",
      "Name: monetary, dtype: int64\n",
      "time\n",
      "time\n",
      "0    182\n",
      "1    215\n",
      "2    125\n",
      "3     74\n",
      "4     67\n",
      "5     49\n",
      "6     36\n",
      "Name: time, dtype: int64\n"
     ]
    }
   ],
   "source": [
    "## OUTPUT: Check number of instance in each interval in the data_ewd\n",
    "# With equal width discretisation, each bin does not necessarily \n",
    "# contain the same number of observations.\n",
    "for col in num_col:\n",
    "    print(col)\n",
    "    print(data_ewd2.groupby(col)[col].count())"
   ]
  },
  {
   "cell_type": "markdown",
   "id": "864339af",
   "metadata": {},
   "source": [
    "### EWD - Scenario 3: k = 10"
   ]
  },
  {
   "cell_type": "code",
   "execution_count": 17,
   "id": "a2f0b6dd",
   "metadata": {},
   "outputs": [
    {
     "name": "stdout",
     "output_type": "stream",
     "text": [
      "Discretization time, EWD, k =  10 : 0.02237105369567871\n"
     ]
    }
   ],
   "source": [
    "# Perform discretization\n",
    "k = 10\n",
    "start = time.time() # Starting time\n",
    "data_ewd3 = ewd_disc(data, k)\n",
    "end = time.time()\n",
    "ewd_t = end - start\n",
    "print(\"Discretization time, EWD, k = \", k,\":\",ewd_t) # Total time execution"
   ]
  },
  {
   "cell_type": "code",
   "execution_count": 18,
   "id": "addda05a",
   "metadata": {},
   "outputs": [
    {
     "data": {
      "text/html": [
       "<div>\n",
       "<style scoped>\n",
       "    .dataframe tbody tr th:only-of-type {\n",
       "        vertical-align: middle;\n",
       "    }\n",
       "\n",
       "    .dataframe tbody tr th {\n",
       "        vertical-align: top;\n",
       "    }\n",
       "\n",
       "    .dataframe thead th {\n",
       "        text-align: right;\n",
       "    }\n",
       "</style>\n",
       "<table border=\"1\" class=\"dataframe\">\n",
       "  <thead>\n",
       "    <tr style=\"text-align: right;\">\n",
       "      <th></th>\n",
       "      <th>recency</th>\n",
       "      <th>frequency</th>\n",
       "      <th>monetary</th>\n",
       "      <th>time</th>\n",
       "      <th>label</th>\n",
       "    </tr>\n",
       "  </thead>\n",
       "  <tbody>\n",
       "    <tr>\n",
       "      <th>0</th>\n",
       "      <td>0</td>\n",
       "      <td>9</td>\n",
       "      <td>9</td>\n",
       "      <td>9</td>\n",
       "      <td>1</td>\n",
       "    </tr>\n",
       "    <tr>\n",
       "      <th>1</th>\n",
       "      <td>0</td>\n",
       "      <td>2</td>\n",
       "      <td>2</td>\n",
       "      <td>2</td>\n",
       "      <td>1</td>\n",
       "    </tr>\n",
       "    <tr>\n",
       "      <th>2</th>\n",
       "      <td>0</td>\n",
       "      <td>3</td>\n",
       "      <td>3</td>\n",
       "      <td>3</td>\n",
       "      <td>1</td>\n",
       "    </tr>\n",
       "    <tr>\n",
       "      <th>3</th>\n",
       "      <td>0</td>\n",
       "      <td>3</td>\n",
       "      <td>3</td>\n",
       "      <td>4</td>\n",
       "      <td>1</td>\n",
       "    </tr>\n",
       "    <tr>\n",
       "      <th>4</th>\n",
       "      <td>0</td>\n",
       "      <td>4</td>\n",
       "      <td>4</td>\n",
       "      <td>7</td>\n",
       "      <td>0</td>\n",
       "    </tr>\n",
       "  </tbody>\n",
       "</table>\n",
       "</div>"
      ],
      "text/plain": [
       "   recency  frequency  monetary  time label\n",
       "0        0          9         9     9     1\n",
       "1        0          2         2     2     1\n",
       "2        0          3         3     3     1\n",
       "3        0          3         3     4     1\n",
       "4        0          4         4     7     0"
      ]
     },
     "execution_count": 18,
     "metadata": {},
     "output_type": "execute_result"
    }
   ],
   "source": [
    "# OUTPUT:\n",
    "data_ewd3.head()"
   ]
  },
  {
   "cell_type": "code",
   "execution_count": 19,
   "id": "8c9e0a31",
   "metadata": {},
   "outputs": [
    {
     "name": "stdout",
     "output_type": "stream",
     "text": [
      "recency\n",
      "recency\n",
      "0    375\n",
      "1    200\n",
      "2    114\n",
      "3     52\n",
      "4      1\n",
      "5      4\n",
      "9      2\n",
      "Name: recency, dtype: int64\n",
      "frequency\n",
      "frequency\n",
      "0    481\n",
      "1    164\n",
      "2     64\n",
      "3     22\n",
      "4      8\n",
      "5      1\n",
      "6      2\n",
      "7      1\n",
      "8      3\n",
      "9      2\n",
      "Name: frequency, dtype: int64\n",
      "monetary\n",
      "monetary\n",
      "0    481\n",
      "1    164\n",
      "2     64\n",
      "3     22\n",
      "4      8\n",
      "5      1\n",
      "6      2\n",
      "7      1\n",
      "8      3\n",
      "9      2\n",
      "Name: monetary, dtype: int64\n",
      "time\n",
      "time\n",
      "0    133\n",
      "1    135\n",
      "2    132\n",
      "3    104\n",
      "4     64\n",
      "5     55\n",
      "6     31\n",
      "7     47\n",
      "8     26\n",
      "9     21\n",
      "Name: time, dtype: int64\n"
     ]
    }
   ],
   "source": [
    "## OUTPUT: Check number of instance in each interval in the data_ewd\n",
    "# With equal width discretisation, each bin does not necessarily \n",
    "# contain the same number of observations.\n",
    "for col in num_col:\n",
    "    print(col)\n",
    "    print(data_ewd3.groupby(col)[col].count())"
   ]
  },
  {
   "cell_type": "markdown",
   "id": "8762ac47",
   "metadata": {},
   "source": [
    "## Equal Frequency Discretization - EFD\n",
    "- Reference: https://nbviewer.org/github/feature-engine/feature-engine-examples/blob/main/discretisation/EqualFrequencyDiscretiser.ipynb\n",
    "- Parameter:\n",
    "- q : int, default=10\n",
    "    Desired number of equal frequency intervals / bins. In other words the\n",
    "    number of quantiles in which the variables should be divided.\n",
    "\n",
    "- variables : list\n",
    "    The list of numerical variables that will be discretised. If None, the\n",
    "    EqualFrequencyDiscretiser() will select all numerical variables.\n",
    "\n",
    "- return_object : bool, default=False\n",
    "    Whether the numbers in the discrete variable should be returned as\n",
    "    numeric or as object. The decision is made by the user based on\n",
    "    whether they would like to proceed the engineering of the variable as\n",
    "    if it was numerical or categorical.\n",
    "\n",
    "- return_boundaries: bool, default=False\n",
    "    whether the output should be the interval boundaries. If True, it returns\n",
    "    the interval boundaries. If False, it returns integers."
   ]
  },
  {
   "cell_type": "code",
   "execution_count": 20,
   "id": "e8234fd8",
   "metadata": {},
   "outputs": [],
   "source": [
    "def efd_disc(data, k):\n",
    "    ## set up the discretisation transformer\n",
    "    efd_disc = efd(q=k, variables=num_col)\n",
    "    ## fit the transformer\n",
    "    efd_disc.fit(data)\n",
    "    ## transform the data\n",
    "    data_efd = efd_disc.transform(data)\n",
    "    ## binner_dict_ stores the interval limits identified for each variable.\n",
    "    efd_disc.binner_dict_\n",
    "    return data_efd"
   ]
  },
  {
   "cell_type": "markdown",
   "id": "7e983651",
   "metadata": {},
   "source": [
    "### Define function efd_disc, inputs include dataset, number of intervals (k)"
   ]
  },
  {
   "cell_type": "markdown",
   "id": "ee4de6e6",
   "metadata": {},
   "source": [
    "### EFD - Scenario 1: k = 4"
   ]
  },
  {
   "cell_type": "code",
   "execution_count": 21,
   "id": "c56b3922",
   "metadata": {},
   "outputs": [
    {
     "name": "stdout",
     "output_type": "stream",
     "text": [
      "Discretization time, EFD, k =  4 : 0.03804802894592285\n"
     ]
    }
   ],
   "source": [
    "# Perform discretization\n",
    "k = 4\n",
    "start = time.time() # Starting time\n",
    "data_efd1 = efd_disc(data, k)\n",
    "end = time.time()\n",
    "efd_t = end - start\n",
    "print(\"Discretization time, EFD, k = \", k,\":\", efd_t) # Total time execution"
   ]
  },
  {
   "cell_type": "code",
   "execution_count": 22,
   "id": "7469322d",
   "metadata": {},
   "outputs": [
    {
     "name": "stdout",
     "output_type": "stream",
     "text": [
      "recency\n",
      "recency\n",
      "0    187\n",
      "1    188\n",
      "2    200\n",
      "3    173\n",
      "Name: recency, dtype: int64\n",
      "frequency\n",
      "frequency\n",
      "0    270\n",
      "1    149\n",
      "2    157\n",
      "3    172\n",
      "Name: frequency, dtype: int64\n",
      "monetary\n",
      "monetary\n",
      "0    270\n",
      "1    149\n",
      "2    157\n",
      "3    172\n",
      "Name: monetary, dtype: int64\n",
      "time\n",
      "time\n",
      "0    233\n",
      "1    159\n",
      "2    176\n",
      "3    180\n",
      "Name: time, dtype: int64\n"
     ]
    }
   ],
   "source": [
    "## OUTPUT: Check number of instance in each interval \n",
    "for col in num_col:\n",
    "    print(col)\n",
    "    print(data_efd1.groupby(col)[col].count())"
   ]
  },
  {
   "cell_type": "markdown",
   "id": "67741352",
   "metadata": {},
   "source": [
    "### EFD - Scenario 2: k = 7"
   ]
  },
  {
   "cell_type": "code",
   "execution_count": 23,
   "id": "946dda77",
   "metadata": {},
   "outputs": [
    {
     "name": "stdout",
     "output_type": "stream",
     "text": [
      "Discretization time, EFD, k =  7 : 0.02478480339050293\n"
     ]
    }
   ],
   "source": [
    "# Perform discretization\n",
    "k = 7\n",
    "start = time.time() # Starting time\n",
    "data_efd2 = efd_disc(data, k)\n",
    "end = time.time()\n",
    "efd_t = end - start\n",
    "print(\"Discretization time, EFD, k = \", k,\":\",efd_t) # Total time execution"
   ]
  },
  {
   "cell_type": "code",
   "execution_count": 24,
   "id": "1abe9cc5",
   "metadata": {},
   "outputs": [
    {
     "name": "stdout",
     "output_type": "stream",
     "text": [
      "<class 'pandas.core.frame.DataFrame'>\n",
      "RangeIndex: 748 entries, 0 to 747\n",
      "Data columns (total 5 columns):\n",
      " #   Column     Non-Null Count  Dtype   \n",
      "---  ------     --------------  -----   \n",
      " 0   recency    748 non-null    int64   \n",
      " 1   frequency  748 non-null    int64   \n",
      " 2   monetary   748 non-null    int64   \n",
      " 3   time       748 non-null    int64   \n",
      " 4   label      748 non-null    category\n",
      "dtypes: category(1), int64(4)\n",
      "memory usage: 24.4 KB\n",
      "recency\n",
      "recency\n",
      "0    187\n",
      "1    169\n",
      "2    132\n",
      "3     87\n",
      "4     66\n",
      "5    107\n",
      "Name: recency, dtype: int64\n",
      "frequency\n",
      "frequency\n",
      "0    270\n",
      "1     87\n",
      "2    124\n",
      "3     95\n",
      "4     69\n",
      "5    103\n",
      "Name: frequency, dtype: int64\n",
      "monetary\n",
      "monetary\n",
      "0    270\n",
      "1     87\n",
      "2    124\n",
      "3     95\n",
      "4     69\n",
      "5    103\n",
      "Name: monetary, dtype: int64\n",
      "time\n",
      "time\n",
      "0    133\n",
      "1    100\n",
      "2    120\n",
      "3     74\n",
      "4    115\n",
      "5    107\n",
      "6     99\n",
      "Name: time, dtype: int64\n"
     ]
    }
   ],
   "source": [
    "## OUTPUT\n",
    "data_efd2.info()\n",
    "## OUTPUT: Check number of instance in each interval in the data_efd\n",
    "for col in num_col:\n",
    "    print(col)\n",
    "    print(data_efd2.groupby(col)[col].count())"
   ]
  },
  {
   "cell_type": "markdown",
   "id": "7f4d1ba7",
   "metadata": {},
   "source": [
    "### Scenario 3: k = 10"
   ]
  },
  {
   "cell_type": "code",
   "execution_count": 25,
   "id": "a3122312",
   "metadata": {},
   "outputs": [
    {
     "name": "stdout",
     "output_type": "stream",
     "text": [
      "Discretization time, EFD, k =  10 : 0.018009185791015625\n"
     ]
    }
   ],
   "source": [
    "# Perform discretization\n",
    "k = 10\n",
    "start = time.time() # Starting time\n",
    "data_efd3 = efd_disc(data, k)\n",
    "end = time.time()\n",
    "efd_t = end - start\n",
    "print(\"Discretization time, EFD, k = \", k,\":\",efd_t) # Total time execution"
   ]
  },
  {
   "cell_type": "code",
   "execution_count": 26,
   "id": "f5a73453",
   "metadata": {},
   "outputs": [
    {
     "name": "stdout",
     "output_type": "stream",
     "text": [
      "<class 'pandas.core.frame.DataFrame'>\n",
      "RangeIndex: 748 entries, 0 to 747\n",
      "Data columns (total 5 columns):\n",
      " #   Column     Non-Null Count  Dtype   \n",
      "---  ------     --------------  -----   \n",
      " 0   recency    748 non-null    int64   \n",
      " 1   frequency  748 non-null    int64   \n",
      " 2   monetary   748 non-null    int64   \n",
      " 3   time       748 non-null    int64   \n",
      " 4   label      748 non-null    category\n",
      "dtypes: category(1), int64(4)\n",
      "memory usage: 24.4 KB\n",
      "recency\n",
      "recency\n",
      "0    187\n",
      "1    169\n",
      "2     19\n",
      "3    113\n",
      "4     87\n",
      "5     65\n",
      "6     48\n",
      "7     60\n",
      "Name: recency, dtype: int64\n",
      "frequency\n",
      "frequency\n",
      "0    270\n",
      "1     87\n",
      "2     62\n",
      "3     62\n",
      "4     52\n",
      "5     74\n",
      "6     74\n",
      "7     67\n",
      "Name: frequency, dtype: int64\n",
      "monetary\n",
      "monetary\n",
      "0    270\n",
      "1     87\n",
      "2     62\n",
      "3     62\n",
      "4     52\n",
      "5     74\n",
      "6     74\n",
      "7     67\n",
      "Name: monetary, dtype: int64\n",
      "time\n",
      "time\n",
      "0    94\n",
      "1    85\n",
      "2    54\n",
      "3    80\n",
      "4    79\n",
      "5    65\n",
      "6    72\n",
      "7    73\n",
      "8    72\n",
      "9    74\n",
      "Name: time, dtype: int64\n"
     ]
    }
   ],
   "source": [
    "## OUTPUT\n",
    "data_efd3.info()\n",
    "## OUTPUT: Check number of instance in each interval in the data_efd\n",
    "for col in num_col:\n",
    "    print(col)\n",
    "    print(data_efd3.groupby(col)[col].count())"
   ]
  },
  {
   "cell_type": "markdown",
   "id": "c450e48c",
   "metadata": {},
   "source": [
    "## Fixed Frequency Discretization - FFD"
   ]
  },
  {
   "cell_type": "markdown",
   "id": "b8b5f71a",
   "metadata": {},
   "source": [
    "### Define function ffd_disc: modify input of function efd\n",
    "Input include dataset, interval frequency (m)"
   ]
  },
  {
   "cell_type": "code",
   "execution_count": 27,
   "id": "9912db8b",
   "metadata": {},
   "outputs": [],
   "source": [
    "def ffd_disc(data, m): # \n",
    "    n = len(data)\n",
    "    ## set up the discretisation transformer\n",
    "    ffd_disc = efd(q=round(n/m), variables=num_col) # number of bins = n/m\n",
    "    ## fit the transformer\n",
    "    ffd_disc.fit(data)\n",
    "    ## transform the data\n",
    "    data_ffd = ffd_disc.transform(data)\n",
    "    ## binner_dict_ stores the interval limits identified for each variable.\n",
    "    ffd_disc.binner_dict_\n",
    "    return data_ffd"
   ]
  },
  {
   "cell_type": "markdown",
   "id": "642aaa9c",
   "metadata": {},
   "source": [
    "### FFD - Scenario 1: m = 10"
   ]
  },
  {
   "cell_type": "code",
   "execution_count": 28,
   "id": "b6a65f8e",
   "metadata": {},
   "outputs": [
    {
     "name": "stdout",
     "output_type": "stream",
     "text": [
      "Discretization time, FFD,  m =  10 : 0.02072596549987793\n"
     ]
    }
   ],
   "source": [
    "# Perform discretization\n",
    "m = 10\n",
    "start = time.time() # Starting time\n",
    "data_ffd1 = ffd_disc(data, m)\n",
    "end = time.time()\n",
    "ffd_t = end - start\n",
    "print(\"Discretization time, FFD,  m = \", m, \":\", ffd_t) # Total time execution"
   ]
  },
  {
   "cell_type": "code",
   "execution_count": 29,
   "id": "b5a7314c",
   "metadata": {},
   "outputs": [
    {
     "name": "stdout",
     "output_type": "stream",
     "text": [
      "<class 'pandas.core.frame.DataFrame'>\n",
      "RangeIndex: 748 entries, 0 to 747\n",
      "Data columns (total 5 columns):\n",
      " #   Column     Non-Null Count  Dtype   \n",
      "---  ------     --------------  -----   \n",
      " 0   recency    748 non-null    int64   \n",
      " 1   frequency  748 non-null    int64   \n",
      " 2   monetary   748 non-null    int64   \n",
      " 3   time       748 non-null    int64   \n",
      " 4   label      748 non-null    category\n",
      "dtypes: category(1), int64(4)\n",
      "memory usage: 24.4 KB\n",
      "recency\n",
      "recency\n",
      "0      14\n",
      "1     173\n",
      "2      13\n",
      "4     156\n",
      "5       6\n",
      "6      13\n",
      "7       6\n",
      "8      20\n",
      "9      87\n",
      "10      6\n",
      "11      5\n",
      "12     76\n",
      "13     65\n",
      "14     48\n",
      "16     51\n",
      "17      9\n",
      "Name: recency, dtype: int64\n",
      "frequency\n",
      "frequency\n",
      "0     270\n",
      "1      87\n",
      "2      62\n",
      "4      62\n",
      "5      52\n",
      "6      43\n",
      "7      31\n",
      "8      24\n",
      "9      14\n",
      "10     22\n",
      "11     14\n",
      "12      9\n",
      "13     13\n",
      "14      6\n",
      "15     13\n",
      "16      7\n",
      "17     10\n",
      "18      9\n",
      "Name: frequency, dtype: int64\n",
      "monetary\n",
      "monetary\n",
      "0     270\n",
      "1      87\n",
      "2      62\n",
      "4      62\n",
      "5      52\n",
      "6      43\n",
      "7      31\n",
      "8      24\n",
      "9      14\n",
      "10     22\n",
      "11     14\n",
      "12      9\n",
      "13     13\n",
      "14      6\n",
      "15     13\n",
      "16      7\n",
      "17     10\n",
      "18      9\n",
      "Name: monetary, dtype: int64\n",
      "time\n",
      "time\n",
      "0     94\n",
      "1      6\n",
      "2     33\n",
      "3     46\n",
      "4      3\n",
      "5     51\n",
      "6      7\n",
      "7     28\n",
      "8      9\n",
      "9     36\n",
      "10     7\n",
      "11    33\n",
      "12    39\n",
      "13     8\n",
      "14    17\n",
      "15    10\n",
      "16    30\n",
      "17     5\n",
      "18    21\n",
      "19     7\n",
      "20    14\n",
      "21    12\n",
      "22     2\n",
      "23    11\n",
      "24    13\n",
      "25     7\n",
      "26    10\n",
      "27     9\n",
      "28    24\n",
      "29    10\n",
      "30    17\n",
      "31     9\n",
      "32    21\n",
      "33    14\n",
      "34     5\n",
      "35    12\n",
      "36    12\n",
      "37     7\n",
      "38    11\n",
      "39    10\n",
      "40    12\n",
      "41     6\n",
      "42    10\n",
      "Name: time, dtype: int64\n"
     ]
    }
   ],
   "source": [
    "## OUTPUT\n",
    "data_ffd1.info()\n",
    "## OUTPUT: Check number of instance in each interval\n",
    "for col in num_col:\n",
    "    print(col)\n",
    "    print(data_ffd1.groupby(col)[col].count())"
   ]
  },
  {
   "cell_type": "markdown",
   "id": "b4935f0a",
   "metadata": {},
   "source": [
    "### FFD - Scenario 1: m = 30"
   ]
  },
  {
   "cell_type": "code",
   "execution_count": 30,
   "id": "55eab8e8",
   "metadata": {},
   "outputs": [
    {
     "name": "stdout",
     "output_type": "stream",
     "text": [
      "Discretization time, EFD, m =  30 : 0.020809173583984375\n"
     ]
    }
   ],
   "source": [
    "# Perform discretization\n",
    "m = 30\n",
    "start = time.time() # Starting time\n",
    "data_ffd2 = ffd_disc(data, m)\n",
    "end = time.time()\n",
    "ffd_t = end - start\n",
    "print(\"Discretization time, EFD, m = \", m, \":\", ffd_t) # Total time execution"
   ]
  },
  {
   "cell_type": "code",
   "execution_count": 31,
   "id": "a673581e",
   "metadata": {},
   "outputs": [
    {
     "name": "stdout",
     "output_type": "stream",
     "text": [
      "<class 'pandas.core.frame.DataFrame'>\n",
      "RangeIndex: 748 entries, 0 to 747\n",
      "Data columns (total 5 columns):\n",
      " #   Column     Non-Null Count  Dtype   \n",
      "---  ------     --------------  -----   \n",
      " 0   recency    748 non-null    int64   \n",
      " 1   frequency  748 non-null    int64   \n",
      " 2   monetary   748 non-null    int64   \n",
      " 3   time       748 non-null    int64   \n",
      " 4   label      748 non-null    category\n",
      "dtypes: category(1), int64(4)\n",
      "memory usage: 24.4 KB\n",
      "recency\n",
      "recency\n",
      "0     187\n",
      "1     169\n",
      "2       6\n",
      "3      39\n",
      "4      87\n",
      "5      87\n",
      "6      65\n",
      "7      48\n",
      "9      51\n",
      "10      9\n",
      "Name: recency, dtype: int64\n",
      "frequency\n",
      "frequency\n",
      "0     270\n",
      "1      87\n",
      "2      62\n",
      "4      62\n",
      "5      52\n",
      "6      43\n",
      "7      31\n",
      "8      24\n",
      "9      36\n",
      "10     23\n",
      "11     32\n",
      "12     26\n",
      "Name: frequency, dtype: int64\n",
      "monetary\n",
      "monetary\n",
      "0     270\n",
      "1      87\n",
      "2      62\n",
      "4      62\n",
      "5      52\n",
      "6      43\n",
      "7      31\n",
      "8      24\n",
      "9      36\n",
      "10     23\n",
      "11     32\n",
      "12     26\n",
      "Name: monetary, dtype: int64\n",
      "time\n",
      "time\n",
      "0     94\n",
      "1     39\n",
      "2     46\n",
      "3      3\n",
      "4     51\n",
      "5      7\n",
      "6     37\n",
      "7     36\n",
      "8     40\n",
      "9     39\n",
      "10    35\n",
      "11    30\n",
      "12    26\n",
      "13    33\n",
      "14    26\n",
      "15    26\n",
      "16    34\n",
      "17    26\n",
      "18    35\n",
      "19    29\n",
      "20    28\n",
      "21    28\n",
      "Name: time, dtype: int64\n"
     ]
    }
   ],
   "source": [
    "## OUTPUT\n",
    "data_ffd2.info()\n",
    "## OUTPUT: Check number of instance in each interval\n",
    "for col in num_col:\n",
    "    print(col)\n",
    "    print(data_ffd2.groupby(col)[col].count())"
   ]
  },
  {
   "cell_type": "markdown",
   "id": "3609482c",
   "metadata": {},
   "source": [
    "### FFD - Scenario 3: m = 60"
   ]
  },
  {
   "cell_type": "code",
   "execution_count": 32,
   "id": "a98ab666",
   "metadata": {},
   "outputs": [
    {
     "name": "stdout",
     "output_type": "stream",
     "text": [
      "Discretization time, FFD, m =  60 : 0.019863128662109375\n"
     ]
    }
   ],
   "source": [
    "# Perform discretization\n",
    "m = 60\n",
    "start = time.time() # Starting time\n",
    "data_ffd3 = ffd_disc(data, m)\n",
    "end = time.time()\n",
    "ffd_t = end - start\n",
    "print(\"Discretization time, FFD, m = \", m, \":\", ffd_t) # Total time execution"
   ]
  },
  {
   "cell_type": "code",
   "execution_count": 33,
   "id": "f7b6dd92",
   "metadata": {},
   "outputs": [
    {
     "name": "stdout",
     "output_type": "stream",
     "text": [
      "<class 'pandas.core.frame.DataFrame'>\n",
      "RangeIndex: 748 entries, 0 to 747\n",
      "Data columns (total 5 columns):\n",
      " #   Column     Non-Null Count  Dtype   \n",
      "---  ------     --------------  -----   \n",
      " 0   recency    748 non-null    int64   \n",
      " 1   frequency  748 non-null    int64   \n",
      " 2   monetary   748 non-null    int64   \n",
      " 3   time       748 non-null    int64   \n",
      " 4   label      748 non-null    category\n",
      "dtypes: category(1), int64(4)\n",
      "memory usage: 24.4 KB\n",
      "recency\n",
      "recency\n",
      "0    187\n",
      "2    169\n",
      "3     19\n",
      "4    113\n",
      "5     11\n",
      "6     76\n",
      "7     65\n",
      "8     48\n",
      "9     60\n",
      "Name: recency, dtype: int64\n",
      "frequency\n",
      "frequency\n",
      "0    270\n",
      "1     87\n",
      "2     62\n",
      "3     62\n",
      "4     52\n",
      "5     43\n",
      "6     55\n",
      "7     59\n",
      "8     58\n",
      "Name: frequency, dtype: int64\n",
      "monetary\n",
      "monetary\n",
      "0    270\n",
      "1     87\n",
      "2     62\n",
      "3     62\n",
      "4     52\n",
      "5     43\n",
      "6     55\n",
      "7     59\n",
      "8     58\n",
      "Name: monetary, dtype: int64\n",
      "time\n",
      "time\n",
      "0      94\n",
      "1      39\n",
      "2     100\n",
      "3      35\n",
      "4      45\n",
      "5      79\n",
      "6      65\n",
      "7      47\n",
      "8      64\n",
      "9      55\n",
      "10     62\n",
      "11     63\n",
      "Name: time, dtype: int64\n"
     ]
    }
   ],
   "source": [
    "## OUTPUT\n",
    "data_ffd3.info()\n",
    "## OUTPUT: Check number of instance in each interval\n",
    "for col in num_col:\n",
    "    print(col)\n",
    "    print(data_ffd3.groupby(col)[col].count())"
   ]
  },
  {
   "cell_type": "markdown",
   "id": "5c293eab",
   "metadata": {},
   "source": [
    "#### FFD, m = 100"
   ]
  },
  {
   "cell_type": "code",
   "execution_count": 34,
   "id": "98d89f8c",
   "metadata": {},
   "outputs": [
    {
     "name": "stdout",
     "output_type": "stream",
     "text": [
      "Discretization time, FFD, m =  100 : 0.01761317253112793\n"
     ]
    }
   ],
   "source": [
    "# Perform discretization\n",
    "m = 100\n",
    "start = time.time() # Starting time\n",
    "data_ffd4 = ffd_disc(data, m)\n",
    "end = time.time()\n",
    "ffd_t = end - start\n",
    "print(\"Discretization time, FFD, m = \", m, \":\", ffd_t) # Total time execution"
   ]
  },
  {
   "cell_type": "code",
   "execution_count": 35,
   "id": "aa54a520",
   "metadata": {},
   "outputs": [
    {
     "name": "stdout",
     "output_type": "stream",
     "text": [
      "<class 'pandas.core.frame.DataFrame'>\n",
      "RangeIndex: 748 entries, 0 to 747\n",
      "Data columns (total 5 columns):\n",
      " #   Column     Non-Null Count  Dtype   \n",
      "---  ------     --------------  -----   \n",
      " 0   recency    748 non-null    int64   \n",
      " 1   frequency  748 non-null    int64   \n",
      " 2   monetary   748 non-null    int64   \n",
      " 3   time       748 non-null    int64   \n",
      " 4   label      748 non-null    category\n",
      "dtypes: category(1), int64(4)\n",
      "memory usage: 24.4 KB\n",
      "recency\n",
      "recency\n",
      "0    187\n",
      "1    169\n",
      "2    132\n",
      "3     87\n",
      "4     66\n",
      "5    107\n",
      "Name: recency, dtype: int64\n",
      "frequency\n",
      "frequency\n",
      "0    270\n",
      "1     87\n",
      "2    124\n",
      "3     95\n",
      "4     69\n",
      "5    103\n",
      "Name: frequency, dtype: int64\n",
      "monetary\n",
      "monetary\n",
      "0    270\n",
      "1     87\n",
      "2    124\n",
      "3     95\n",
      "4     69\n",
      "5    103\n",
      "Name: monetary, dtype: int64\n",
      "time\n",
      "time\n",
      "0    133\n",
      "1    100\n",
      "2    120\n",
      "3     74\n",
      "4    115\n",
      "5    107\n",
      "6     99\n",
      "Name: time, dtype: int64\n"
     ]
    }
   ],
   "source": [
    "## OUTPUT\n",
    "data_ffd4.info()\n",
    "\n",
    "## OUTPUT: Check number of instance in each interval\n",
    "for col in num_col:\n",
    "    print(col)\n",
    "    print(data_ffd4.groupby(col)[col].count())"
   ]
  },
  {
   "cell_type": "markdown",
   "id": "8cc32572",
   "metadata": {},
   "source": [
    "### Export all discretized datasets"
   ]
  },
  {
   "cell_type": "code",
   "execution_count": 36,
   "id": "6b8f390c",
   "metadata": {},
   "outputs": [],
   "source": [
    "# EWD datasets:\n",
    "data_ewd1.to_csv('tranfusion_ewd1.csv') # k=4\n",
    "data_ewd2.to_csv('tranfusion_ewd2.csv') # k=7\n",
    "data_ewd3.to_csv('tranfusion_ewd3.csv') # k=10"
   ]
  },
  {
   "cell_type": "code",
   "execution_count": 37,
   "id": "27c0ec2b",
   "metadata": {},
   "outputs": [],
   "source": [
    "# EFD datasets:\n",
    "data_efd1.to_csv('tranfusion_efd1.csv') # k=4\n",
    "data_efd2.to_csv('tranfusion_efd2.csv') # k=7\n",
    "data_efd3.to_csv('tranfusion_efd3.csv') # k=10\n"
   ]
  },
  {
   "cell_type": "code",
   "execution_count": 38,
   "id": "12543aa6",
   "metadata": {},
   "outputs": [],
   "source": [
    "# FFD datasets:\n",
    "data_ffd1.to_csv('tranfusion_ffd1.csv') # m=10\n",
    "data_ffd2.to_csv('tranfusion_ffd2.csv') # m=30\n",
    "data_ffd3.to_csv('tranfusion_ffd3.csv') # m=60\n",
    "data_ffd4.to_csv('tranfusion_ffd4.csv') # m=100"
   ]
  },
  {
   "cell_type": "code",
   "execution_count": null,
   "id": "999af846",
   "metadata": {},
   "outputs": [],
   "source": []
  }
 ],
 "metadata": {
  "kernelspec": {
   "display_name": "Python 3",
   "language": "python",
   "name": "python3"
  },
  "language_info": {
   "codemirror_mode": {
    "name": "ipython",
    "version": 3
   },
   "file_extension": ".py",
   "mimetype": "text/x-python",
   "name": "python",
   "nbconvert_exporter": "python",
   "pygments_lexer": "ipython3",
   "version": "3.8.8"
  }
 },
 "nbformat": 4,
 "nbformat_minor": 5
}
