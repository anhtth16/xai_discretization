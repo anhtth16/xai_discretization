{
 "cells": [
  {
   "cell_type": "markdown",
   "id": "514e58db",
   "metadata": {},
   "source": [
    "# Classification models - unsupervised discretization\n",
    "\n",
    "Dataset: adult <br>\n",
    "By: Sam <br>\n",
    "Update at: 21/03/2023 <br>\n",
    "\n",
    "====\n",
    "\n",
    "Summary:<br>\n",
    "- Import unsupervised discretised datasets (already encoded categorical attributes)\n",
    "- Split dataset: 75% training, 25% testing, seed = 30\n",
    "- Apply label encoding for object attributes\n",
    "- Class imbalance: Using SMOTE-Tomek for training data\n",
    "- Perform 3 classification models: ID3, Categorical Naive Bayes, Knn-Hamming\n",
    "**For categorical Naive Bayes: passing number of categories of features in the parameter min_categories to avoid index out of bound error**\n",
    "- Evaluation on testing data: Classification report (accuracy, precision, recall, f1-score) + G-mean\n",
    "- Export models after training: CNB models - joblib; ID3 & Knn-Hamming: skops\n",
    "- Write models performance to file: 'adult_models.txt'."
   ]
  },
  {
   "cell_type": "markdown",
   "id": "349a2e49",
   "metadata": {},
   "source": [
    "### About Dataset\n",
    "Split into train-test using MLC++ GenCVFiles (2/3, 1/3 random).\n",
    "- 48842 instances, mix of continuous and discrete    (train=32561, test=16281)\n",
    "- 45222 if instances with unknown values are removed (train=30162, test=15060)\n",
    "- Duplicate or conflicting instances : 6\n",
    "- Class probabilities for adult.all file\n",
    "- Probability for the label '>50K'  : 23.93% / 24.78% (without unknowns)\n",
    "- Probability for the label '<=50K' : 76.07% / 75.22% (without unknowns)\n",
    "\n",
    "ATTRIBUTE:\n",
    "*Continuous attributes* : 6\n",
    "- age: continuous.\n",
    "- fnlwgt: continuous.\n",
    "- education-num: continuous.\n",
    "- capital-gain: continuous.\n",
    "- capital-loss: continuous.\n",
    "- hours-per-week: continuous.\n",
    "\n",
    "*Categorical attributes* : 8\n",
    "- workclass\n",
    "- education\n",
    "- marital-status\n",
    "- occupation\n",
    "- relationship\n",
    "- race\n",
    "- sex\n",
    "- native-country"
   ]
  },
  {
   "cell_type": "code",
   "execution_count": 1,
   "id": "6e959660",
   "metadata": {},
   "outputs": [],
   "source": [
    "import pandas as pd\n",
    "from pandas import read_csv\n",
    "from pandas import set_option\n",
    "import numpy as np\n",
    "from numpy import arange\n",
    "## EDA\n",
    "from collections import Counter"
   ]
  },
  {
   "cell_type": "code",
   "execution_count": 2,
   "id": "c39986bb",
   "metadata": {},
   "outputs": [],
   "source": [
    "# Pre-processing\n",
    "from sklearn.preprocessing import OrdinalEncoder\n",
    "# Cross validation\n",
    "from sklearn.model_selection import train_test_split\n",
    "from sklearn.model_selection import KFold\n",
    "from sklearn.model_selection import RepeatedKFold\n",
    "from sklearn.model_selection import cross_val_score # 1 metric\n",
    "from sklearn.model_selection import cross_validate # more than 1 metric\n",
    "from sklearn.model_selection import GridSearchCV\n",
    "from sklearn.pipeline import Pipeline"
   ]
  },
  {
   "cell_type": "code",
   "execution_count": 3,
   "id": "a1d3237a",
   "metadata": {},
   "outputs": [],
   "source": [
    "# For Naive Bayes\n",
    "from sklearn.naive_bayes import CategoricalNB # Categorical Naive Bayes\n",
    "from sklearn.naive_bayes import MultinomialNB # Multinominal Naive Bayes (suitable for NLP)\n",
    "from mixed_naive_bayes import MixedNB # Mixed Naive Bayes for combination of both discrete & continuous feature"
   ]
  },
  {
   "cell_type": "code",
   "execution_count": 4,
   "id": "9e9ddea0",
   "metadata": {},
   "outputs": [],
   "source": [
    "# For decision tree ID3 \n",
    "# https://stackoverflow.com/questions/61867945/python-import-error-cannot-import-name-six-from-sklearn-externals\n",
    "import six\n",
    "import sys\n",
    "sys.modules['sklearn.externals.six'] = six\n",
    "import mlrose\n",
    "from id3 import Id3Estimator # ID3 Decision Tree (https://pypi.org/project/decision-tree-id3/)\n",
    "from id3 import export_graphviz"
   ]
  },
  {
   "cell_type": "code",
   "execution_count": 5,
   "id": "beb75f81",
   "metadata": {},
   "outputs": [],
   "source": [
    "# Knn-VDM 3\n",
    "from vdm3 import ValueDifferenceMetric\n",
    "from sklearn.neighbors import KNeighborsClassifier"
   ]
  },
  {
   "cell_type": "code",
   "execution_count": 6,
   "id": "039c536e",
   "metadata": {},
   "outputs": [],
   "source": [
    "# For model evaluation\n",
    "from sklearn.metrics import classification_report\n",
    "from sklearn import metrics\n",
    "import sklearn.metrics as metrics\n",
    "from sklearn.metrics import make_scorer\n",
    "from sklearn.metrics import confusion_matrix"
   ]
  },
  {
   "cell_type": "code",
   "execution_count": 7,
   "id": "e4ec1b7c",
   "metadata": {},
   "outputs": [],
   "source": [
    "import seaborn as sns\n",
    "import matplotlib.pyplot as plt"
   ]
  },
  {
   "cell_type": "markdown",
   "id": "13679f21",
   "metadata": {},
   "source": [
    "# 1. EWD data"
   ]
  },
  {
   "cell_type": "markdown",
   "id": "72f773ca",
   "metadata": {},
   "source": [
    "## 1.1 EWD, k = 4"
   ]
  },
  {
   "cell_type": "code",
   "execution_count": 8,
   "id": "219f214f",
   "metadata": {},
   "outputs": [
    {
     "name": "stdout",
     "output_type": "stream",
     "text": [
      "<class 'pandas.core.frame.DataFrame'>\n",
      "RangeIndex: 48842 entries, 0 to 48841\n",
      "Data columns (total 15 columns):\n",
      " #   Column          Non-Null Count  Dtype \n",
      "---  ------          --------------  ----- \n",
      " 0   age             48842 non-null  int64 \n",
      " 1   workclass       48842 non-null  object\n",
      " 2   fnlwgt          48842 non-null  int64 \n",
      " 3   education       48842 non-null  object\n",
      " 4   education-num   48842 non-null  int64 \n",
      " 5   marital-status  48842 non-null  object\n",
      " 6   occupation      48842 non-null  object\n",
      " 7   relationship    48842 non-null  object\n",
      " 8   race            48842 non-null  object\n",
      " 9   sex             48842 non-null  object\n",
      " 10  capital-gain    48842 non-null  int64 \n",
      " 11  capital-loss    48842 non-null  int64 \n",
      " 12  hours-per-week  48842 non-null  int64 \n",
      " 13  native-country  48842 non-null  object\n",
      " 14  label           48842 non-null  int64 \n",
      "dtypes: int64(7), object(8)\n",
      "memory usage: 5.6+ MB\n"
     ]
    }
   ],
   "source": [
    "# Read data\n",
    "df_ewd1 = pd.read_csv('adult_ewd1.csv')\n",
    "df_ewd1.rename(columns={'class':'label'}, inplace=True)\n",
    "df_ewd1.info()"
   ]
  },
  {
   "cell_type": "code",
   "execution_count": 9,
   "id": "c5842452",
   "metadata": {},
   "outputs": [
    {
     "name": "stdout",
     "output_type": "stream",
     "text": [
      "List of variable for label encoding:  Index(['workclass', 'education', 'marital-status', 'occupation',\n",
      "       'relationship', 'race', 'sex', 'native-country'],\n",
      "      dtype='object')\n",
      "<class 'pandas.core.frame.DataFrame'>\n",
      "RangeIndex: 48842 entries, 0 to 48841\n",
      "Data columns (total 15 columns):\n",
      " #   Column          Non-Null Count  Dtype\n",
      "---  ------          --------------  -----\n",
      " 0   age             48842 non-null  int64\n",
      " 1   workclass       48842 non-null  int64\n",
      " 2   fnlwgt          48842 non-null  int64\n",
      " 3   education       48842 non-null  int64\n",
      " 4   education-num   48842 non-null  int64\n",
      " 5   marital-status  48842 non-null  int64\n",
      " 6   occupation      48842 non-null  int64\n",
      " 7   relationship    48842 non-null  int64\n",
      " 8   race            48842 non-null  int64\n",
      " 9   sex             48842 non-null  int64\n",
      " 10  capital-gain    48842 non-null  int64\n",
      " 11  capital-loss    48842 non-null  int64\n",
      " 12  hours-per-week  48842 non-null  int64\n",
      " 13  native-country  48842 non-null  int64\n",
      " 14  label           48842 non-null  int64\n",
      "dtypes: int64(15)\n",
      "memory usage: 5.6 MB\n",
      "None\n"
     ]
    }
   ],
   "source": [
    "#Label Encoding for object to numeric conversion\n",
    "#FYI: https://www.kaggle.com/discussions/getting-started/61148\n",
    "objList = df_ewd1.select_dtypes(include = \"object\").columns\n",
    "print('List of variable for label encoding: ', objList)\n",
    "\n",
    "from sklearn.preprocessing import LabelEncoder\n",
    "le = LabelEncoder()\n",
    "\n",
    "for feat in objList:\n",
    "    df_ewd1[feat] = le.fit_transform(df_ewd1[feat].astype(str))\n",
    "\n",
    "print (df_ewd1.info())"
   ]
  },
  {
   "cell_type": "code",
   "execution_count": 10,
   "id": "3c5bf499",
   "metadata": {},
   "outputs": [
    {
     "name": "stdout",
     "output_type": "stream",
     "text": [
      "<class 'pandas.core.frame.DataFrame'>\n",
      "RangeIndex: 48842 entries, 0 to 48841\n",
      "Data columns (total 15 columns):\n",
      " #   Column          Non-Null Count  Dtype \n",
      "---  ------          --------------  ----- \n",
      " 0   age             48842 non-null  int64 \n",
      " 1   workclass       48842 non-null  object\n",
      " 2   fnlwgt          48842 non-null  int64 \n",
      " 3   education       48842 non-null  object\n",
      " 4   education-num   48842 non-null  int64 \n",
      " 5   marital-status  48842 non-null  object\n",
      " 6   occupation      48842 non-null  object\n",
      " 7   relationship    48842 non-null  object\n",
      " 8   race            48842 non-null  object\n",
      " 9   sex             48842 non-null  object\n",
      " 10  capital-gain    48842 non-null  int64 \n",
      " 11  capital-loss    48842 non-null  int64 \n",
      " 12  hours-per-week  48842 non-null  int64 \n",
      " 13  native-country  48842 non-null  object\n",
      " 14  label           48842 non-null  int64 \n",
      "dtypes: int64(7), object(8)\n",
      "memory usage: 5.6+ MB\n",
      "List of variable for label encoding:  Index(['workclass', 'education', 'marital-status', 'occupation',\n",
      "       'relationship', 'race', 'sex', 'native-country'],\n",
      "      dtype='object')\n",
      "<class 'pandas.core.frame.DataFrame'>\n",
      "RangeIndex: 48842 entries, 0 to 48841\n",
      "Data columns (total 15 columns):\n",
      " #   Column          Non-Null Count  Dtype\n",
      "---  ------          --------------  -----\n",
      " 0   age             48842 non-null  int64\n",
      " 1   workclass       48842 non-null  int64\n",
      " 2   fnlwgt          48842 non-null  int64\n",
      " 3   education       48842 non-null  int64\n",
      " 4   education-num   48842 non-null  int64\n",
      " 5   marital-status  48842 non-null  int64\n",
      " 6   occupation      48842 non-null  int64\n",
      " 7   relationship    48842 non-null  int64\n",
      " 8   race            48842 non-null  int64\n",
      " 9   sex             48842 non-null  int64\n",
      " 10  capital-gain    48842 non-null  int64\n",
      " 11  capital-loss    48842 non-null  int64\n",
      " 12  hours-per-week  48842 non-null  int64\n",
      " 13  native-country  48842 non-null  int64\n",
      " 14  label           48842 non-null  int64\n",
      "dtypes: int64(15)\n",
      "memory usage: 5.6 MB\n",
      "None\n",
      "(48842, 14) (48842,)\n",
      "Class representation - original:  Counter({0: 37155, 1: 11687})\n",
      "Class representation - training data:  Counter({0: 27866, 1: 8765})\n",
      "Class representation - testing data:  Counter({0: 9289, 1: 2922})\n"
     ]
    },
    {
     "data": {
      "text/plain": [
       "<AxesSubplot:title={'center':'Class distribution after applying SMOTE Tomek'}, xlabel='Income Class'>"
      ]
     },
     "execution_count": 10,
     "metadata": {},
     "output_type": "execute_result"
    },
    {
     "data": {
      "image/png": "[encoded data removed]",
      "text/plain": [
       "<Figure size 432x288 with 1 Axes>"
      ]
     },
     "metadata": {
      "needs_background": "light"
     },
     "output_type": "display_data"
    }
   ],
   "source": [
    "# Complete code for data preperation\n",
    "# Read data\n",
    "df_ewd1 = pd.read_csv('adult_ewd1.csv')\n",
    "#df_ewd1.drop(df_ewd1.columns[0], axis=1, inplace = True)\n",
    "\n",
    "df_ewd1.rename(columns={'class':'label'}, inplace=True)\n",
    "\n",
    "disc = 'EWD'\n",
    "k = 4\n",
    "\n",
    "df_ewd1.info()\n",
    "\n",
    "#Label Encoding for object to numeric conversion\n",
    "#FYI: https://www.kaggle.com/discussions/getting-started/61148\n",
    "objList = df_ewd1.select_dtypes(include = \"object\").columns\n",
    "print('List of variable for label encoding: ', objList)\n",
    "\n",
    "from sklearn.preprocessing import LabelEncoder\n",
    "le = LabelEncoder()\n",
    "\n",
    "for feat in objList:\n",
    "    df_ewd1[feat] = le.fit_transform(df_ewd1[feat].astype(str))\n",
    "\n",
    "print (df_ewd1.info())\n",
    "\n",
    "data = df_ewd1.values\n",
    "data.shape\n",
    "\n",
    "features = df_ewd1.drop('label', axis = 1).columns\n",
    "\n",
    "# separate the data into X and y\n",
    "X = data[:, : len(features)]\n",
    "Y = data[:,-1]\n",
    "\n",
    "print(X.shape, Y.shape)\n",
    "\n",
    "# Split train test\n",
    "x_train, x_test, y_train, y_test = train_test_split(X, Y, test_size=0.25, random_state = 30, stratify=Y)\n",
    "\n",
    "# Check representation of class\n",
    "print('Class representation - original: ', Counter(Y)) \n",
    "print('Class representation - training data: ', Counter(y_train)) \n",
    "print('Class representation - testing data: ', Counter(y_test)) \n",
    "\n",
    "# Check number of categories for features\n",
    "n_categories = df_ewd1[features].nunique()\n",
    "\n",
    "# SMOTE-Tomek\n",
    "from imblearn.combine import SMOTETomek\n",
    "smt_tomek = SMOTETomek(random_state=42)\n",
    "x_resample, y_resample = smt_tomek.fit_resample(x_train, y_train)\n",
    "\n",
    "# Check labels in traning dataset after SMOTE\n",
    "pd.Series(y_resample) \\\n",
    ".value_counts() \\\n",
    ".plot(kind='bar', title='Class distribution after applying SMOTE Tomek', xlabel='Income Class')"
   ]
  },
  {
   "cell_type": "markdown",
   "id": "22930726",
   "metadata": {},
   "source": [
    "### Models - EWD, k=4"
   ]
  },
  {
   "cell_type": "code",
   "execution_count": 11,
   "id": "88d73217",
   "metadata": {},
   "outputs": [],
   "source": [
    "# ID3 - Default\n",
    "model = 'ID3'\n",
    "dataset = 'adult'\n",
    "discretizer = 'EWD'\n",
    "disc_param = 'k = 4'\n",
    "\n",
    "f = open(\"adult_models.txt\", \"a\")\n",
    "import time\n",
    "start = time.time() # For measuring time execution\n",
    "\n",
    "model_id3 = Id3Estimator()\n",
    "model_id3.fit(x_resample, y_resample)\n",
    "\n",
    "# Testing\n",
    "y_pred_id3 = model_id3.predict(x_test)\n",
    "print(f'Models results: model {model}, dataset {dataset}, discretization {discretizer} with parameter {disc_param}', \n",
    "      file = f)\n",
    "print('Classification report', file = f)\n",
    "print(classification_report(y_test, y_pred_id3), file = f)\n",
    "\n",
    "from imblearn.metrics import geometric_mean_score as gmean\n",
    "print('G-mean:', gmean(y_test, y_pred_id3),file = f)\n",
    "\n",
    "end = time.time()\n",
    "print(f'Time for training model {model}- default, {disc}, k = {k} is: {end - start}.', file = f) # Total time execution\n",
    "print('=='*20, file = f)\n",
    "f.close()\n",
    "\n",
    "# Save models\n",
    "import skops.io as sio\n",
    "model_name = f\"{dataset}_{model}_{discretizer}_{k}.skops\"\n",
    "obj = sio.dump(model_id3, model_name)"
   ]
  },
  {
   "cell_type": "code",
   "execution_count": 12,
   "id": "e2788992",
   "metadata": {},
   "outputs": [
    {
     "name": "stdout",
     "output_type": "stream",
     "text": [
      "adult_CNB_EWD_4.sav\n"
     ]
    },
    {
     "data": {
      "text/plain": [
       "['adult_CNB_EWD_4.sav']"
      ]
     },
     "execution_count": 12,
     "metadata": {},
     "output_type": "execute_result"
    }
   ],
   "source": [
    "# Naive Bayes - pass number of categories in min_categories\n",
    "model = 'CNB'\n",
    "dataset = 'adult'\n",
    "discretizer = 'EWD'\n",
    "disc_param = 'k = 4'\n",
    "\n",
    "f = open(\"adult_models.txt\", \"a\")\n",
    "import time\n",
    "start = time.time() # For measuring time execution\n",
    "\n",
    "model_nb = CategoricalNB(min_categories = n_categories)\n",
    "model_nb.fit(x_resample, y_resample)\n",
    "\n",
    "# Testing\n",
    "y_pred_nb = model_nb.predict(x_test)\n",
    "model_nb.classes_\n",
    "print(f'Models results: model {model}, dataset {dataset}, discretization {discretizer} with parameter {disc_param}', \n",
    "      file = f)\n",
    "print('Classification report', file = f)\n",
    "print(classification_report(y_test, y_pred_nb), file = f)\n",
    "\n",
    "from imblearn.metrics import geometric_mean_score as gmean\n",
    "print('G-mean:', gmean(y_test, y_pred_nb),file = f)\n",
    "\n",
    "end = time.time()\n",
    "print(f'Time for training model {model}- default, {disc}, k = {k} is: {end - start}.', file = f) # Total time execution\n",
    "print('=='*20, file = f)\n",
    "f.close()\n",
    "\n",
    "# Save models\n",
    "import joblib\n",
    "filename = f\"{dataset}_{model}_{discretizer}_{k}.sav\"\n",
    "print(filename)\n",
    "joblib.dump(model_nb, filename)"
   ]
  },
  {
   "cell_type": "code",
   "execution_count": 13,
   "id": "4a0ca119",
   "metadata": {},
   "outputs": [
    {
     "name": "stdout",
     "output_type": "stream",
     "text": [
      "adult_KNN-Hamming_EWD_4.skops\n"
     ]
    }
   ],
   "source": [
    "# Knn-Hammingcomplete code\n",
    "\n",
    "model = 'KNN-Hamming'\n",
    "dataset = 'adult'\n",
    "discretizer = 'EWD'\n",
    "disc_param = 'k = 4'\n",
    "\n",
    "f = open(\"adult_models.txt\", \"a\")\n",
    "import time\n",
    "start = time.time() # For measuring time execution\n",
    "\n",
    "# Knn-Hamming complete code\n",
    "knn_hamming = KNeighborsClassifier(n_neighbors=3, metric='hamming', algorithm='auto')\n",
    "knn_hamming.fit(x_resample, y_resample)\n",
    "\n",
    "# Testing\n",
    "y_pred_knn = knn_hamming.predict(x_test)\n",
    "knn_hamming.classes_\n",
    "print(f'Models results: model {model}, dataset {dataset}, discretization {discretizer} with parameter {disc_param}', file = f)\n",
    "print('Classification report', file = f)\n",
    "print(classification_report(y_test, y_pred_knn), file = f)\n",
    "\n",
    "from imblearn.metrics import geometric_mean_score as gmean\n",
    "print('G-mean:', gmean(y_test, y_pred_knn),file = f)\n",
    "\n",
    "end = time.time()\n",
    "print(f'Time for training model {model}- default, {disc}, k = {k} is: {end - start}.', file = f) # Total time execution\n",
    "print('=='*20, file = f)\n",
    "f.close()\n",
    "\n",
    "# Save models\n",
    "import skops.io as sio\n",
    "model_name = f\"{dataset}_{model}_{discretizer}_{k}.skops\"\n",
    "print(model_name)\n",
    "obj = sio.dump(knn_hamming, model_name)"
   ]
  },
  {
   "cell_type": "markdown",
   "id": "86c0a4f2",
   "metadata": {},
   "source": [
    "## 1.2 EWD, k = 7"
   ]
  },
  {
   "cell_type": "markdown",
   "id": "817132b0",
   "metadata": {},
   "source": [
    "### Data prep"
   ]
  },
  {
   "cell_type": "code",
   "execution_count": 14,
   "id": "e9b28839",
   "metadata": {},
   "outputs": [
    {
     "name": "stdout",
     "output_type": "stream",
     "text": [
      "<class 'pandas.core.frame.DataFrame'>\n",
      "RangeIndex: 48842 entries, 0 to 48841\n",
      "Data columns (total 15 columns):\n",
      " #   Column          Non-Null Count  Dtype \n",
      "---  ------          --------------  ----- \n",
      " 0   age             48842 non-null  int64 \n",
      " 1   workclass       48842 non-null  object\n",
      " 2   fnlwgt          48842 non-null  int64 \n",
      " 3   education       48842 non-null  object\n",
      " 4   education-num   48842 non-null  int64 \n",
      " 5   marital-status  48842 non-null  object\n",
      " 6   occupation      48842 non-null  object\n",
      " 7   relationship    48842 non-null  object\n",
      " 8   race            48842 non-null  object\n",
      " 9   sex             48842 non-null  object\n",
      " 10  capital-gain    48842 non-null  int64 \n",
      " 11  capital-loss    48842 non-null  int64 \n",
      " 12  hours-per-week  48842 non-null  int64 \n",
      " 13  native-country  48842 non-null  object\n",
      " 14  label           48842 non-null  int64 \n",
      "dtypes: int64(7), object(8)\n",
      "memory usage: 5.6+ MB\n",
      "List of variable for label encoding:  Index(['workclass', 'education', 'marital-status', 'occupation',\n",
      "       'relationship', 'race', 'sex', 'native-country'],\n",
      "      dtype='object')\n",
      "<class 'pandas.core.frame.DataFrame'>\n",
      "RangeIndex: 48842 entries, 0 to 48841\n",
      "Data columns (total 15 columns):\n",
      " #   Column          Non-Null Count  Dtype\n",
      "---  ------          --------------  -----\n",
      " 0   age             48842 non-null  int64\n",
      " 1   workclass       48842 non-null  int64\n",
      " 2   fnlwgt          48842 non-null  int64\n",
      " 3   education       48842 non-null  int64\n",
      " 4   education-num   48842 non-null  int64\n",
      " 5   marital-status  48842 non-null  int64\n",
      " 6   occupation      48842 non-null  int64\n",
      " 7   relationship    48842 non-null  int64\n",
      " 8   race            48842 non-null  int64\n",
      " 9   sex             48842 non-null  int64\n",
      " 10  capital-gain    48842 non-null  int64\n",
      " 11  capital-loss    48842 non-null  int64\n",
      " 12  hours-per-week  48842 non-null  int64\n",
      " 13  native-country  48842 non-null  int64\n",
      " 14  label           48842 non-null  int64\n",
      "dtypes: int64(15)\n",
      "memory usage: 5.6 MB\n",
      "None\n",
      "(48842, 14) (48842,)\n",
      "Class representation - original:  Counter({0: 37155, 1: 11687})\n",
      "Class representation - training data:  Counter({0: 27866, 1: 8765})\n",
      "Class representation - testing data:  Counter({0: 9289, 1: 2922})\n"
     ]
    },
    {
     "data": {
      "text/plain": [
       "<AxesSubplot:title={'center':'Class distribution after applying SMOTE Tomek'}, xlabel='Income Class'>"
      ]
     },
     "execution_count": 14,
     "metadata": {},
     "output_type": "execute_result"
    },
    {
     "data": {
      "image/png": "[encoded data removed]",
      "text/plain": [
       "<Figure size 432x288 with 1 Axes>"
      ]
     },
     "metadata": {
      "needs_background": "light"
     },
     "output_type": "display_data"
    }
   ],
   "source": [
    "# Complete code for data preperation\n",
    "# Read data\n",
    "df_ewd2 = pd.read_csv('adult_ewd2.csv')\n",
    "df_ewd2.rename(columns={'class':'label'}, inplace=True)\n",
    "\n",
    "disc = 'EWD'\n",
    "k = 7\n",
    "\n",
    "df_ewd2.info()\n",
    "\n",
    "#Label Encoding for object to numeric conversion\n",
    "#FYI: https://www.kaggle.com/discussions/getting-started/61148\n",
    "objList = df_ewd2.select_dtypes(include = \"object\").columns\n",
    "print('List of variable for label encoding: ', objList)\n",
    "\n",
    "from sklearn.preprocessing import LabelEncoder\n",
    "le = LabelEncoder()\n",
    "\n",
    "for feat in objList:\n",
    "    df_ewd2[feat] = le.fit_transform(df_ewd2[feat].astype(str))\n",
    "\n",
    "print (df_ewd2.info())\n",
    "\n",
    "data = df_ewd2.values\n",
    "data.shape\n",
    "\n",
    "features = df_ewd2.drop('label', axis = 1).columns\n",
    "\n",
    "# separate the data into X and y\n",
    "X = data[:, : len(features)]\n",
    "Y = data[:,-1]\n",
    "\n",
    "print(X.shape, Y.shape)\n",
    "\n",
    "# Split train test\n",
    "x_train, x_test, y_train, y_test = train_test_split(X, Y, test_size=0.25, random_state = 30, stratify=Y)\n",
    "\n",
    "# Check representation of class\n",
    "print('Class representation - original: ', Counter(Y)) \n",
    "print('Class representation - training data: ', Counter(y_train)) \n",
    "print('Class representation - testing data: ', Counter(y_test)) \n",
    "\n",
    "# Check number of categories for features\n",
    "n_categories = df_ewd2[features].nunique()\n",
    "\n",
    "# SMOTE-Tomek\n",
    "from imblearn.combine import SMOTETomek\n",
    "smt_tomek = SMOTETomek(random_state=42)\n",
    "x_resample, y_resample = smt_tomek.fit_resample(x_train, y_train)\n",
    "\n",
    "# Check labels in traning dataset after SMOTE\n",
    "pd.Series(y_resample) \\\n",
    ".value_counts() \\\n",
    ".plot(kind='bar', title='Class distribution after applying SMOTE Tomek', xlabel='Income Class')"
   ]
  },
  {
   "cell_type": "markdown",
   "id": "aaeaca15",
   "metadata": {},
   "source": [
    "### Models - EWD, k=7"
   ]
  },
  {
   "cell_type": "code",
   "execution_count": 15,
   "id": "9fe14038",
   "metadata": {},
   "outputs": [
    {
     "name": "stdout",
     "output_type": "stream",
     "text": [
      "adult_ID3_EWD_7.skops\n"
     ]
    }
   ],
   "source": [
    "# ID3 - Default\n",
    "model = 'ID3'\n",
    "dataset = 'adult'\n",
    "discretizer = 'EWD'\n",
    "disc_param = 'k = 7'\n",
    "\n",
    "f = open(\"adult_models.txt\", \"a\")\n",
    "import time\n",
    "start = time.time() # For measuring time execution\n",
    "\n",
    "model_id3 = Id3Estimator()\n",
    "model_id3.fit(x_resample, y_resample)\n",
    "\n",
    "# Testing\n",
    "y_pred_id3 = model_id3.predict(x_test)\n",
    "print(f'Models results: model {model}, dataset {dataset}, discretization {discretizer} with parameter {disc_param}', \n",
    "      file = f)\n",
    "print('Classification report', file = f)\n",
    "print(classification_report(y_test, y_pred_id3), file = f)\n",
    "\n",
    "from imblearn.metrics import geometric_mean_score as gmean\n",
    "print('G-mean:', gmean(y_test, y_pred_id3),file = f)\n",
    "\n",
    "end = time.time()\n",
    "print(f'Time for training model {model}- default, {disc}, k = {k} is: {end - start}.', file = f) # Total time execution\n",
    "print('=='*20, file = f)\n",
    "f.close()\n",
    "\n",
    "# Save models\n",
    "import skops.io as sio\n",
    "model_name = f\"{dataset}_{model}_{discretizer}_{k}.skops\"\n",
    "print(model_name)\n",
    "obj = sio.dump(model_id3, model_name)"
   ]
  },
  {
   "cell_type": "code",
   "execution_count": 16,
   "id": "fe02ff6a",
   "metadata": {},
   "outputs": [
    {
     "name": "stdout",
     "output_type": "stream",
     "text": [
      "adult_CNB_EWD_7.sav\n"
     ]
    },
    {
     "data": {
      "text/plain": [
       "['adult_CNB_EWD_7.sav']"
      ]
     },
     "execution_count": 16,
     "metadata": {},
     "output_type": "execute_result"
    }
   ],
   "source": [
    "# Naive Bayes - pass number of categories in min_categories\n",
    "model = 'CNB'\n",
    "dataset = 'adult'\n",
    "discretizer = 'EWD'\n",
    "disc_param = 'k = 7'\n",
    "\n",
    "f = open(\"adult_models.txt\", \"a\")\n",
    "import time\n",
    "start = time.time() # For measuring time execution\n",
    "\n",
    "model_nb = CategoricalNB(min_categories = n_categories)\n",
    "model_nb.fit(x_resample, y_resample)\n",
    "\n",
    "# Testing\n",
    "y_pred_nb = model_nb.predict(x_test)\n",
    "model_nb.classes_\n",
    "print(f'Models results: model {model}, dataset {dataset}, discretization {discretizer} with parameter {disc_param}', \n",
    "      file = f)\n",
    "print('Classification report', file = f)\n",
    "print(classification_report(y_test, y_pred_nb), file = f)\n",
    "\n",
    "from imblearn.metrics import geometric_mean_score as gmean\n",
    "print('G-mean:', gmean(y_test, y_pred_nb),file = f)\n",
    "\n",
    "end = time.time()\n",
    "print(f'Time for training model {model}- default, {disc}, k = {k} is: {end - start}.', file = f) # Total time execution\n",
    "print('=='*20, file = f)\n",
    "f.close()\n",
    "\n",
    "# Save models\n",
    "import joblib\n",
    "filename = f\"{dataset}_{model}_{discretizer}_{k}.sav\"\n",
    "print(filename)\n",
    "joblib.dump(model_nb, filename)"
   ]
  },
  {
   "cell_type": "code",
   "execution_count": 17,
   "id": "197d7a3c",
   "metadata": {},
   "outputs": [
    {
     "name": "stdout",
     "output_type": "stream",
     "text": [
      "adult_KNN-Hamming_EWD_7.skops\n"
     ]
    }
   ],
   "source": [
    "# Knn-Hammingcomplete code\n",
    "\n",
    "model = 'KNN-Hamming'\n",
    "dataset = 'adult'\n",
    "discretizer = 'EWD'\n",
    "disc_param = 'k = 7'\n",
    "\n",
    "f = open(\"adult_models.txt\", \"a\")\n",
    "import time\n",
    "start = time.time() # For measuring time execution\n",
    "\n",
    "# Knn-Hamming complete code\n",
    "knn_hamming = KNeighborsClassifier(n_neighbors=3, metric='hamming', algorithm='auto')\n",
    "knn_hamming.fit(x_resample, y_resample)\n",
    "\n",
    "# Testing\n",
    "y_pred_knn = knn_hamming.predict(x_test)\n",
    "knn_hamming.classes_\n",
    "print(f'Models results: model {model}, dataset {dataset}, discretization {discretizer} with parameter {disc_param}', \n",
    "      file = f)\n",
    "print('Classification report', file = f)\n",
    "print(classification_report(y_test, y_pred_knn), file = f)\n",
    "\n",
    "from imblearn.metrics import geometric_mean_score as gmean\n",
    "print('G-mean:', gmean(y_test, y_pred_knn),file = f)\n",
    "\n",
    "end = time.time()\n",
    "print(f'Time for training model {model}- default, {disc}, k = {k} is: {end - start}.', file = f) # Total time execution\n",
    "print('=='*20, file = f)\n",
    "f.close()\n",
    "\n",
    "# Save models\n",
    "import skops.io as sio\n",
    "model_name = f\"{dataset}_{model}_{discretizer}_{k}.skops\"\n",
    "print(model_name)\n",
    "obj = sio.dump(knn_hamming, model_name)"
   ]
  },
  {
   "cell_type": "markdown",
   "id": "72fe06a0",
   "metadata": {},
   "source": [
    "## 1.3 EWD, k = 10"
   ]
  },
  {
   "cell_type": "markdown",
   "id": "8c5e59bf",
   "metadata": {},
   "source": [
    "### Data prep"
   ]
  },
  {
   "cell_type": "code",
   "execution_count": 18,
   "id": "e236c05f",
   "metadata": {},
   "outputs": [
    {
     "name": "stdout",
     "output_type": "stream",
     "text": [
      "<class 'pandas.core.frame.DataFrame'>\n",
      "RangeIndex: 48842 entries, 0 to 48841\n",
      "Data columns (total 15 columns):\n",
      " #   Column          Non-Null Count  Dtype \n",
      "---  ------          --------------  ----- \n",
      " 0   age             48842 non-null  int64 \n",
      " 1   workclass       48842 non-null  object\n",
      " 2   fnlwgt          48842 non-null  int64 \n",
      " 3   education       48842 non-null  object\n",
      " 4   education-num   48842 non-null  int64 \n",
      " 5   marital-status  48842 non-null  object\n",
      " 6   occupation      48842 non-null  object\n",
      " 7   relationship    48842 non-null  object\n",
      " 8   race            48842 non-null  object\n",
      " 9   sex             48842 non-null  object\n",
      " 10  capital-gain    48842 non-null  int64 \n",
      " 11  capital-loss    48842 non-null  int64 \n",
      " 12  hours-per-week  48842 non-null  int64 \n",
      " 13  native-country  48842 non-null  object\n",
      " 14  label           48842 non-null  int64 \n",
      "dtypes: int64(7), object(8)\n",
      "memory usage: 5.6+ MB\n",
      "List of variable for label encoding:  Index(['workclass', 'education', 'marital-status', 'occupation',\n",
      "       'relationship', 'race', 'sex', 'native-country'],\n",
      "      dtype='object')\n",
      "<class 'pandas.core.frame.DataFrame'>\n",
      "RangeIndex: 48842 entries, 0 to 48841\n",
      "Data columns (total 15 columns):\n",
      " #   Column          Non-Null Count  Dtype\n",
      "---  ------          --------------  -----\n",
      " 0   age             48842 non-null  int64\n",
      " 1   workclass       48842 non-null  int64\n",
      " 2   fnlwgt          48842 non-null  int64\n",
      " 3   education       48842 non-null  int64\n",
      " 4   education-num   48842 non-null  int64\n",
      " 5   marital-status  48842 non-null  int64\n",
      " 6   occupation      48842 non-null  int64\n",
      " 7   relationship    48842 non-null  int64\n",
      " 8   race            48842 non-null  int64\n",
      " 9   sex             48842 non-null  int64\n",
      " 10  capital-gain    48842 non-null  int64\n",
      " 11  capital-loss    48842 non-null  int64\n",
      " 12  hours-per-week  48842 non-null  int64\n",
      " 13  native-country  48842 non-null  int64\n",
      " 14  label           48842 non-null  int64\n",
      "dtypes: int64(15)\n",
      "memory usage: 5.6 MB\n",
      "None\n",
      "(48842, 14) (48842,)\n",
      "Class representation - original:  Counter({0: 37155, 1: 11687})\n",
      "Class representation - training data:  Counter({0: 27866, 1: 8765})\n",
      "Class representation - testing data:  Counter({0: 9289, 1: 2922})\n"
     ]
    },
    {
     "data": {
      "text/plain": [
       "<AxesSubplot:title={'center':'Class distribution after applying SMOTE Tomek'}, xlabel='Income Class'>"
      ]
     },
     "execution_count": 18,
     "metadata": {},
     "output_type": "execute_result"
    },
    {
     "data": {
      "image/png": "[encoded data removed]",
      "text/plain": [
       "<Figure size 432x288 with 1 Axes>"
      ]
     },
     "metadata": {
      "needs_background": "light"
     },
     "output_type": "display_data"
    }
   ],
   "source": [
    "# Complete code for data preperation\n",
    "# Read data\n",
    "df_ewd3 = pd.read_csv('adult_ewd3.csv')\n",
    "df_ewd3.rename(columns={'class':'label'}, inplace=True)\n",
    "\n",
    "disc = 'EWD'\n",
    "k = 10\n",
    "\n",
    "df_ewd3.info()\n",
    "\n",
    "#Label Encoding for object to numeric conversion\n",
    "#FYI: https://www.kaggle.com/discussions/getting-started/61148\n",
    "objList = df_ewd3.select_dtypes(include = \"object\").columns\n",
    "print('List of variable for label encoding: ', objList)\n",
    "\n",
    "from sklearn.preprocessing import LabelEncoder\n",
    "le = LabelEncoder()\n",
    "\n",
    "for feat in objList:\n",
    "    df_ewd3[feat] = le.fit_transform(df_ewd3[feat].astype(str))\n",
    "\n",
    "print (df_ewd3.info())\n",
    "\n",
    "data = df_ewd3.values\n",
    "data.shape\n",
    "\n",
    "features = df_ewd3.drop('label', axis = 1).columns\n",
    "\n",
    "# separate the data into X and y\n",
    "X = data[:, : len(features)]\n",
    "Y = data[:,-1]\n",
    "\n",
    "print(X.shape, Y.shape)\n",
    "\n",
    "# Split train test\n",
    "x_train, x_test, y_train, y_test = train_test_split(X, Y, test_size=0.25, random_state = 30, stratify=Y)\n",
    "\n",
    "# Check representation of class\n",
    "print('Class representation - original: ', Counter(Y)) \n",
    "print('Class representation - training data: ', Counter(y_train)) \n",
    "print('Class representation - testing data: ', Counter(y_test)) \n",
    "\n",
    "# Check number of categories for features\n",
    "n_categories = df_ewd3[features].nunique()\n",
    "\n",
    "# SMOTE-Tomek\n",
    "from imblearn.combine import SMOTETomek\n",
    "smt_tomek = SMOTETomek(random_state=42)\n",
    "x_resample, y_resample = smt_tomek.fit_resample(x_train, y_train)\n",
    "\n",
    "# Check labels in traning dataset after SMOTE\n",
    "pd.Series(y_resample) \\\n",
    ".value_counts() \\\n",
    ".plot(kind='bar', title='Class distribution after applying SMOTE Tomek', xlabel='Income Class')"
   ]
  },
  {
   "cell_type": "markdown",
   "id": "f5d33064",
   "metadata": {},
   "source": [
    "### Models - EWD, k=10"
   ]
  },
  {
   "cell_type": "code",
   "execution_count": 19,
   "id": "8c9eff1a",
   "metadata": {},
   "outputs": [
    {
     "name": "stdout",
     "output_type": "stream",
     "text": [
      "adult_ID3_EWD_10.skops\n"
     ]
    }
   ],
   "source": [
    "# ID3 - Default\n",
    "model = 'ID3'\n",
    "dataset = 'adult'\n",
    "discretizer = 'EWD'\n",
    "disc_param = 'k = 10'\n",
    "\n",
    "f = open(\"adult_models.txt\", \"a\")\n",
    "import time\n",
    "start = time.time() # For measuring time execution\n",
    "\n",
    "model_id3 = Id3Estimator()\n",
    "model_id3.fit(x_resample, y_resample)\n",
    "\n",
    "# Testing\n",
    "y_pred_id3 = model_id3.predict(x_test)\n",
    "print(f'Models results: model {model}, dataset {dataset}, discretization {discretizer} with parameter {disc_param}', \n",
    "      file = f)\n",
    "print('Classification report', file = f)\n",
    "print(classification_report(y_test, y_pred_id3), file = f)\n",
    "\n",
    "from imblearn.metrics import geometric_mean_score as gmean\n",
    "print('G-mean:', gmean(y_test, y_pred_id3),file = f)\n",
    "\n",
    "end = time.time()\n",
    "print(f'Time for training model {model}- default, {disc}, k = {k} is: {end - start}.', file = f) # Total time execution\n",
    "print('=='*20, file = f)\n",
    "f.close()\n",
    "\n",
    "# Save models\n",
    "import skops.io as sio\n",
    "model_name = f\"{dataset}_{model}_{discretizer}_{k}.skops\"\n",
    "print(model_name)\n",
    "obj = sio.dump(model_id3, model_name)"
   ]
  },
  {
   "cell_type": "code",
   "execution_count": 20,
   "id": "f167b31c",
   "metadata": {},
   "outputs": [
    {
     "name": "stdout",
     "output_type": "stream",
     "text": [
      "adult_CNB_EWD_10.sav\n"
     ]
    },
    {
     "data": {
      "text/plain": [
       "['adult_CNB_EWD_10.sav']"
      ]
     },
     "execution_count": 20,
     "metadata": {},
     "output_type": "execute_result"
    }
   ],
   "source": [
    "# Naive Bayes - pass number of categories in min_categories\n",
    "model = 'CNB'\n",
    "dataset = 'adult'\n",
    "discretizer = 'EWD'\n",
    "disc_param = 'k = 10'\n",
    "\n",
    "f = open(\"adult_models.txt\", \"a\")\n",
    "import time\n",
    "start = time.time() # For measuring time execution\n",
    "\n",
    "model_nb = CategoricalNB(min_categories = n_categories)\n",
    "model_nb.fit(x_resample, y_resample)\n",
    "\n",
    "# Testing\n",
    "y_pred_nb = model_nb.predict(x_test)\n",
    "model_nb.classes_\n",
    "print(f'Models results: model {model}, dataset {dataset}, discretization {discretizer} with parameter {disc_param}', \n",
    "      file = f)\n",
    "print('Classification report', file = f)\n",
    "print(classification_report(y_test, y_pred_nb), file = f)\n",
    "\n",
    "from imblearn.metrics import geometric_mean_score as gmean\n",
    "print('G-mean:', gmean(y_test, y_pred_nb),file = f)\n",
    "\n",
    "end = time.time()\n",
    "print(f'Time for training model {model}- default, {disc}, k = {k} is: {end - start}.', file = f) # Total time execution\n",
    "print('=='*20, file = f)\n",
    "f.close()\n",
    "\n",
    "# Save models\n",
    "\n",
    "import joblib\n",
    "filename = f\"{dataset}_{model}_{discretizer}_{k}.sav\"\n",
    "print(filename)\n",
    "joblib.dump(model_nb, filename)"
   ]
  },
  {
   "cell_type": "code",
   "execution_count": 21,
   "id": "d96b68c4",
   "metadata": {},
   "outputs": [
    {
     "name": "stdout",
     "output_type": "stream",
     "text": [
      "adult_KNN-Hamming_EWD_10.skops\n"
     ]
    }
   ],
   "source": [
    "# Knn-Hammingcomplete code\n",
    "\n",
    "model = 'KNN-Hamming'\n",
    "dataset = 'adult'\n",
    "discretizer = 'EWD'\n",
    "disc_param = 'k = 10'\n",
    "\n",
    "f = open(\"adult_models.txt\", \"a\")\n",
    "import time\n",
    "start = time.time() # For measuring time execution\n",
    "\n",
    "# Knn-Hamming complete code\n",
    "knn_hamming = KNeighborsClassifier(n_neighbors=3, metric='hamming', algorithm='auto')\n",
    "knn_hamming.fit(x_resample, y_resample)\n",
    "\n",
    "# Testing\n",
    "y_pred_knn = knn_hamming.predict(x_test)\n",
    "knn_hamming.classes_\n",
    "print(f'Models results: model {model}, dataset {dataset}, discretization {discretizer} with parameter {disc_param}', \n",
    "      file = f)\n",
    "print('Classification report', file = f)\n",
    "print(classification_report(y_test, y_pred_knn), file = f)\n",
    "\n",
    "from imblearn.metrics import geometric_mean_score as gmean\n",
    "print('G-mean:', gmean(y_test, y_pred_knn),file = f)\n",
    "\n",
    "end = time.time()\n",
    "print(f'Time for training model {model}- default, {disc}, k = {k} is: {end - start}.', file = f) # Total time execution\n",
    "print('=='*20, file = f)\n",
    "f.close()\n",
    "\n",
    "# Save models\n",
    "import skops.io as sio\n",
    "model_name = f\"{dataset}_{model}_{discretizer}_{k}.skops\"\n",
    "print(model_name)\n",
    "obj = sio.dump(knn_hamming, model_name)"
   ]
  },
  {
   "cell_type": "markdown",
   "id": "4cb96c1d",
   "metadata": {},
   "source": [
    "# 2. EFD datasets"
   ]
  },
  {
   "cell_type": "markdown",
   "id": "229a0ccb",
   "metadata": {},
   "source": [
    "## 2.1 EFD, k = 4"
   ]
  },
  {
   "cell_type": "markdown",
   "id": "52a46ad2",
   "metadata": {},
   "source": [
    "### Data prep"
   ]
  },
  {
   "cell_type": "code",
   "execution_count": 22,
   "id": "eb63c727",
   "metadata": {},
   "outputs": [
    {
     "name": "stdout",
     "output_type": "stream",
     "text": [
      "<class 'pandas.core.frame.DataFrame'>\n",
      "RangeIndex: 48842 entries, 0 to 48841\n",
      "Data columns (total 15 columns):\n",
      " #   Column          Non-Null Count  Dtype \n",
      "---  ------          --------------  ----- \n",
      " 0   age             48842 non-null  int64 \n",
      " 1   workclass       48842 non-null  object\n",
      " 2   fnlwgt          48842 non-null  int64 \n",
      " 3   education       48842 non-null  object\n",
      " 4   education-num   48842 non-null  int64 \n",
      " 5   marital-status  48842 non-null  object\n",
      " 6   occupation      48842 non-null  object\n",
      " 7   relationship    48842 non-null  object\n",
      " 8   race            48842 non-null  object\n",
      " 9   sex             48842 non-null  object\n",
      " 10  capital-gain    48842 non-null  int64 \n",
      " 11  capital-loss    48842 non-null  int64 \n",
      " 12  hours-per-week  48842 non-null  int64 \n",
      " 13  native-country  48842 non-null  object\n",
      " 14  label           48842 non-null  int64 \n",
      "dtypes: int64(7), object(8)\n",
      "memory usage: 5.6+ MB\n",
      "List of variable for label encoding:  Index(['workclass', 'education', 'marital-status', 'occupation',\n",
      "       'relationship', 'race', 'sex', 'native-country'],\n",
      "      dtype='object')\n",
      "<class 'pandas.core.frame.DataFrame'>\n",
      "RangeIndex: 48842 entries, 0 to 48841\n",
      "Data columns (total 15 columns):\n",
      " #   Column          Non-Null Count  Dtype\n",
      "---  ------          --------------  -----\n",
      " 0   age             48842 non-null  int64\n",
      " 1   workclass       48842 non-null  int64\n",
      " 2   fnlwgt          48842 non-null  int64\n",
      " 3   education       48842 non-null  int64\n",
      " 4   education-num   48842 non-null  int64\n",
      " 5   marital-status  48842 non-null  int64\n",
      " 6   occupation      48842 non-null  int64\n",
      " 7   relationship    48842 non-null  int64\n",
      " 8   race            48842 non-null  int64\n",
      " 9   sex             48842 non-null  int64\n",
      " 10  capital-gain    48842 non-null  int64\n",
      " 11  capital-loss    48842 non-null  int64\n",
      " 12  hours-per-week  48842 non-null  int64\n",
      " 13  native-country  48842 non-null  int64\n",
      " 14  label           48842 non-null  int64\n",
      "dtypes: int64(15)\n",
      "memory usage: 5.6 MB\n",
      "None\n",
      "(48842, 14) (48842,)\n",
      "Class representation - original:  Counter({0: 37155, 1: 11687})\n",
      "Class representation - training data:  Counter({0: 27866, 1: 8765})\n",
      "Class representation - testing data:  Counter({0: 9289, 1: 2922})\n"
     ]
    },
    {
     "data": {
      "text/plain": [
       "<AxesSubplot:title={'center':'Class distribution after applying SMOTE Tomek'}, xlabel='Income Class'>"
      ]
     },
     "execution_count": 22,
     "metadata": {},
     "output_type": "execute_result"
    },
    {
     "data": {
      "image/png": "[encoded data removed]",
      "text/plain": [
       "<Figure size 432x288 with 1 Axes>"
      ]
     },
     "metadata": {
      "needs_background": "light"
     },
     "output_type": "display_data"
    }
   ],
   "source": [
    "# Complete code for data preperation\n",
    "# Read data\n",
    "df_efd1 = pd.read_csv('adult_efd1.csv')\n",
    "#df_efd1.drop(df_efd1.columns[0], axis=1, inplace = True)\n",
    "\n",
    "df_efd1.rename(columns={'class':'label'}, inplace=True)\n",
    "\n",
    "disc = 'EFD'\n",
    "k = 4\n",
    "\n",
    "df_efd1.info()\n",
    "\n",
    "#Label Encoding for object to numeric conversion\n",
    "#FYI: https://www.kaggle.com/discussions/getting-started/61148\n",
    "objList = df_efd1.select_dtypes(include = \"object\").columns\n",
    "print('List of variable for label encoding: ', objList)\n",
    "\n",
    "from sklearn.preprocessing import LabelEncoder\n",
    "le = LabelEncoder()\n",
    "\n",
    "for feat in objList:\n",
    "    df_efd1[feat] = le.fit_transform(df_efd1[feat].astype(str))\n",
    "\n",
    "print (df_efd1.info())\n",
    "\n",
    "data = df_efd1.values\n",
    "data.shape\n",
    "\n",
    "features = df_efd1.drop('label', axis = 1).columns\n",
    "\n",
    "# separate the data into X and y\n",
    "X = data[:, : len(features)]\n",
    "Y = data[:,-1]\n",
    "\n",
    "print(X.shape, Y.shape)\n",
    "\n",
    "# Split train test\n",
    "x_train, x_test, y_train, y_test = train_test_split(X, Y, test_size=0.25, random_state = 30, stratify=Y)\n",
    "\n",
    "# Check representation of class\n",
    "print('Class representation - original: ', Counter(Y)) \n",
    "print('Class representation - training data: ', Counter(y_train)) \n",
    "print('Class representation - testing data: ', Counter(y_test)) \n",
    "\n",
    "# Check number of categories for features\n",
    "n_categories = df_efd1[features].nunique()\n",
    "\n",
    "# SMOTE-Tomek\n",
    "from imblearn.combine import SMOTETomek\n",
    "smt_tomek = SMOTETomek(random_state=42)\n",
    "x_resample, y_resample = smt_tomek.fit_resample(x_train, y_train)\n",
    "\n",
    "# Check labels in traning dataset after SMOTE\n",
    "pd.Series(y_resample) \\\n",
    ".value_counts() \\\n",
    ".plot(kind='bar', title='Class distribution after applying SMOTE Tomek', xlabel='Income Class')"
   ]
  },
  {
   "cell_type": "markdown",
   "id": "f674a1a2",
   "metadata": {},
   "source": [
    "### Models - EFD, k=4"
   ]
  },
  {
   "cell_type": "code",
   "execution_count": 23,
   "id": "5ee8f479",
   "metadata": {},
   "outputs": [
    {
     "name": "stdout",
     "output_type": "stream",
     "text": [
      "adult_ID3_EFD_4.skops\n"
     ]
    }
   ],
   "source": [
    "# ID3 - Default\n",
    "model = 'ID3'\n",
    "dataset = 'adult'\n",
    "discretizer = 'EFD'\n",
    "disc_param = 'k = 4'\n",
    "\n",
    "f = open(\"adult_models.txt\", \"a\")\n",
    "import time\n",
    "start = time.time() # For measuring time execution\n",
    "\n",
    "model_id3 = Id3Estimator()\n",
    "model_id3.fit(x_resample, y_resample)\n",
    "\n",
    "# Testing\n",
    "y_pred_id3 = model_id3.predict(x_test)\n",
    "print(f'Models results: model {model}, dataset {dataset}, discretization {discretizer} with parameter {disc_param}', \n",
    "      file = f)\n",
    "print('Classification report', file = f)\n",
    "print(classification_report(y_test, y_pred_id3), file = f)\n",
    "\n",
    "from imblearn.metrics import geometric_mean_score as gmean\n",
    "print('G-mean:', gmean(y_test, y_pred_id3),file = f)\n",
    "\n",
    "end = time.time()\n",
    "print(f'Time for training model {model}- default, {disc}, k = {k} is: {end - start}.', file = f) # Total time execution\n",
    "print('=='*20, file = f)\n",
    "f.close()\n",
    "\n",
    "# Save models\n",
    "import skops.io as sio\n",
    "model_name = f\"{dataset}_{model}_{discretizer}_{k}.skops\"\n",
    "print(model_name)\n",
    "obj = sio.dump(model_id3, model_name)"
   ]
  },
  {
   "cell_type": "code",
   "execution_count": 24,
   "id": "7ee5c140",
   "metadata": {},
   "outputs": [
    {
     "name": "stdout",
     "output_type": "stream",
     "text": [
      "adult_CNB_EFD_4.sav\n"
     ]
    },
    {
     "data": {
      "text/plain": [
       "['adult_CNB_EFD_4.sav']"
      ]
     },
     "execution_count": 24,
     "metadata": {},
     "output_type": "execute_result"
    }
   ],
   "source": [
    "# Naive Bayes - pass number of categories in min_categories\n",
    "model = 'CNB'\n",
    "dataset = 'adult'\n",
    "discretizer = 'EFD'\n",
    "disc_param = 'k = 4'\n",
    "\n",
    "f = open(\"adult_models.txt\", \"a\")\n",
    "import time\n",
    "start = time.time() # For measuring time execution\n",
    "\n",
    "model_nb = CategoricalNB(min_categories = n_categories)\n",
    "model_nb.fit(x_resample, y_resample)\n",
    "\n",
    "# Testing\n",
    "y_pred_nb = model_nb.predict(x_test)\n",
    "model_nb.classes_\n",
    "print(f'Models results: model {model}, dataset {dataset}, discretization {discretizer} with parameter {disc_param}', \n",
    "      file = f)\n",
    "print('Classification report', file = f)\n",
    "print(classification_report(y_test, y_pred_nb), file = f)\n",
    "\n",
    "from imblearn.metrics import geometric_mean_score as gmean\n",
    "print('G-mean:', gmean(y_test, y_pred_nb),file = f)\n",
    "\n",
    "end = time.time()\n",
    "print(f'Time for training model {model}- default, {disc}, k = {k} is: {end - start}.', file = f) # Total time execution\n",
    "print('=='*20, file = f)\n",
    "f.close()\n",
    "\n",
    "# Save models\n",
    "import joblib\n",
    "filename = f\"{dataset}_{model}_{discretizer}_{k}.sav\"\n",
    "print(filename)\n",
    "joblib.dump(model_nb, filename)"
   ]
  },
  {
   "cell_type": "code",
   "execution_count": 25,
   "id": "3bc109f0",
   "metadata": {},
   "outputs": [
    {
     "name": "stdout",
     "output_type": "stream",
     "text": [
      "adult_KNN-Hamming_EFD_4.skops\n"
     ]
    }
   ],
   "source": [
    "# Knn-Hamming complete code\n",
    "\n",
    "model = 'KNN-Hamming'\n",
    "dataset = 'adult'\n",
    "discretizer = 'EFD'\n",
    "disc_param = 'k = 4'\n",
    "\n",
    "f = open(\"adult_models.txt\", \"a\")\n",
    "import time\n",
    "start = time.time() # For measuring time execution\n",
    "\n",
    "# Knn-Hamming complete code\n",
    "knn_hamming = KNeighborsClassifier(n_neighbors=3, metric='hamming', algorithm='auto')\n",
    "knn_hamming.fit(x_resample, y_resample)\n",
    "\n",
    "# Testing\n",
    "y_pred_knn = knn_hamming.predict(x_test)\n",
    "knn_hamming.classes_\n",
    "print(f'Models results: model {model}, dataset {dataset}, discretization {discretizer} with parameter {disc_param}', \n",
    "      file = f)\n",
    "print('Classification report', file = f)\n",
    "print(classification_report(y_test, y_pred_knn), file = f)\n",
    "\n",
    "from imblearn.metrics import geometric_mean_score as gmean\n",
    "print('G-mean:', gmean(y_test, y_pred_knn),file = f)\n",
    "\n",
    "end = time.time()\n",
    "print(f'Time for training model {model}- default, {disc}, k = {k} is: {end - start}.', file = f) # Total time execution\n",
    "print('=='*20, file = f)\n",
    "f.close()\n",
    "\n",
    "# Save models\n",
    "import skops.io as sio\n",
    "model_name = f\"{dataset}_{model}_{discretizer}_{k}.skops\"\n",
    "print(model_name)\n",
    "obj = sio.dump(knn_hamming, model_name)"
   ]
  },
  {
   "cell_type": "markdown",
   "id": "ca03cff4",
   "metadata": {},
   "source": [
    "## 2.2 EFD, k = 7"
   ]
  },
  {
   "cell_type": "markdown",
   "id": "b3c786d9",
   "metadata": {},
   "source": [
    "### Data prep"
   ]
  },
  {
   "cell_type": "code",
   "execution_count": 26,
   "id": "b377cd85",
   "metadata": {},
   "outputs": [
    {
     "name": "stdout",
     "output_type": "stream",
     "text": [
      "<class 'pandas.core.frame.DataFrame'>\n",
      "RangeIndex: 48842 entries, 0 to 48841\n",
      "Data columns (total 15 columns):\n",
      " #   Column          Non-Null Count  Dtype \n",
      "---  ------          --------------  ----- \n",
      " 0   age             48842 non-null  int64 \n",
      " 1   workclass       48842 non-null  object\n",
      " 2   fnlwgt          48842 non-null  int64 \n",
      " 3   education       48842 non-null  object\n",
      " 4   education-num   48842 non-null  int64 \n",
      " 5   marital-status  48842 non-null  object\n",
      " 6   occupation      48842 non-null  object\n",
      " 7   relationship    48842 non-null  object\n",
      " 8   race            48842 non-null  object\n",
      " 9   sex             48842 non-null  object\n",
      " 10  capital-gain    48842 non-null  int64 \n",
      " 11  capital-loss    48842 non-null  int64 \n",
      " 12  hours-per-week  48842 non-null  int64 \n",
      " 13  native-country  48842 non-null  object\n",
      " 14  label           48842 non-null  int64 \n",
      "dtypes: int64(7), object(8)\n",
      "memory usage: 5.6+ MB\n",
      "List of variable for label encoding:  Index(['workclass', 'education', 'marital-status', 'occupation',\n",
      "       'relationship', 'race', 'sex', 'native-country'],\n",
      "      dtype='object')\n",
      "<class 'pandas.core.frame.DataFrame'>\n",
      "RangeIndex: 48842 entries, 0 to 48841\n",
      "Data columns (total 15 columns):\n",
      " #   Column          Non-Null Count  Dtype\n",
      "---  ------          --------------  -----\n",
      " 0   age             48842 non-null  int64\n",
      " 1   workclass       48842 non-null  int64\n",
      " 2   fnlwgt          48842 non-null  int64\n",
      " 3   education       48842 non-null  int64\n",
      " 4   education-num   48842 non-null  int64\n",
      " 5   marital-status  48842 non-null  int64\n",
      " 6   occupation      48842 non-null  int64\n",
      " 7   relationship    48842 non-null  int64\n",
      " 8   race            48842 non-null  int64\n",
      " 9   sex             48842 non-null  int64\n",
      " 10  capital-gain    48842 non-null  int64\n",
      " 11  capital-loss    48842 non-null  int64\n",
      " 12  hours-per-week  48842 non-null  int64\n",
      " 13  native-country  48842 non-null  int64\n",
      " 14  label           48842 non-null  int64\n",
      "dtypes: int64(15)\n",
      "memory usage: 5.6 MB\n",
      "None\n",
      "(48842, 14) (48842,)\n",
      "Class representation - original:  Counter({0: 37155, 1: 11687})\n",
      "Class representation - training data:  Counter({0: 27866, 1: 8765})\n",
      "Class representation - testing data:  Counter({0: 9289, 1: 2922})\n"
     ]
    },
    {
     "data": {
      "text/plain": [
       "<AxesSubplot:title={'center':'Class distribution after applying SMOTE Tomek'}, xlabel='Income Class'>"
      ]
     },
     "execution_count": 26,
     "metadata": {},
     "output_type": "execute_result"
    },
    {
     "data": {
      "image/png": "[encoded data removed]",
      "text/plain": [
       "<Figure size 432x288 with 1 Axes>"
      ]
     },
     "metadata": {
      "needs_background": "light"
     },
     "output_type": "display_data"
    }
   ],
   "source": [
    "# Complete code for data preperation\n",
    "# Read data\n",
    "df_efd2 = pd.read_csv('adult_efd2.csv')\n",
    "df_efd2.rename(columns={'class':'label'}, inplace=True)\n",
    "\n",
    "disc = 'EFD'\n",
    "k = 7\n",
    "\n",
    "df_efd2.info()\n",
    "\n",
    "#Label Encoding for object to numeric conversion\n",
    "#FYI: https://www.kaggle.com/discussions/getting-started/61148\n",
    "objList = df_efd2.select_dtypes(include = \"object\").columns\n",
    "print('List of variable for label encoding: ', objList)\n",
    "\n",
    "from sklearn.preprocessing import LabelEncoder\n",
    "le = LabelEncoder()\n",
    "\n",
    "for feat in objList:\n",
    "    df_efd2[feat] = le.fit_transform(df_efd2[feat].astype(str))\n",
    "\n",
    "print (df_efd2.info())\n",
    "\n",
    "data = df_efd2.values\n",
    "data.shape\n",
    "\n",
    "features = df_efd2.drop('label', axis = 1).columns\n",
    "\n",
    "# separate the data into X and y\n",
    "X = data[:, : len(features)]\n",
    "Y = data[:,-1]\n",
    "\n",
    "print(X.shape, Y.shape)\n",
    "\n",
    "# Split train test\n",
    "x_train, x_test, y_train, y_test = train_test_split(X, Y, test_size=0.25, random_state = 30, stratify=Y)\n",
    "\n",
    "# Check representation of class\n",
    "print('Class representation - original: ', Counter(Y)) \n",
    "print('Class representation - training data: ', Counter(y_train)) \n",
    "print('Class representation - testing data: ', Counter(y_test)) \n",
    "\n",
    "# Check number of categories for features\n",
    "n_categories = df_efd2[features].nunique()\n",
    "\n",
    "# SMOTE-Tomek\n",
    "from imblearn.combine import SMOTETomek\n",
    "smt_tomek = SMOTETomek(random_state=42)\n",
    "x_resample, y_resample = smt_tomek.fit_resample(x_train, y_train)\n",
    "\n",
    "# Check labels in traning dataset after SMOTE\n",
    "pd.Series(y_resample) \\\n",
    ".value_counts() \\\n",
    ".plot(kind='bar', title='Class distribution after applying SMOTE Tomek', xlabel='Income Class')"
   ]
  },
  {
   "cell_type": "markdown",
   "id": "f538866e",
   "metadata": {},
   "source": [
    "### Models, EFD, k=7"
   ]
  },
  {
   "cell_type": "code",
   "execution_count": 27,
   "id": "d2b3000b",
   "metadata": {},
   "outputs": [
    {
     "name": "stdout",
     "output_type": "stream",
     "text": [
      "adult_ID3_EFD_7.skops\n"
     ]
    }
   ],
   "source": [
    "# ID3 - Default\n",
    "model = 'ID3'\n",
    "dataset = 'adult'\n",
    "discretizer = 'EFD'\n",
    "disc_param = 'k = 7'\n",
    "\n",
    "f = open(\"adult_models.txt\", \"a\")\n",
    "import time\n",
    "start = time.time() # For measuring time execution\n",
    "\n",
    "model_id3 = Id3Estimator()\n",
    "model_id3.fit(x_resample, y_resample)\n",
    "\n",
    "# Testing\n",
    "y_pred_id3 = model_id3.predict(x_test)\n",
    "print(f'Models results: model {model}, dataset {dataset}, discretization {discretizer} with parameter {disc_param}', \n",
    "      file = f)\n",
    "print('Classification report', file = f)\n",
    "print(classification_report(y_test, y_pred_id3), file = f)\n",
    "\n",
    "from imblearn.metrics import geometric_mean_score as gmean\n",
    "print('G-mean:', gmean(y_test, y_pred_id3),file = f)\n",
    "\n",
    "end = time.time()\n",
    "print(f'Time for training model {model}- default, {disc}, k = {k} is: {end - start}.', file = f) # Total time execution\n",
    "print('=='*20, file = f)\n",
    "f.close()\n",
    "\n",
    "# Save models\n",
    "import skops.io as sio\n",
    "model_name = f\"{dataset}_{model}_{discretizer}_{k}.skops\"\n",
    "print(model_name)\n",
    "obj = sio.dump(model_id3, model_name)"
   ]
  },
  {
   "cell_type": "code",
   "execution_count": 28,
   "id": "a6c52d00",
   "metadata": {},
   "outputs": [
    {
     "name": "stdout",
     "output_type": "stream",
     "text": [
      "adult_CNB_EFD_7.sav\n"
     ]
    },
    {
     "data": {
      "text/plain": [
       "['adult_CNB_EFD_7.sav']"
      ]
     },
     "execution_count": 28,
     "metadata": {},
     "output_type": "execute_result"
    }
   ],
   "source": [
    "# Naive Bayes - pass number of categories in min_categories\n",
    "model = 'CNB'\n",
    "dataset = 'adult'\n",
    "discretizer = 'EFD'\n",
    "disc_param = 'k = 7'\n",
    "\n",
    "f = open(\"adult_models.txt\", \"a\")\n",
    "import time\n",
    "start = time.time() # For measuring time execution\n",
    "\n",
    "model_nb = CategoricalNB(min_categories = n_categories)\n",
    "model_nb.fit(x_resample, y_resample)\n",
    "\n",
    "# Testing\n",
    "y_pred_nb = model_nb.predict(x_test)\n",
    "model_nb.classes_\n",
    "print(f'Models results: model {model}, dataset {dataset}, discretization {discretizer} with parameter {disc_param}', \n",
    "      file = f)\n",
    "print('Classification report', file = f)\n",
    "print(classification_report(y_test, y_pred_nb), file = f)\n",
    "\n",
    "from imblearn.metrics import geometric_mean_score as gmean\n",
    "print('G-mean:', gmean(y_test, y_pred_nb),file = f)\n",
    "\n",
    "end = time.time()\n",
    "print(f'Time for training model {model}- default, {disc}, k = {k} is: {end - start}.', file = f) # Total time execution\n",
    "print('=='*20, file = f)\n",
    "f.close()\n",
    "\n",
    "# Save models\n",
    "import joblib\n",
    "filename = f\"{dataset}_{model}_{discretizer}_{k}.sav\"\n",
    "print(filename)\n",
    "joblib.dump(model_nb, filename)"
   ]
  },
  {
   "cell_type": "code",
   "execution_count": 29,
   "id": "efd5316d",
   "metadata": {},
   "outputs": [
    {
     "name": "stdout",
     "output_type": "stream",
     "text": [
      "adult_KNN-Hamming_EFD_7.skops\n"
     ]
    }
   ],
   "source": [
    "# Knn-Hammingcomplete code\n",
    "\n",
    "model = 'KNN-Hamming'\n",
    "dataset = 'adult'\n",
    "discretizer = 'EFD'\n",
    "disc_param = 'k = 7'\n",
    "\n",
    "f = open(\"adult_models.txt\", \"a\")\n",
    "import time\n",
    "start = time.time() # For measuring time execution\n",
    "\n",
    "# Knn-Hamming complete code\n",
    "knn_hamming = KNeighborsClassifier(n_neighbors=3, metric='hamming', algorithm='auto')\n",
    "knn_hamming.fit(x_resample, y_resample)\n",
    "\n",
    "# Testing\n",
    "y_pred_knn = knn_hamming.predict(x_test)\n",
    "knn_hamming.classes_\n",
    "print(f'Models results: model {model}, dataset {dataset}, discretization {discretizer} with parameter {disc_param}', \n",
    "      file = f)\n",
    "print('Classification report', file = f)\n",
    "print(classification_report(y_test, y_pred_knn), file = f)\n",
    "\n",
    "from imblearn.metrics import geometric_mean_score as gmean\n",
    "print('G-mean:', gmean(y_test, y_pred_knn),file = f)\n",
    "\n",
    "end = time.time()\n",
    "print(f'Time for training model {model}- default, {disc}, k = {k} is: {end - start}.', file = f) # Total time execution\n",
    "print('=='*20, file = f)\n",
    "f.close()\n",
    "\n",
    "# Save models\n",
    "import skops.io as sio\n",
    "model_name = f\"{dataset}_{model}_{discretizer}_{k}.skops\"\n",
    "print(model_name)\n",
    "obj = sio.dump(knn_hamming, model_name)"
   ]
  },
  {
   "cell_type": "markdown",
   "id": "2824762f",
   "metadata": {},
   "source": [
    "## 2.3 EFD, k = 10"
   ]
  },
  {
   "cell_type": "markdown",
   "id": "d775ce0c",
   "metadata": {},
   "source": [
    "### Dataprep"
   ]
  },
  {
   "cell_type": "code",
   "execution_count": 30,
   "id": "18d75756",
   "metadata": {},
   "outputs": [
    {
     "name": "stdout",
     "output_type": "stream",
     "text": [
      "<class 'pandas.core.frame.DataFrame'>\n",
      "RangeIndex: 48842 entries, 0 to 48841\n",
      "Data columns (total 15 columns):\n",
      " #   Column          Non-Null Count  Dtype \n",
      "---  ------          --------------  ----- \n",
      " 0   age             48842 non-null  int64 \n",
      " 1   workclass       48842 non-null  object\n",
      " 2   fnlwgt          48842 non-null  int64 \n",
      " 3   education       48842 non-null  object\n",
      " 4   education-num   48842 non-null  int64 \n",
      " 5   marital-status  48842 non-null  object\n",
      " 6   occupation      48842 non-null  object\n",
      " 7   relationship    48842 non-null  object\n",
      " 8   race            48842 non-null  object\n",
      " 9   sex             48842 non-null  object\n",
      " 10  capital-gain    48842 non-null  int64 \n",
      " 11  capital-loss    48842 non-null  int64 \n",
      " 12  hours-per-week  48842 non-null  int64 \n",
      " 13  native-country  48842 non-null  object\n",
      " 14  label           48842 non-null  int64 \n",
      "dtypes: int64(7), object(8)\n",
      "memory usage: 5.6+ MB\n",
      "List of variable for label encoding:  Index(['workclass', 'education', 'marital-status', 'occupation',\n",
      "       'relationship', 'race', 'sex', 'native-country'],\n",
      "      dtype='object')\n",
      "<class 'pandas.core.frame.DataFrame'>\n",
      "RangeIndex: 48842 entries, 0 to 48841\n",
      "Data columns (total 15 columns):\n",
      " #   Column          Non-Null Count  Dtype\n",
      "---  ------          --------------  -----\n",
      " 0   age             48842 non-null  int64\n",
      " 1   workclass       48842 non-null  int64\n",
      " 2   fnlwgt          48842 non-null  int64\n",
      " 3   education       48842 non-null  int64\n",
      " 4   education-num   48842 non-null  int64\n",
      " 5   marital-status  48842 non-null  int64\n",
      " 6   occupation      48842 non-null  int64\n",
      " 7   relationship    48842 non-null  int64\n",
      " 8   race            48842 non-null  int64\n",
      " 9   sex             48842 non-null  int64\n",
      " 10  capital-gain    48842 non-null  int64\n",
      " 11  capital-loss    48842 non-null  int64\n",
      " 12  hours-per-week  48842 non-null  int64\n",
      " 13  native-country  48842 non-null  int64\n",
      " 14  label           48842 non-null  int64\n",
      "dtypes: int64(15)\n",
      "memory usage: 5.6 MB\n",
      "None\n",
      "(48842, 14) (48842,)\n",
      "Class representation - original:  Counter({0: 37155, 1: 11687})\n",
      "Class representation - training data:  Counter({0: 27866, 1: 8765})\n",
      "Class representation - testing data:  Counter({0: 9289, 1: 2922})\n"
     ]
    },
    {
     "data": {
      "text/plain": [
       "<AxesSubplot:title={'center':'Class distribution after applying SMOTE Tomek'}, xlabel='Income Class'>"
      ]
     },
     "execution_count": 30,
     "metadata": {},
     "output_type": "execute_result"
    },
    {
     "data": {
      "image/png": "[encoded data removed]",
      "text/plain": [
       "<Figure size 432x288 with 1 Axes>"
      ]
     },
     "metadata": {
      "needs_background": "light"
     },
     "output_type": "display_data"
    }
   ],
   "source": [
    "# Complete code for data preperation\n",
    "# Read data\n",
    "df_efd3 = pd.read_csv('adult_efd3.csv')\n",
    "df_efd3.rename(columns={'class':'label'}, inplace=True)\n",
    "\n",
    "disc = 'EFD'\n",
    "k = 10\n",
    "\n",
    "df_efd3.info()\n",
    "\n",
    "#Label Encoding for object to numeric conversion\n",
    "#FYI: https://www.kaggle.com/discussions/getting-started/61148\n",
    "objList = df_efd3.select_dtypes(include = \"object\").columns\n",
    "print('List of variable for label encoding: ', objList)\n",
    "\n",
    "from sklearn.preprocessing import LabelEncoder\n",
    "le = LabelEncoder()\n",
    "\n",
    "for feat in objList:\n",
    "    df_efd3[feat] = le.fit_transform(df_efd3[feat].astype(str))\n",
    "\n",
    "print (df_efd3.info())\n",
    "\n",
    "data = df_efd3.values\n",
    "data.shape\n",
    "\n",
    "features = df_efd3.drop('label', axis = 1).columns\n",
    "\n",
    "# separate the data into X and y\n",
    "X = data[:, : len(features)]\n",
    "Y = data[:,-1]\n",
    "\n",
    "print(X.shape, Y.shape)\n",
    "\n",
    "# Split train test\n",
    "x_train, x_test, y_train, y_test = train_test_split(X, Y, test_size=0.25, random_state = 30, stratify=Y)\n",
    "\n",
    "# Check representation of class\n",
    "print('Class representation - original: ', Counter(Y)) \n",
    "print('Class representation - training data: ', Counter(y_train)) \n",
    "print('Class representation - testing data: ', Counter(y_test)) \n",
    "\n",
    "# Check number of categories for features\n",
    "n_categories = df_efd3[features].nunique()\n",
    "\n",
    "# SMOTE-Tomek\n",
    "from imblearn.combine import SMOTETomek\n",
    "smt_tomek = SMOTETomek(random_state=42)\n",
    "x_resample, y_resample = smt_tomek.fit_resample(x_train, y_train)\n",
    "\n",
    "# Check labels in traning dataset after SMOTE\n",
    "pd.Series(y_resample) \\\n",
    ".value_counts() \\\n",
    ".plot(kind='bar', title='Class distribution after applying SMOTE Tomek', xlabel='Income Class')"
   ]
  },
  {
   "cell_type": "markdown",
   "id": "648c53f5",
   "metadata": {},
   "source": [
    "### Models, EFD, k=10"
   ]
  },
  {
   "cell_type": "code",
   "execution_count": 31,
   "id": "2e1ac2a1",
   "metadata": {},
   "outputs": [
    {
     "name": "stdout",
     "output_type": "stream",
     "text": [
      "adult_ID3_EFD_10.skops\n"
     ]
    }
   ],
   "source": [
    "# ID3 - Default\n",
    "model = 'ID3'\n",
    "dataset = 'adult'\n",
    "discretizer = 'EFD'\n",
    "disc_param = 'k = 10'\n",
    "\n",
    "f = open(\"adult_models.txt\", \"a\")\n",
    "import time\n",
    "start = time.time() # For measuring time execution\n",
    "\n",
    "model_id3 = Id3Estimator()\n",
    "model_id3.fit(x_resample, y_resample)\n",
    "\n",
    "# Testing\n",
    "y_pred_id3 = model_id3.predict(x_test)\n",
    "print(f'Models results: model {model}, dataset {dataset}, discretization {discretizer} with parameter {disc_param}', \n",
    "      file = f)\n",
    "print('Classification report', file = f)\n",
    "print(classification_report(y_test, y_pred_id3), file = f)\n",
    "\n",
    "from imblearn.metrics import geometric_mean_score as gmean\n",
    "print('G-mean:', gmean(y_test, y_pred_id3),file = f)\n",
    "\n",
    "end = time.time()\n",
    "print(f'Time for training model {model}- default, {disc}, k = {k} is: {end - start}.', file = f) # Total time execution\n",
    "print('=='*20, file = f)\n",
    "f.close()\n",
    "\n",
    "# Save models\n",
    "import skops.io as sio\n",
    "model_name = f\"{dataset}_{model}_{discretizer}_{k}.skops\"\n",
    "print(model_name)\n",
    "obj = sio.dump(model_id3, model_name)"
   ]
  },
  {
   "cell_type": "code",
   "execution_count": 32,
   "id": "9b4a826f",
   "metadata": {},
   "outputs": [
    {
     "name": "stdout",
     "output_type": "stream",
     "text": [
      "adult_CNB_EFD_10.sav\n"
     ]
    },
    {
     "data": {
      "text/plain": [
       "['adult_CNB_EFD_10.sav']"
      ]
     },
     "execution_count": 32,
     "metadata": {},
     "output_type": "execute_result"
    }
   ],
   "source": [
    "# Naive Bayes - pass number of categories in min_categories\n",
    "model = 'CNB'\n",
    "dataset = 'adult'\n",
    "discretizer = 'EFD'\n",
    "disc_param = 'k = 10'\n",
    "\n",
    "f = open(\"adult_models.txt\", \"a\")\n",
    "import time\n",
    "start = time.time() # For measuring time execution\n",
    "\n",
    "model_nb = CategoricalNB(min_categories = n_categories)\n",
    "model_nb.fit(x_resample, y_resample)\n",
    "\n",
    "# Testing\n",
    "y_pred_nb = model_nb.predict(x_test)\n",
    "model_nb.classes_\n",
    "print(f'Models results: model {model}, dataset {dataset}, discretization {discretizer} with parameter {disc_param}', \n",
    "      file = f)\n",
    "print('Classification report', file = f)\n",
    "print(classification_report(y_test, y_pred_nb), file = f)\n",
    "\n",
    "from imblearn.metrics import geometric_mean_score as gmean\n",
    "print('G-mean:', gmean(y_test, y_pred_nb),file = f)\n",
    "\n",
    "end = time.time()\n",
    "print(f'Time for training model {model}- default, {disc}, k = {k} is: {end - start}.', file = f) # Total time execution\n",
    "print('=='*20, file = f)\n",
    "f.close()\n",
    "\n",
    "# Save models\n",
    "import joblib\n",
    "filename = f\"{dataset}_{model}_{discretizer}_{k}.sav\"\n",
    "print(filename)\n",
    "joblib.dump(model_nb, filename)"
   ]
  },
  {
   "cell_type": "code",
   "execution_count": 33,
   "id": "4d253760",
   "metadata": {},
   "outputs": [
    {
     "name": "stdout",
     "output_type": "stream",
     "text": [
      "adult_KNN-Hamming_EFD_10.skops\n"
     ]
    }
   ],
   "source": [
    "# Knn-Hammingcomplete code\n",
    "\n",
    "model = 'KNN-Hamming'\n",
    "dataset = 'adult'\n",
    "discretizer = 'EFD'\n",
    "disc_param = 'k = 10'\n",
    "\n",
    "f = open(\"adult_models.txt\", \"a\")\n",
    "import time\n",
    "start = time.time() # For measuring time execution\n",
    "\n",
    "# Knn-Hamming complete code\n",
    "knn_hamming = KNeighborsClassifier(n_neighbors=3, metric='hamming', algorithm='auto')\n",
    "knn_hamming.fit(x_resample, y_resample)\n",
    "\n",
    "# Testing\n",
    "y_pred_knn = knn_hamming.predict(x_test)\n",
    "knn_hamming.classes_\n",
    "print(f'Models results: model {model}, dataset {dataset}, discretization {discretizer} with parameter {disc_param}', \n",
    "      file = f)\n",
    "print('Classification report', file = f)\n",
    "print(classification_report(y_test, y_pred_knn), file = f)\n",
    "\n",
    "from imblearn.metrics import geometric_mean_score as gmean\n",
    "print('G-mean:', gmean(y_test, y_pred_knn),file = f)\n",
    "\n",
    "end = time.time()\n",
    "print(f'Time for training model {model}- default, {disc}, k = {k} is: {end - start}.', file = f) # Total time execution\n",
    "print('=='*20, file = f)\n",
    "f.close()\n",
    "\n",
    "# Save models\n",
    "import skops.io as sio\n",
    "model_name = f\"{dataset}_{model}_{discretizer}_{k}.skops\"\n",
    "print(model_name)\n",
    "obj = sio.dump(knn_hamming, model_name)"
   ]
  },
  {
   "cell_type": "markdown",
   "id": "1cb83c91",
   "metadata": {},
   "source": [
    "# 3. FFD datasets"
   ]
  },
  {
   "cell_type": "markdown",
   "id": "d08b9c13",
   "metadata": {},
   "source": [
    "## 3.1 FFD, m =10 (tranfusion_ffd1)"
   ]
  },
  {
   "cell_type": "markdown",
   "id": "79a0213f",
   "metadata": {},
   "source": [
    "### Data prep"
   ]
  },
  {
   "cell_type": "code",
   "execution_count": 34,
   "id": "cdb422c2",
   "metadata": {},
   "outputs": [
    {
     "name": "stdout",
     "output_type": "stream",
     "text": [
      "<class 'pandas.core.frame.DataFrame'>\n",
      "RangeIndex: 48842 entries, 0 to 48841\n",
      "Data columns (total 15 columns):\n",
      " #   Column          Non-Null Count  Dtype \n",
      "---  ------          --------------  ----- \n",
      " 0   age             48842 non-null  int64 \n",
      " 1   workclass       48842 non-null  object\n",
      " 2   fnlwgt          48842 non-null  int64 \n",
      " 3   education       48842 non-null  object\n",
      " 4   education-num   48842 non-null  int64 \n",
      " 5   marital-status  48842 non-null  object\n",
      " 6   occupation      48842 non-null  object\n",
      " 7   relationship    48842 non-null  object\n",
      " 8   race            48842 non-null  object\n",
      " 9   sex             48842 non-null  object\n",
      " 10  capital-gain    48842 non-null  int64 \n",
      " 11  capital-loss    48842 non-null  int64 \n",
      " 12  hours-per-week  48842 non-null  int64 \n",
      " 13  native-country  48842 non-null  object\n",
      " 14  label           48842 non-null  int64 \n",
      "dtypes: int64(7), object(8)\n",
      "memory usage: 5.6+ MB\n",
      "List of variable for label encoding:  Index(['workclass', 'education', 'marital-status', 'occupation',\n",
      "       'relationship', 'race', 'sex', 'native-country'],\n",
      "      dtype='object')\n",
      "<class 'pandas.core.frame.DataFrame'>\n",
      "RangeIndex: 48842 entries, 0 to 48841\n",
      "Data columns (total 15 columns):\n",
      " #   Column          Non-Null Count  Dtype\n",
      "---  ------          --------------  -----\n",
      " 0   age             48842 non-null  int64\n",
      " 1   workclass       48842 non-null  int64\n",
      " 2   fnlwgt          48842 non-null  int64\n",
      " 3   education       48842 non-null  int64\n",
      " 4   education-num   48842 non-null  int64\n",
      " 5   marital-status  48842 non-null  int64\n",
      " 6   occupation      48842 non-null  int64\n",
      " 7   relationship    48842 non-null  int64\n",
      " 8   race            48842 non-null  int64\n",
      " 9   sex             48842 non-null  int64\n",
      " 10  capital-gain    48842 non-null  int64\n",
      " 11  capital-loss    48842 non-null  int64\n",
      " 12  hours-per-week  48842 non-null  int64\n",
      " 13  native-country  48842 non-null  int64\n",
      " 14  label           48842 non-null  int64\n",
      "dtypes: int64(15)\n",
      "memory usage: 5.6 MB\n",
      "None\n",
      "(48842, 14) (48842,)\n",
      "Class representation - original:  Counter({0: 37155, 1: 11687})\n",
      "Class representation - training data:  Counter({0: 27866, 1: 8765})\n",
      "Class representation - testing data:  Counter({0: 9289, 1: 2922})\n"
     ]
    },
    {
     "data": {
      "text/plain": [
       "<AxesSubplot:title={'center':'Class distribution after applying SMOTE Tomek'}, xlabel='Income Class'>"
      ]
     },
     "execution_count": 34,
     "metadata": {},
     "output_type": "execute_result"
    },
    {
     "data": {
      "image/png": "[encoded data removed]",
      "text/plain": [
       "<Figure size 432x288 with 1 Axes>"
      ]
     },
     "metadata": {
      "needs_background": "light"
     },
     "output_type": "display_data"
    }
   ],
   "source": [
    "# Complete code for data preperation\n",
    "# Read data\n",
    "df_ffd1 = pd.read_csv('adult_ffd1.csv')\n",
    "df_ffd1.rename(columns={'class':'label'}, inplace=True)\n",
    "\n",
    "disc = 'FFD'\n",
    "m = 10\n",
    "\n",
    "df_ffd1.info()\n",
    "\n",
    "#Label Encoding for object to numeric conversion\n",
    "#FYI: https://www.kaggle.com/discussions/getting-started/61148\n",
    "objList = df_ffd1.select_dtypes(include = \"object\").columns\n",
    "print('List of variable for label encoding: ', objList)\n",
    "\n",
    "from sklearn.preprocessing import LabelEncoder\n",
    "le = LabelEncoder()\n",
    "\n",
    "for feat in objList:\n",
    "    df_ffd1[feat] = le.fit_transform(df_ffd1[feat].astype(str))\n",
    "\n",
    "print (df_ffd1.info())\n",
    "\n",
    "data = df_ffd1.values\n",
    "data.shape\n",
    "\n",
    "features = df_ffd1.drop('label', axis = 1).columns\n",
    "\n",
    "# separate the data into X and y\n",
    "X = data[:, : len(features)]\n",
    "Y = data[:,-1]\n",
    "\n",
    "print(X.shape, Y.shape)\n",
    "\n",
    "# Split train test\n",
    "x_train, x_test, y_train, y_test = train_test_split(X, Y, test_size=0.25, random_state = 30, stratify=Y)\n",
    "\n",
    "# Check representation of class\n",
    "print('Class representation - original: ', Counter(Y)) \n",
    "print('Class representation - training data: ', Counter(y_train)) \n",
    "print('Class representation - testing data: ', Counter(y_test)) \n",
    "\n",
    "# Check number of categories for features\n",
    "n_categories = df_ffd1[features].nunique()\n",
    "\n",
    "# SMOTE-Tomek\n",
    "from imblearn.combine import SMOTETomek\n",
    "smt_tomek = SMOTETomek(random_state=42)\n",
    "x_resample, y_resample = smt_tomek.fit_resample(x_train, y_train)\n",
    "\n",
    "# Check labels in traning dataset after SMOTE\n",
    "pd.Series(y_resample) \\\n",
    ".value_counts() \\\n",
    ".plot(kind='bar', title='Class distribution after applying SMOTE Tomek', xlabel='Income Class')"
   ]
  },
  {
   "cell_type": "markdown",
   "id": "7f4383b4",
   "metadata": {},
   "source": [
    "### Models, FFD, m = 10"
   ]
  },
  {
   "cell_type": "code",
   "execution_count": 35,
   "id": "2cc78168",
   "metadata": {},
   "outputs": [
    {
     "name": "stdout",
     "output_type": "stream",
     "text": [
      "adult_ID3_FFD_10.skops\n"
     ]
    }
   ],
   "source": [
    "# ID3 - Default\n",
    "model = 'ID3'\n",
    "dataset = 'adult'\n",
    "discretizer = 'FFD'\n",
    "disc_param = 'm = 10'\n",
    "\n",
    "f = open(\"adult_models.txt\", \"a\")\n",
    "import time\n",
    "start = time.time() # For measuring time execution\n",
    "\n",
    "model_id3 = Id3Estimator()\n",
    "model_id3.fit(x_resample, y_resample)\n",
    "\n",
    "# Testing\n",
    "y_pred_id3 = model_id3.predict(x_test)\n",
    "print(f'Models results: model {model}, dataset {dataset}, discretization {discretizer} with parameter {disc_param}', \n",
    "      file = f)\n",
    "print('Classification report', file = f)\n",
    "print(classification_report(y_test, y_pred_id3), file = f)\n",
    "\n",
    "from imblearn.metrics import geometric_mean_score as gmean\n",
    "print('G-mean:', gmean(y_test, y_pred_id3),file = f)\n",
    "\n",
    "end = time.time()\n",
    "print(f'Time for training model {model}- default, {disc}, m = {m} is: {end - start}.', file = f) # Total time execution\n",
    "print('=='*20, file = f)\n",
    "f.close()\n",
    "\n",
    "# Save models\n",
    "import skops.io as sio\n",
    "model_name = f\"{dataset}_{model}_{discretizer}_{m}.skops\"\n",
    "print(model_name)\n",
    "obj = sio.dump(model_id3, model_name)"
   ]
  },
  {
   "cell_type": "code",
   "execution_count": 36,
   "id": "4a70bf60",
   "metadata": {},
   "outputs": [
    {
     "name": "stdout",
     "output_type": "stream",
     "text": [
      "adult_CNB_FFD_10.sav\n"
     ]
    },
    {
     "data": {
      "text/plain": [
       "['adult_CNB_FFD_10.sav']"
      ]
     },
     "execution_count": 36,
     "metadata": {},
     "output_type": "execute_result"
    }
   ],
   "source": [
    "# Naive Bayes - pass number of categories in min_categories\n",
    "model = 'CNB'\n",
    "dataset = 'adult'\n",
    "discretizer = 'FFD'\n",
    "disc_param = 'm = 10'\n",
    "\n",
    "f = open(\"adult_models.txt\", \"a\")\n",
    "import time\n",
    "start = time.time() # For measuring time execution\n",
    "\n",
    "model_nb = CategoricalNB(min_categories = n_categories)\n",
    "model_nb.fit(x_resample, y_resample)\n",
    "\n",
    "# Testing\n",
    "y_pred_nb = model_nb.predict(x_test)\n",
    "model_nb.classes_\n",
    "print(f'Models results: model {model}, dataset {dataset}, discretization {discretizer} with parameter {disc_param}', \n",
    "      file = f)\n",
    "print('Classification report', file = f)\n",
    "print(classification_report(y_test, y_pred_nb), file = f)\n",
    "\n",
    "from imblearn.metrics import geometric_mean_score as gmean\n",
    "print('G-mean:', gmean(y_test, y_pred_nb),file = f)\n",
    "\n",
    "end = time.time()\n",
    "print(f'Time for training model {model}- default, {disc}, m = {m} is: {end - start}.', file = f) # Total time execution\n",
    "print('=='*20, file = f)\n",
    "f.close()\n",
    "\n",
    "# Save models\n",
    "import joblib\n",
    "filename = f\"{dataset}_{model}_{discretizer}_{m}.sav\"\n",
    "print(filename)\n",
    "joblib.dump(model_nb, filename)\n"
   ]
  },
  {
   "cell_type": "code",
   "execution_count": 37,
   "id": "c271a43c",
   "metadata": {},
   "outputs": [
    {
     "name": "stdout",
     "output_type": "stream",
     "text": [
      "adult_KNN-Hamming_FFD_10.skops\n"
     ]
    }
   ],
   "source": [
    "# Knn-Hammingcomplete code\n",
    "\n",
    "model = 'KNN-Hamming'\n",
    "dataset = 'adult'\n",
    "discretizer = 'FFD'\n",
    "disc_param = 'm = 10'\n",
    "\n",
    "f = open(\"adult_models.txt\", \"a\")\n",
    "import time\n",
    "start = time.time() # For measuring time execution\n",
    "\n",
    "# Knn-Hamming complete code\n",
    "knn_hamming = KNeighborsClassifier(n_neighbors=3, metric='hamming', algorithm='auto')\n",
    "knn_hamming.fit(x_resample, y_resample)\n",
    "\n",
    "# Testing\n",
    "y_pred_knn = knn_hamming.predict(x_test)\n",
    "knn_hamming.classes_\n",
    "print(f'Models results: model {model}, dataset {dataset}, discretization {discretizer} with parameter {disc_param}', \n",
    "      file = f)\n",
    "print('Classification report', file = f)\n",
    "print(classification_report(y_test, y_pred_knn), file = f)\n",
    "\n",
    "from imblearn.metrics import geometric_mean_score as gmean\n",
    "print('G-mean:', gmean(y_test, y_pred_knn),file = f)\n",
    "\n",
    "end = time.time()\n",
    "print(f'Time for training model {model}- default, {disc}, m = {m} is: {end - start}.', file = f) # Total time execution\n",
    "print('=='*20, file = f)\n",
    "f.close()\n",
    "\n",
    "# Save models\n",
    "import skops.io as sio\n",
    "model_name = f\"{dataset}_{model}_{discretizer}_{m}.skops\"\n",
    "print(model_name)\n",
    "obj = sio.dump(knn_hamming, model_name)"
   ]
  },
  {
   "cell_type": "markdown",
   "id": "9fda1383",
   "metadata": {},
   "source": [
    "## 3.1 FFD, m =30 (tranfusion_ffd2)"
   ]
  },
  {
   "cell_type": "markdown",
   "id": "15cec70c",
   "metadata": {},
   "source": [
    "### Data prep"
   ]
  },
  {
   "cell_type": "code",
   "execution_count": 38,
   "id": "e2f34b6f",
   "metadata": {},
   "outputs": [
    {
     "name": "stdout",
     "output_type": "stream",
     "text": [
      "<class 'pandas.core.frame.DataFrame'>\n",
      "RangeIndex: 48842 entries, 0 to 48841\n",
      "Data columns (total 15 columns):\n",
      " #   Column          Non-Null Count  Dtype \n",
      "---  ------          --------------  ----- \n",
      " 0   age             48842 non-null  int64 \n",
      " 1   workclass       48842 non-null  object\n",
      " 2   fnlwgt          48842 non-null  int64 \n",
      " 3   education       48842 non-null  object\n",
      " 4   education-num   48842 non-null  int64 \n",
      " 5   marital-status  48842 non-null  object\n",
      " 6   occupation      48842 non-null  object\n",
      " 7   relationship    48842 non-null  object\n",
      " 8   race            48842 non-null  object\n",
      " 9   sex             48842 non-null  object\n",
      " 10  capital-gain    48842 non-null  int64 \n",
      " 11  capital-loss    48842 non-null  int64 \n",
      " 12  hours-per-week  48842 non-null  int64 \n",
      " 13  native-country  48842 non-null  object\n",
      " 14  label           48842 non-null  int64 \n",
      "dtypes: int64(7), object(8)\n",
      "memory usage: 5.6+ MB\n",
      "List of variable for label encoding:  Index(['workclass', 'education', 'marital-status', 'occupation',\n",
      "       'relationship', 'race', 'sex', 'native-country'],\n",
      "      dtype='object')\n",
      "<class 'pandas.core.frame.DataFrame'>\n",
      "RangeIndex: 48842 entries, 0 to 48841\n",
      "Data columns (total 15 columns):\n",
      " #   Column          Non-Null Count  Dtype\n",
      "---  ------          --------------  -----\n",
      " 0   age             48842 non-null  int64\n",
      " 1   workclass       48842 non-null  int64\n",
      " 2   fnlwgt          48842 non-null  int64\n",
      " 3   education       48842 non-null  int64\n",
      " 4   education-num   48842 non-null  int64\n",
      " 5   marital-status  48842 non-null  int64\n",
      " 6   occupation      48842 non-null  int64\n",
      " 7   relationship    48842 non-null  int64\n",
      " 8   race            48842 non-null  int64\n",
      " 9   sex             48842 non-null  int64\n",
      " 10  capital-gain    48842 non-null  int64\n",
      " 11  capital-loss    48842 non-null  int64\n",
      " 12  hours-per-week  48842 non-null  int64\n",
      " 13  native-country  48842 non-null  int64\n",
      " 14  label           48842 non-null  int64\n",
      "dtypes: int64(15)\n",
      "memory usage: 5.6 MB\n",
      "None\n",
      "(48842, 14) (48842,)\n",
      "Class representation - original:  Counter({0: 37155, 1: 11687})\n",
      "Class representation - training data:  Counter({0: 27866, 1: 8765})\n",
      "Class representation - testing data:  Counter({0: 9289, 1: 2922})\n"
     ]
    },
    {
     "data": {
      "text/plain": [
       "<AxesSubplot:title={'center':'Class distribution after applying SMOTE Tomek'}, xlabel='Income Class'>"
      ]
     },
     "execution_count": 38,
     "metadata": {},
     "output_type": "execute_result"
    },
    {
     "data": {
      "image/png": "[encoded data removed]",
      "text/plain": [
       "<Figure size 432x288 with 1 Axes>"
      ]
     },
     "metadata": {
      "needs_background": "light"
     },
     "output_type": "display_data"
    }
   ],
   "source": [
    "# Complete code for data preperation\n",
    "# Read data\n",
    "df_ffd2 = pd.read_csv('adult_ffd2.csv')\n",
    "#df_ffd2.drop(df_ffd2.columns[0], axis=1, inplace = True)\n",
    "\n",
    "df_ffd2.rename(columns={'class':'label'}, inplace=True)\n",
    "\n",
    "disc = 'FFD'\n",
    "m = 30\n",
    "\n",
    "df_ffd2.info()\n",
    "\n",
    "#Label Encoding for object to numeric conversion\n",
    "objList = df_ffd2.select_dtypes(include = \"object\").columns\n",
    "print('List of variable for label encoding: ', objList)\n",
    "\n",
    "from sklearn.preprocessing import LabelEncoder\n",
    "le = LabelEncoder()\n",
    "\n",
    "for feat in objList:\n",
    "    df_ffd2[feat] = le.fit_transform(df_ffd2[feat].astype(str))\n",
    "\n",
    "print (df_ffd2.info())\n",
    "\n",
    "data = df_ffd2.values\n",
    "data.shape\n",
    "\n",
    "features = df_ffd2.drop('label', axis = 1).columns\n",
    "\n",
    "# separate the data into X and y\n",
    "X = data[:, : len(features)]\n",
    "Y = data[:,-1]\n",
    "\n",
    "print(X.shape, Y.shape)\n",
    "\n",
    "# Split train test\n",
    "x_train, x_test, y_train, y_test = train_test_split(X, Y, test_size=0.25, random_state = 30, stratify=Y)\n",
    "\n",
    "# Check representation of class\n",
    "print('Class representation - original: ', Counter(Y)) \n",
    "print('Class representation - training data: ', Counter(y_train)) \n",
    "print('Class representation - testing data: ', Counter(y_test)) \n",
    "\n",
    "# Check number of categories for features\n",
    "n_categories = df_ffd2[features].nunique()\n",
    "\n",
    "# SMOTE-Tomek\n",
    "from imblearn.combine import SMOTETomek\n",
    "smt_tomek = SMOTETomek(random_state=42)\n",
    "x_resample, y_resample = smt_tomek.fit_resample(x_train, y_train)\n",
    "\n",
    "# Check labels in traning dataset after SMOTE\n",
    "pd.Series(y_resample) \\\n",
    ".value_counts() \\\n",
    ".plot(kind='bar', title='Class distribution after applying SMOTE Tomek', xlabel='Income Class')"
   ]
  },
  {
   "cell_type": "markdown",
   "id": "3a239b47",
   "metadata": {},
   "source": [
    "### Models, FFD, m = 30"
   ]
  },
  {
   "cell_type": "code",
   "execution_count": 39,
   "id": "94c10137",
   "metadata": {},
   "outputs": [
    {
     "name": "stdout",
     "output_type": "stream",
     "text": [
      "adult_ID3_FFD_30.skops\n"
     ]
    }
   ],
   "source": [
    "# ID3 - Default\n",
    "model = 'ID3'\n",
    "dataset = 'adult'\n",
    "discretizer = 'FFD'\n",
    "disc_param = 'm = 30'\n",
    "\n",
    "f = open(\"adult_models.txt\", \"a\")\n",
    "import time\n",
    "start = time.time() # For measuring time execution\n",
    "\n",
    "model_id3 = Id3Estimator()\n",
    "model_id3.fit(x_resample, y_resample)\n",
    "\n",
    "# Testing\n",
    "y_pred_id3 = model_id3.predict(x_test)\n",
    "print(f'Models results: model {model}, dataset {dataset}, discretization {discretizer} with parameter {disc_param}', \n",
    "      file = f)\n",
    "print('Classification report', file = f)\n",
    "print(classification_report(y_test, y_pred_id3), file = f)\n",
    "\n",
    "from imblearn.metrics import geometric_mean_score as gmean\n",
    "print('G-mean:', gmean(y_test, y_pred_id3),file = f)\n",
    "\n",
    "end = time.time()\n",
    "print(f'Time for training model {model}- default, {disc}, m = {m} is: {end - start}.', file = f) # Total time execution\n",
    "print('=='*20, file = f)\n",
    "f.close()\n",
    "\n",
    "# Save models\n",
    "import skops.io as sio\n",
    "model_name = f\"{dataset}_{model}_{discretizer}_{m}.skops\"\n",
    "print(model_name)\n",
    "obj = sio.dump(model_id3, model_name)"
   ]
  },
  {
   "cell_type": "code",
   "execution_count": 40,
   "id": "8c123485",
   "metadata": {},
   "outputs": [
    {
     "name": "stdout",
     "output_type": "stream",
     "text": [
      "adult_CNB_FFD_30.sav\n"
     ]
    },
    {
     "data": {
      "text/plain": [
       "['adult_CNB_FFD_30.sav']"
      ]
     },
     "execution_count": 40,
     "metadata": {},
     "output_type": "execute_result"
    }
   ],
   "source": [
    "# Naive Bayes - pass number of categories in min_categories\n",
    "model = 'CNB'\n",
    "dataset = 'adult'\n",
    "discretizer = 'FFD'\n",
    "disc_param = 'm = 30'\n",
    "\n",
    "f = open(\"adult_models.txt\", \"a\")\n",
    "import time\n",
    "start = time.time() # For measuring time execution\n",
    "\n",
    "model_nb = CategoricalNB(min_categories = n_categories)\n",
    "model_nb.fit(x_resample, y_resample)\n",
    "\n",
    "# Testing\n",
    "y_pred_nb = model_nb.predict(x_test)\n",
    "model_nb.classes_\n",
    "print(f'Models results: model {model}, dataset {dataset}, discretization {discretizer} with parameter {disc_param}', \n",
    "      file = f)\n",
    "print('Classification report', file = f)\n",
    "print(classification_report(y_test, y_pred_nb), file = f)\n",
    "\n",
    "from imblearn.metrics import geometric_mean_score as gmean\n",
    "print('G-mean:', gmean(y_test, y_pred_nb),file = f)\n",
    "\n",
    "end = time.time()\n",
    "print(f'Time for training model {model}- default, {disc}, m = {m} is: {end - start}.', file = f) # Total time execution\n",
    "print('=='*20, file = f)\n",
    "f.close()\n",
    "\n",
    "# Save models\n",
    "import joblib\n",
    "filename = f\"{dataset}_{model}_{discretizer}_{m}.sav\"\n",
    "print(filename)\n",
    "joblib.dump(model_nb, filename)"
   ]
  },
  {
   "cell_type": "code",
   "execution_count": 41,
   "id": "640bebd0",
   "metadata": {},
   "outputs": [
    {
     "name": "stdout",
     "output_type": "stream",
     "text": [
      "adult_KNN-Hamming_FFD_30.skops\n"
     ]
    }
   ],
   "source": [
    "# Knn-Hammingcomplete code\n",
    "\n",
    "model = 'KNN-Hamming'\n",
    "dataset = 'adult'\n",
    "discretizer = 'FFD'\n",
    "disc_param = 'm = 30'\n",
    "\n",
    "f = open(\"adult_models.txt\", \"a\")\n",
    "import time\n",
    "start = time.time() # For measuring time execution\n",
    "\n",
    "# Knn-Hamming complete code\n",
    "knn_hamming = KNeighborsClassifier(n_neighbors=3, metric='hamming', algorithm='auto')\n",
    "knn_hamming.fit(x_resample, y_resample)\n",
    "\n",
    "# Testing\n",
    "y_pred_knn = knn_hamming.predict(x_test)\n",
    "knn_hamming.classes_\n",
    "print(f'Models results: model {model}, dataset {dataset}, discretization {discretizer} with parameter {disc_param}', \n",
    "      file = f)\n",
    "print('Classification report', file = f)\n",
    "print(classification_report(y_test, y_pred_knn), file = f)\n",
    "\n",
    "from imblearn.metrics import geometric_mean_score as gmean\n",
    "print('G-mean:', gmean(y_test, y_pred_knn),file = f)\n",
    "\n",
    "end = time.time()\n",
    "print(f'Time for training model {model}- default, {disc}, m = {m} is: {end - start}.', file = f) # Total time execution\n",
    "print('=='*20, file = f)\n",
    "f.close()\n",
    "\n",
    "# Save models\n",
    "import skops.io as sio\n",
    "model_name = f\"{dataset}_{model}_{discretizer}_{m}.skops\"\n",
    "print(model_name)\n",
    "obj = sio.dump(knn_hamming, model_name)"
   ]
  },
  {
   "cell_type": "markdown",
   "id": "1526d6c8",
   "metadata": {},
   "source": [
    "## 3.3 FFD, m =60 (tranfusion_ffd3)"
   ]
  },
  {
   "cell_type": "markdown",
   "id": "f79807cd",
   "metadata": {},
   "source": [
    "### Data prep"
   ]
  },
  {
   "cell_type": "code",
   "execution_count": 42,
   "id": "0040f50e",
   "metadata": {},
   "outputs": [
    {
     "name": "stdout",
     "output_type": "stream",
     "text": [
      "<class 'pandas.core.frame.DataFrame'>\n",
      "RangeIndex: 48842 entries, 0 to 48841\n",
      "Data columns (total 15 columns):\n",
      " #   Column          Non-Null Count  Dtype \n",
      "---  ------          --------------  ----- \n",
      " 0   age             48842 non-null  int64 \n",
      " 1   workclass       48842 non-null  object\n",
      " 2   fnlwgt          48842 non-null  int64 \n",
      " 3   education       48842 non-null  object\n",
      " 4   education-num   48842 non-null  int64 \n",
      " 5   marital-status  48842 non-null  object\n",
      " 6   occupation      48842 non-null  object\n",
      " 7   relationship    48842 non-null  object\n",
      " 8   race            48842 non-null  object\n",
      " 9   sex             48842 non-null  object\n",
      " 10  capital-gain    48842 non-null  int64 \n",
      " 11  capital-loss    48842 non-null  int64 \n",
      " 12  hours-per-week  48842 non-null  int64 \n",
      " 13  native-country  48842 non-null  object\n",
      " 14  label           48842 non-null  int64 \n",
      "dtypes: int64(7), object(8)\n",
      "memory usage: 5.6+ MB\n",
      "List of variable for label encoding:  Index(['workclass', 'education', 'marital-status', 'occupation',\n",
      "       'relationship', 'race', 'sex', 'native-country'],\n",
      "      dtype='object')\n",
      "<class 'pandas.core.frame.DataFrame'>\n",
      "RangeIndex: 48842 entries, 0 to 48841\n",
      "Data columns (total 15 columns):\n",
      " #   Column          Non-Null Count  Dtype\n",
      "---  ------          --------------  -----\n",
      " 0   age             48842 non-null  int64\n",
      " 1   workclass       48842 non-null  int64\n",
      " 2   fnlwgt          48842 non-null  int64\n",
      " 3   education       48842 non-null  int64\n",
      " 4   education-num   48842 non-null  int64\n",
      " 5   marital-status  48842 non-null  int64\n",
      " 6   occupation      48842 non-null  int64\n",
      " 7   relationship    48842 non-null  int64\n",
      " 8   race            48842 non-null  int64\n",
      " 9   sex             48842 non-null  int64\n",
      " 10  capital-gain    48842 non-null  int64\n",
      " 11  capital-loss    48842 non-null  int64\n",
      " 12  hours-per-week  48842 non-null  int64\n",
      " 13  native-country  48842 non-null  int64\n",
      " 14  label           48842 non-null  int64\n",
      "dtypes: int64(15)\n",
      "memory usage: 5.6 MB\n",
      "None\n",
      "(48842, 14) (48842,)\n",
      "Class representation - original:  Counter({0: 37155, 1: 11687})\n",
      "Class representation - training data:  Counter({0: 27866, 1: 8765})\n",
      "Class representation - testing data:  Counter({0: 9289, 1: 2922})\n"
     ]
    },
    {
     "data": {
      "text/plain": [
       "<AxesSubplot:title={'center':'Class distribution after applying SMOTE Tomek'}, xlabel='Income Class'>"
      ]
     },
     "execution_count": 42,
     "metadata": {},
     "output_type": "execute_result"
    },
    {
     "data": {
      "image/png": "[encoded data removed]",
      "text/plain": [
       "<Figure size 432x288 with 1 Axes>"
      ]
     },
     "metadata": {
      "needs_background": "light"
     },
     "output_type": "display_data"
    }
   ],
   "source": [
    "# Complete code for data preperation\n",
    "# Read data\n",
    "df_ffd3 = pd.read_csv('adult_ffd3.csv')\n",
    "#df_ffd3.drop(df_ffd3.columns[0], axis=1, inplace = True)\n",
    "\n",
    "df_ffd3.rename(columns={'class':'label'}, inplace=True)\n",
    "\n",
    "disc = 'FFD'\n",
    "m = 60\n",
    "\n",
    "df_ffd3.info()\n",
    "\n",
    "#Label Encoding for object to numeric conversion\n",
    "#FYI: https://www.kaggle.com/discussions/getting-started/61148\n",
    "objList = df_ffd3.select_dtypes(include = \"object\").columns\n",
    "print('List of variable for label encoding: ', objList)\n",
    "\n",
    "from sklearn.preprocessing import LabelEncoder\n",
    "le = LabelEncoder()\n",
    "\n",
    "for feat in objList:\n",
    "    df_ffd3[feat] = le.fit_transform(df_ffd3[feat].astype(str))\n",
    "\n",
    "print (df_ffd3.info())\n",
    "\n",
    "data = df_ffd3.values\n",
    "data.shape\n",
    "\n",
    "features = df_ffd3.drop('label', axis = 1).columns\n",
    "\n",
    "# separate the data into X and y\n",
    "X = data[:, : len(features)]\n",
    "Y = data[:,-1]\n",
    "\n",
    "print(X.shape, Y.shape)\n",
    "\n",
    "# Split train test\n",
    "x_train, x_test, y_train, y_test = train_test_split(X, Y, test_size=0.25, random_state = 30, stratify=Y)\n",
    "\n",
    "# Check representation of class\n",
    "print('Class representation - original: ', Counter(Y)) \n",
    "print('Class representation - training data: ', Counter(y_train)) \n",
    "print('Class representation - testing data: ', Counter(y_test)) \n",
    "\n",
    "# Check number of categories for features\n",
    "n_categories = df_ffd3[features].nunique()\n",
    "\n",
    "# SMOTE-Tomek\n",
    "from imblearn.combine import SMOTETomek\n",
    "smt_tomek = SMOTETomek(random_state=42)\n",
    "x_resample, y_resample = smt_tomek.fit_resample(x_train, y_train)\n",
    "\n",
    "# Check labels in traning dataset after SMOTE\n",
    "pd.Series(y_resample) \\\n",
    ".value_counts() \\\n",
    ".plot(kind='bar', title='Class distribution after applying SMOTE Tomek', xlabel='Income Class')"
   ]
  },
  {
   "cell_type": "markdown",
   "id": "4809619f",
   "metadata": {},
   "source": [
    "### Models, FFD, m = 60"
   ]
  },
  {
   "cell_type": "code",
   "execution_count": 43,
   "id": "be63418c",
   "metadata": {},
   "outputs": [
    {
     "name": "stdout",
     "output_type": "stream",
     "text": [
      "adult_ID3_FFD_60.skops\n"
     ]
    }
   ],
   "source": [
    "# ID3 - Default\n",
    "model = 'ID3'\n",
    "dataset = 'adult'\n",
    "discretizer = 'FFD'\n",
    "disc_param = 'm = 60'\n",
    "\n",
    "f = open(\"adult_models.txt\", \"a\")\n",
    "import time\n",
    "start = time.time() # For measuring time execution\n",
    "\n",
    "model_id3 = Id3Estimator()\n",
    "model_id3.fit(x_resample, y_resample)\n",
    "\n",
    "# Testing\n",
    "y_pred_id3 = model_id3.predict(x_test)\n",
    "print(f'Models results: model {model}, dataset {dataset}, discretization {discretizer} with parameter {disc_param}', \n",
    "      file = f)\n",
    "print('Classification report', file = f)\n",
    "print(classification_report(y_test, y_pred_id3), file = f)\n",
    "\n",
    "from imblearn.metrics import geometric_mean_score as gmean\n",
    "print('G-mean:', gmean(y_test, y_pred_id3),file = f)\n",
    "\n",
    "end = time.time()\n",
    "print(f'Time for training model {model}- default, {disc}, m = {m} is: {end - start}.', file = f) # Total time execution\n",
    "print('=='*20, file = f)\n",
    "f.close()\n",
    "\n",
    "# Save models\n",
    "import skops.io as sio\n",
    "model_name = f\"{dataset}_{model}_{discretizer}_{m}.skops\"\n",
    "print(model_name)\n",
    "obj = sio.dump(model_id3, model_name)"
   ]
  },
  {
   "cell_type": "code",
   "execution_count": 44,
   "id": "0fdc5c34",
   "metadata": {},
   "outputs": [
    {
     "name": "stdout",
     "output_type": "stream",
     "text": [
      "adult_CNB_FFD_60.sav\n"
     ]
    },
    {
     "data": {
      "text/plain": [
       "['adult_CNB_FFD_60.sav']"
      ]
     },
     "execution_count": 44,
     "metadata": {},
     "output_type": "execute_result"
    }
   ],
   "source": [
    "# Naive Bayes - pass number of categories in min_categories\n",
    "model = 'CNB'\n",
    "dataset = 'adult'\n",
    "discretizer = 'FFD'\n",
    "disc_param = 'm = 60'\n",
    "\n",
    "f = open(\"adult_models.txt\", \"a\")\n",
    "import time\n",
    "start = time.time() # For measuring time execution\n",
    "\n",
    "model_nb = CategoricalNB(min_categories = n_categories)\n",
    "model_nb.fit(x_resample, y_resample)\n",
    "\n",
    "# Testing\n",
    "y_pred_nb = model_nb.predict(x_test)\n",
    "model_nb.classes_\n",
    "print(f'Models results: model {model}, dataset {dataset}, discretization {discretizer} with parameter {disc_param}', \n",
    "      file = f)\n",
    "print('Classification report', file = f)\n",
    "print(classification_report(y_test, y_pred_nb), file = f)\n",
    "\n",
    "from imblearn.metrics import geometric_mean_score as gmean\n",
    "print('G-mean:', gmean(y_test, y_pred_nb),file = f)\n",
    "\n",
    "end = time.time()\n",
    "print(f'Time for training model {model}- default, {disc}, m = {m} is: {end - start}.', file = f) # Total time execution\n",
    "print('=='*20, file = f)\n",
    "f.close()\n",
    "\n",
    "# Save models\n",
    "import joblib\n",
    "filename = f\"{dataset}_{model}_{discretizer}_{m}.sav\"\n",
    "print(filename)\n",
    "joblib.dump(model_nb, filename)"
   ]
  },
  {
   "cell_type": "code",
   "execution_count": 45,
   "id": "a96e449e",
   "metadata": {},
   "outputs": [
    {
     "name": "stdout",
     "output_type": "stream",
     "text": [
      "adult_KNN-Hamming_FFD_60.skops\n"
     ]
    }
   ],
   "source": [
    "# Knn-Hammingcomplete code\n",
    "\n",
    "model = 'KNN-Hamming'\n",
    "dataset = 'adult'\n",
    "discretizer = 'FFD'\n",
    "disc_param = 'm = 60'\n",
    "\n",
    "f = open(\"adult_models.txt\", \"a\")\n",
    "import time\n",
    "start = time.time() # For measuring time execution\n",
    "\n",
    "# Knn-Hamming complete code\n",
    "knn_hamming = KNeighborsClassifier(n_neighbors=3, metric='hamming', algorithm='auto')\n",
    "knn_hamming.fit(x_resample, y_resample)\n",
    "\n",
    "# Testing\n",
    "y_pred_knn = knn_hamming.predict(x_test)\n",
    "knn_hamming.classes_\n",
    "print(f'Models results: model {model}, dataset {dataset}, discretization {discretizer} with parameter {disc_param}', \n",
    "      file = f)\n",
    "print('Classification report', file = f)\n",
    "print(classification_report(y_test, y_pred_knn), file = f)\n",
    "\n",
    "from imblearn.metrics import geometric_mean_score as gmean\n",
    "print('G-mean:', gmean(y_test, y_pred_knn),file = f)\n",
    "\n",
    "end = time.time()\n",
    "print(f'Time for training model {model}- default, {disc}, m = {m} is: {end - start}.', file = f) # Total time execution\n",
    "print('=='*20, file = f)\n",
    "f.close()\n",
    "\n",
    "# Save models\n",
    "import skops.io as sio\n",
    "model_name = f\"{dataset}_{model}_{discretizer}_{m}.skops\"\n",
    "print(model_name)\n",
    "obj = sio.dump(knn_hamming, model_name)"
   ]
  },
  {
   "cell_type": "markdown",
   "id": "e4fd8e81",
   "metadata": {},
   "source": [
    "## 3.3 FFD, m =100 (tranfusion_ffd4)"
   ]
  },
  {
   "cell_type": "markdown",
   "id": "9f3bb0a9",
   "metadata": {},
   "source": [
    "### Data prep"
   ]
  },
  {
   "cell_type": "code",
   "execution_count": 46,
   "id": "9241faf2",
   "metadata": {},
   "outputs": [
    {
     "name": "stdout",
     "output_type": "stream",
     "text": [
      "<class 'pandas.core.frame.DataFrame'>\n",
      "RangeIndex: 48842 entries, 0 to 48841\n",
      "Data columns (total 15 columns):\n",
      " #   Column          Non-Null Count  Dtype \n",
      "---  ------          --------------  ----- \n",
      " 0   age             48842 non-null  int64 \n",
      " 1   workclass       48842 non-null  object\n",
      " 2   fnlwgt          48842 non-null  int64 \n",
      " 3   education       48842 non-null  object\n",
      " 4   education-num   48842 non-null  int64 \n",
      " 5   marital-status  48842 non-null  object\n",
      " 6   occupation      48842 non-null  object\n",
      " 7   relationship    48842 non-null  object\n",
      " 8   race            48842 non-null  object\n",
      " 9   sex             48842 non-null  object\n",
      " 10  capital-gain    48842 non-null  int64 \n",
      " 11  capital-loss    48842 non-null  int64 \n",
      " 12  hours-per-week  48842 non-null  int64 \n",
      " 13  native-country  48842 non-null  object\n",
      " 14  label           48842 non-null  int64 \n",
      "dtypes: int64(7), object(8)\n",
      "memory usage: 5.6+ MB\n",
      "List of variable for label encoding:  Index(['workclass', 'education', 'marital-status', 'occupation',\n",
      "       'relationship', 'race', 'sex', 'native-country'],\n",
      "      dtype='object')\n",
      "<class 'pandas.core.frame.DataFrame'>\n",
      "RangeIndex: 48842 entries, 0 to 48841\n",
      "Data columns (total 15 columns):\n",
      " #   Column          Non-Null Count  Dtype\n",
      "---  ------          --------------  -----\n",
      " 0   age             48842 non-null  int64\n",
      " 1   workclass       48842 non-null  int64\n",
      " 2   fnlwgt          48842 non-null  int64\n",
      " 3   education       48842 non-null  int64\n",
      " 4   education-num   48842 non-null  int64\n",
      " 5   marital-status  48842 non-null  int64\n",
      " 6   occupation      48842 non-null  int64\n",
      " 7   relationship    48842 non-null  int64\n",
      " 8   race            48842 non-null  int64\n",
      " 9   sex             48842 non-null  int64\n",
      " 10  capital-gain    48842 non-null  int64\n",
      " 11  capital-loss    48842 non-null  int64\n",
      " 12  hours-per-week  48842 non-null  int64\n",
      " 13  native-country  48842 non-null  int64\n",
      " 14  label           48842 non-null  int64\n",
      "dtypes: int64(15)\n",
      "memory usage: 5.6 MB\n",
      "None\n",
      "(48842, 14) (48842,)\n",
      "Class representation - original:  Counter({0: 37155, 1: 11687})\n",
      "Class representation - training data:  Counter({0: 27866, 1: 8765})\n",
      "Class representation - testing data:  Counter({0: 9289, 1: 2922})\n"
     ]
    },
    {
     "data": {
      "text/plain": [
       "<AxesSubplot:title={'center':'Class distribution after applying SMOTE Tomek'}, xlabel='Income Class'>"
      ]
     },
     "execution_count": 46,
     "metadata": {},
     "output_type": "execute_result"
    },
    {
     "data": {
      "image/png": "[encoded data removed]",
      "text/plain": [
       "<Figure size 432x288 with 1 Axes>"
      ]
     },
     "metadata": {
      "needs_background": "light"
     },
     "output_type": "display_data"
    }
   ],
   "source": [
    "# Complete code for data preperation\n",
    "# Read data\n",
    "df_ffd4 = pd.read_csv('adult_ffd4.csv')\n",
    "#df_ffd4.drop(df_ffd4.columns[0], axis=1, inplace = True)\n",
    "\n",
    "df_ffd4.rename(columns={'class':'label'}, inplace=True)\n",
    "\n",
    "disc = 'FFD'\n",
    "m = 100\n",
    "\n",
    "df_ffd4.info()\n",
    "\n",
    "#Label Encoding for object to numeric conversion\n",
    "#FYI: https://www.kaggle.com/discussions/getting-started/61148\n",
    "objList = df_ffd4.select_dtypes(include = \"object\").columns\n",
    "print('List of variable for label encoding: ', objList)\n",
    "\n",
    "from sklearn.preprocessing import LabelEncoder\n",
    "le = LabelEncoder()\n",
    "\n",
    "for feat in objList:\n",
    "    df_ffd4[feat] = le.fit_transform(df_ffd4[feat].astype(str))\n",
    "\n",
    "print (df_ffd4.info())\n",
    "\n",
    "data = df_ffd4.values\n",
    "data.shape\n",
    "\n",
    "features = df_ffd4.drop('label', axis = 1).columns\n",
    "\n",
    "# separate the data into X and y\n",
    "X = data[:, : len(features)]\n",
    "Y = data[:,-1]\n",
    "\n",
    "print(X.shape, Y.shape)\n",
    "\n",
    "# Split train test\n",
    "x_train, x_test, y_train, y_test = train_test_split(X, Y, test_size=0.25, random_state = 30, stratify=Y)\n",
    "\n",
    "# Check representation of class\n",
    "print('Class representation - original: ', Counter(Y)) \n",
    "print('Class representation - training data: ', Counter(y_train)) \n",
    "print('Class representation - testing data: ', Counter(y_test)) \n",
    "\n",
    "# Check number of categories for features\n",
    "n_categories = df_ffd4[features].nunique()\n",
    "\n",
    "# SMOTE-Tomek\n",
    "from imblearn.combine import SMOTETomek\n",
    "smt_tomek = SMOTETomek(random_state=42)\n",
    "x_resample, y_resample = smt_tomek.fit_resample(x_train, y_train)\n",
    "\n",
    "# Check labels in traning dataset after SMOTE\n",
    "pd.Series(y_resample) \\\n",
    ".value_counts() \\\n",
    ".plot(kind='bar', title='Class distribution after applying SMOTE Tomek', xlabel='Income Class')"
   ]
  },
  {
   "cell_type": "markdown",
   "id": "060773d1",
   "metadata": {},
   "source": [
    "### Models, FFD, m = 100"
   ]
  },
  {
   "cell_type": "code",
   "execution_count": 47,
   "id": "daebe12c",
   "metadata": {},
   "outputs": [
    {
     "name": "stdout",
     "output_type": "stream",
     "text": [
      "adult_ID3_FFD_100.skops\n"
     ]
    }
   ],
   "source": [
    "# ID3 - Default\n",
    "model = 'ID3'\n",
    "dataset = 'adult'\n",
    "discretizer = 'FFD'\n",
    "disc_param = 'm = 100'\n",
    "\n",
    "f = open(\"adult_models.txt\", \"a\")\n",
    "import time\n",
    "start = time.time() # For measuring time execution\n",
    "\n",
    "model_id3 = Id3Estimator()\n",
    "model_id3.fit(x_resample, y_resample)\n",
    "\n",
    "# Testing\n",
    "y_pred_id3 = model_id3.predict(x_test)\n",
    "print(f'Models results: model {model}, dataset {dataset}, discretization {discretizer} with parameter {disc_param}', \n",
    "      file = f)\n",
    "print('Classification report', file = f)\n",
    "print(classification_report(y_test, y_pred_id3), file = f)\n",
    "\n",
    "from imblearn.metrics import geometric_mean_score as gmean\n",
    "print('G-mean:', gmean(y_test, y_pred_id3),file = f)\n",
    "\n",
    "end = time.time()\n",
    "print(f'Time for training model {model}- default, {disc}, m = {m} is: {end - start}.', file = f) # Total time execution\n",
    "print('=='*20, file = f)\n",
    "f.close()\n",
    "\n",
    "# Save models\n",
    "import skops.io as sio\n",
    "model_name = f\"{dataset}_{model}_{discretizer}_{m}.skops\"\n",
    "print(model_name)\n",
    "obj = sio.dump(model_id3, model_name)"
   ]
  },
  {
   "cell_type": "code",
   "execution_count": 48,
   "id": "14a7bc99",
   "metadata": {},
   "outputs": [
    {
     "name": "stdout",
     "output_type": "stream",
     "text": [
      "adult_CNB_FFD_100.sav\n"
     ]
    },
    {
     "data": {
      "text/plain": [
       "['adult_CNB_FFD_100.sav']"
      ]
     },
     "execution_count": 48,
     "metadata": {},
     "output_type": "execute_result"
    }
   ],
   "source": [
    "# Naive Bayes - pass number of categories in min_categories\n",
    "model = 'CNB'\n",
    "dataset = 'adult'\n",
    "discretizer = 'FFD'\n",
    "disc_param = 'm = 100'\n",
    "\n",
    "f = open(\"adult_models.txt\", \"a\")\n",
    "import time\n",
    "start = time.time() # For measuring time execution\n",
    "\n",
    "model_nb = CategoricalNB(min_categories = n_categories)\n",
    "model_nb.fit(x_resample, y_resample)\n",
    "\n",
    "# Testing\n",
    "y_pred_nb = model_nb.predict(x_test)\n",
    "model_nb.classes_\n",
    "print(f'Models results: model {model}, dataset {dataset}, discretization {discretizer} with parameter {disc_param}', \n",
    "      file = f)\n",
    "print('Classification report', file = f)\n",
    "print(classification_report(y_test, y_pred_nb), file = f)\n",
    "\n",
    "from imblearn.metrics import geometric_mean_score as gmean\n",
    "print('G-mean:', gmean(y_test, y_pred_nb),file = f)\n",
    "\n",
    "end = time.time()\n",
    "print(f'Time for training model {model}- default, {disc}, m = {m} is: {end - start}.', file = f) # Total time execution\n",
    "print('=='*20, file = f)\n",
    "f.close()\n",
    "\n",
    "# Save models\n",
    "import joblib\n",
    "filename = f\"{dataset}_{model}_{discretizer}_{m}.sav\"\n",
    "print(filename)\n",
    "joblib.dump(model_nb, filename)"
   ]
  },
  {
   "cell_type": "code",
   "execution_count": 49,
   "id": "408625bf",
   "metadata": {},
   "outputs": [
    {
     "name": "stdout",
     "output_type": "stream",
     "text": [
      "adult_KNN-Hamming_FFD_100.skops\n"
     ]
    }
   ],
   "source": [
    "# Knn-Hammingcomplete code\n",
    "\n",
    "model = 'KNN-Hamming'\n",
    "dataset = 'adult'\n",
    "discretizer = 'FFD'\n",
    "disc_param = 'm = 100'\n",
    "\n",
    "f = open(\"adult_models.txt\", \"a\")\n",
    "import time\n",
    "start = time.time() # For measuring time execution\n",
    "\n",
    "# Knn-Hamming complete code\n",
    "knn_hamming = KNeighborsClassifier(n_neighbors=3, metric='hamming', algorithm='auto')\n",
    "knn_hamming.fit(x_resample, y_resample)\n",
    "\n",
    "# Testing\n",
    "y_pred_knn = knn_hamming.predict(x_test)\n",
    "knn_hamming.classes_\n",
    "print(f'Models results: model {model}, dataset {dataset}, discretization {discretizer} with parameter {disc_param}', \n",
    "      file = f)\n",
    "print('Classification report', file = f)\n",
    "print(classification_report(y_test, y_pred_knn), file = f)\n",
    "\n",
    "from imblearn.metrics import geometric_mean_score as gmean\n",
    "print('G-mean:', gmean(y_test, y_pred_knn),file = f)\n",
    "\n",
    "end = time.time()\n",
    "print(f'Time for training model {model}- default, {disc}, m = {m} is: {end - start}.', file = f) # Total time execution\n",
    "print('=='*20, file = f)\n",
    "f.close()\n",
    "\n",
    "# Save models\n",
    "import skops.io as sio\n",
    "model_name = f\"{dataset}_{model}_{discretizer}_{m}.skops\"\n",
    "print(model_name)\n",
    "obj = sio.dump(knn_hamming, model_name)"
   ]
  },
  {
   "cell_type": "code",
   "execution_count": null,
   "id": "b530c5d8",
   "metadata": {},
   "outputs": [],
   "source": []
  }
 ],
 "metadata": {
  "kernelspec": {
   "display_name": "Python 3 (ipykernel)",
   "language": "python",
   "name": "python3"
  },
  "language_info": {
   "codemirror_mode": {
    "name": "ipython",
    "version": 3
   },
   "file_extension": ".py",
   "mimetype": "text/x-python",
   "name": "python",
   "nbconvert_exporter": "python",
   "pygments_lexer": "ipython3",
   "version": "3.9.12"
  },
  "vscode": {
   "interpreter": {
    "hash": "361241f9a80b796977997c633c663aa5cf3bdc315ac376a4c38a1a056ab6874d"
   }
  }
 },
 "nbformat": 4,
 "nbformat_minor": 5
}
