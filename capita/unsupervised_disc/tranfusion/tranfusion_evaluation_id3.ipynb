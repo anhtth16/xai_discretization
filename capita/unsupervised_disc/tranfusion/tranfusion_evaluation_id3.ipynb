{
 "cells": [
  {
   "cell_type": "markdown",
   "id": "25f531ad",
   "metadata": {},
   "source": [
    "# Bias - Variance Decomposition\n",
    "\n",
    "- Dataset: tranfusion\n",
    "- Discretization: unsupervised: EWD, EFD, FFD\n",
    "- Model: Decision Tree ID3\n",
    "- Updated: 07/03/23\n",
    "\n",
    "Process:\n",
    "- Load pre-trained model (skops)\n",
    "- Run bias-variance decomposition\n",
    "- Save result to file \"transfusion_evaluation_id3.txt\"\n"
   ]
  },
  {
   "cell_type": "code",
   "execution_count": 1,
   "id": "41ccebb9",
   "metadata": {},
   "outputs": [],
   "source": [
    "# Import \n",
    "import pandas as pd\n",
    "import numpy as np\n",
    "\n",
    "import skops.io as sio\n",
    "import mlxtend\n",
    "from collections import Counter"
   ]
  },
  {
   "cell_type": "code",
   "execution_count": 2,
   "id": "7b563481",
   "metadata": {},
   "outputs": [],
   "source": [
    "# For model evaluation\n",
    "from sklearn.model_selection import train_test_split\n",
    "from sklearn.metrics import classification_report\n",
    "from sklearn import metrics\n",
    "import sklearn.metrics as metrics\n",
    "from sklearn.metrics import make_scorer\n",
    "from sklearn.metrics import confusion_matrix\n",
    "from sklearn.metrics import zero_one_loss\n",
    "#This library is used to decompose bias and variance in our models\n",
    "from mlxtend.evaluate import bias_variance_decomp\n",
    "import warnings\n",
    "warnings.filterwarnings('ignore')"
   ]
  },
  {
   "cell_type": "code",
   "execution_count": 3,
   "id": "bfae4107",
   "metadata": {},
   "outputs": [],
   "source": [
    "import six\n",
    "import sys\n",
    "sys.modules['sklearn.externals.six'] = six"
   ]
  },
  {
   "cell_type": "code",
   "execution_count": 4,
   "id": "1506c69d",
   "metadata": {},
   "outputs": [],
   "source": [
    "# Import \n",
    "import skops.io as sio\n",
    "import mlxtend"
   ]
  },
  {
   "cell_type": "markdown",
   "id": "c4c62f4c",
   "metadata": {},
   "source": [
    "# 1. EWD"
   ]
  },
  {
   "cell_type": "markdown",
   "id": "4cd585fc",
   "metadata": {},
   "source": [
    "## EWD, k = 4"
   ]
  },
  {
   "cell_type": "code",
   "execution_count": 5,
   "id": "bb54debc",
   "metadata": {},
   "outputs": [
    {
     "name": "stdout",
     "output_type": "stream",
     "text": [
      "<class 'pandas.core.frame.DataFrame'>\n",
      "RangeIndex: 748 entries, 0 to 747\n",
      "Data columns (total 6 columns):\n",
      " #   Column      Non-Null Count  Dtype\n",
      "---  ------      --------------  -----\n",
      " 0   Unnamed: 0  748 non-null    int64\n",
      " 1   recency     748 non-null    int64\n",
      " 2   frequency   748 non-null    int64\n",
      " 3   monetary    748 non-null    int64\n",
      " 4   time        748 non-null    int64\n",
      " 5   label       748 non-null    int64\n",
      "dtypes: int64(6)\n",
      "memory usage: 35.2 KB\n",
      "(748, 5) (748,)\n",
      "Class representation - original:  Counter({0: 570, 1: 178})\n",
      "Class representation - training data:  Counter({0: 428, 1: 133})\n",
      "Class representation - testing data:  Counter({0: 142, 1: 45})\n"
     ]
    }
   ],
   "source": [
    "# Data Prep\n",
    "# Complete code for data preperation\n",
    "# Read data\n",
    "df_ewd1 = pd.read_csv('tranfusion_ewd1.csv')\n",
    "disc = 'EWD'\n",
    "k = 4\n",
    "\n",
    "df_ewd1.info()\n",
    "data = df_ewd1.values\n",
    "data.shape\n",
    "\n",
    "features = df_ewd1.drop('label', axis = 1).columns\n",
    "\n",
    "# separate the data into X and y\n",
    "X = data[:, : len(features)]\n",
    "Y = data[:,-1]\n",
    "#X = df_ewd1[features]\n",
    "#Y = df_ewd1['label']\n",
    "\n",
    "print(X.shape, Y.shape)\n",
    "\n",
    "# Split train test\n",
    "x_train, x_test, y_train, y_test = train_test_split(X, Y, test_size=0.25, random_state = 30, stratify=Y)\n",
    "\n",
    "# Check representation of class\n",
    "print('Class representation - original: ', Counter(Y)) \n",
    "print('Class representation - training data: ', Counter(y_train)) \n",
    "print('Class representation - testing data: ', Counter(y_test)) \n",
    "\n",
    "# Check number of categories for features\n",
    "n_categories = df_ewd1[features].nunique()\n",
    "\n",
    "from imblearn.combine import SMOTEENN\n",
    "smt_enn = SMOTEENN(random_state=42)\n",
    "x_resample, y_resample = smt_enn.fit_resample(x_train, y_train)\n",
    "# # Check labels in traning dataset after SMOTE\n",
    "# pd.Series(y_resample) \\\n",
    "# .value_counts() \\\n",
    "# .plot(kind='bar', title='Class distribution after applying SMOTE ENN', xlabel='Blood donating')"
   ]
  },
  {
   "cell_type": "code",
   "execution_count": 6,
   "id": "2842186d",
   "metadata": {},
   "outputs": [
    {
     "name": "stdout",
     "output_type": "stream",
     "text": [
      "tranfusion_ID3_EWD_4.skops\n"
     ]
    }
   ],
   "source": [
    "# Load models\n",
    "k=4\n",
    "model = 'ID3'\n",
    "dataset = 'tranfusion'\n",
    "discretizer = 'EWD'\n",
    "disc_param = 'k = 4'\n",
    "model_name = f\"{dataset}_{model}_{discretizer}_{k}.skops\"\n",
    "print(model_name)\n",
    "loaded_id3 = sio.load(model_name, trusted=True)\n",
    "y_pred_id3 = loaded_id3.predict(x_test)"
   ]
  },
  {
   "cell_type": "code",
   "execution_count": 7,
   "id": "8474592a",
   "metadata": {},
   "outputs": [],
   "source": [
    "# Decomposition\n",
    "f = open(\"transfusion_evaluation_id3.txt\", \"a\")\n",
    "import time\n",
    "start = time.time() # For measuring time execution\n",
    "\n",
    "avg_expected_loss, avg_bias, avg_var = bias_variance_decomp(\n",
    "loaded_id3, x_resample, y_resample, x_test, y_test,\n",
    "loss='0-1_loss',\n",
    "random_seed=123)\n",
    "#---\n",
    "\n",
    "print(f'Evaluation result: {model}, {discretizer}, {disc_param}', file = f)\n",
    "print('Average expected loss: %.3f' % avg_expected_loss, file = f)\n",
    "print('Average bias: %.3f' % avg_bias, file = f)\n",
    "print('Average variance: %.3f' % avg_var, file = f)\n",
    "print('Sklearn 0-1 loss: %.3f' % zero_one_loss(y_test,y_pred_id3), file = f)\n",
    "\n",
    "end = time.time()\n",
    "print(f'Execution time {model}- default, {disc}, k = {k} is: {end - start}.', file = f) # Total time execution\n",
    "print('=='*20, file = f)\n",
    "f.close()"
   ]
  },
  {
   "cell_type": "markdown",
   "id": "067d47b0",
   "metadata": {},
   "source": [
    "## EWD, k = 7"
   ]
  },
  {
   "cell_type": "code",
   "execution_count": 8,
   "id": "ecf38b09",
   "metadata": {},
   "outputs": [
    {
     "name": "stdout",
     "output_type": "stream",
     "text": [
      "<class 'pandas.core.frame.DataFrame'>\n",
      "RangeIndex: 748 entries, 0 to 747\n",
      "Data columns (total 6 columns):\n",
      " #   Column      Non-Null Count  Dtype\n",
      "---  ------      --------------  -----\n",
      " 0   Unnamed: 0  748 non-null    int64\n",
      " 1   recency     748 non-null    int64\n",
      " 2   frequency   748 non-null    int64\n",
      " 3   monetary    748 non-null    int64\n",
      " 4   time        748 non-null    int64\n",
      " 5   label       748 non-null    int64\n",
      "dtypes: int64(6)\n",
      "memory usage: 35.2 KB\n",
      "(748, 5) (748,)\n",
      "Class representation - original:  Counter({0: 570, 1: 178})\n",
      "Class representation - training data:  Counter({0: 428, 1: 133})\n",
      "Class representation - testing data:  Counter({0: 142, 1: 45})\n"
     ]
    }
   ],
   "source": [
    "# Data Prep\n",
    "# Complete code for data preperation\n",
    "# Read data\n",
    "df_ewd2 = pd.read_csv('tranfusion_ewd2.csv')\n",
    "disc = 'EWD'\n",
    "k = 7\n",
    "\n",
    "df_ewd2.info()\n",
    "data = df_ewd2.values\n",
    "data.shape\n",
    "\n",
    "features = df_ewd2.drop('label', axis = 1).columns\n",
    "\n",
    "# separate the data into X and y\n",
    "X = data[:, : len(features)]\n",
    "Y = data[:,-1]\n",
    "#X = df_ewd2[features]\n",
    "#Y = df_ewd2['label']\n",
    "\n",
    "print(X.shape, Y.shape)\n",
    "\n",
    "# Split train test\n",
    "x_train, x_test, y_train, y_test = train_test_split(X, Y, test_size=0.25, random_state = 30, stratify=Y)\n",
    "\n",
    "# Check representation of class\n",
    "print('Class representation - original: ', Counter(Y)) \n",
    "print('Class representation - training data: ', Counter(y_train)) \n",
    "print('Class representation - testing data: ', Counter(y_test)) \n",
    "\n",
    "# Check number of categories for features\n",
    "n_categories = df_ewd2[features].nunique()\n",
    "\n",
    "from imblearn.combine import SMOTEENN\n",
    "smt_enn = SMOTEENN(random_state=42)\n",
    "x_resample, y_resample = smt_enn.fit_resample(x_train, y_train)"
   ]
  },
  {
   "cell_type": "code",
   "execution_count": 9,
   "id": "59a87fb4",
   "metadata": {},
   "outputs": [
    {
     "name": "stdout",
     "output_type": "stream",
     "text": [
      "tranfusion_ID3_EWD_7.skops\n"
     ]
    }
   ],
   "source": [
    "# Load models\n",
    "k=7\n",
    "model = 'ID3'\n",
    "dataset = 'tranfusion'\n",
    "discretizer = 'EWD'\n",
    "disc_param = 'k = 7'\n",
    "model_name = f\"{dataset}_{model}_{discretizer}_{k}.skops\"\n",
    "print(model_name)\n",
    "loaded_id3 = sio.load(model_name, trusted=True)\n",
    "y_pred_id3 = loaded_id3.predict(x_test)"
   ]
  },
  {
   "cell_type": "code",
   "execution_count": 10,
   "id": "68aab87a",
   "metadata": {},
   "outputs": [],
   "source": [
    "# Decomposition\n",
    "f = open(\"transfusion_evaluation_id3.txt\", \"a\")\n",
    "import time\n",
    "start = time.time() # For measuring time execution\n",
    "\n",
    "avg_expected_loss, avg_bias, avg_var = bias_variance_decomp(\n",
    "loaded_id3, x_resample, y_resample, x_test, y_test,\n",
    "loss='0-1_loss',\n",
    "random_seed=123)\n",
    "#---\n",
    "\n",
    "print(f'Evaluation result: {model}, {discretizer}, {disc_param}', file = f)\n",
    "print('Average expected loss: %.3f' % avg_expected_loss, file = f)\n",
    "print('Average bias: %.3f' % avg_bias, file = f)\n",
    "print('Average variance: %.3f' % avg_var, file = f)\n",
    "print('Sklearn 0-1 loss: %.3f' % zero_one_loss(y_test,y_pred_id3), file = f)\n",
    "\n",
    "end = time.time()\n",
    "print(f'Execution time {model}- default, {disc}, k = {k} is: {end - start}.', file = f) # Total time execution\n",
    "print('=='*20, file = f)\n",
    "f.close()"
   ]
  },
  {
   "cell_type": "markdown",
   "id": "410ee7c1",
   "metadata": {},
   "source": [
    "## EWD, k = 10"
   ]
  },
  {
   "cell_type": "code",
   "execution_count": 11,
   "id": "92c7e4ba",
   "metadata": {},
   "outputs": [
    {
     "name": "stdout",
     "output_type": "stream",
     "text": [
      "<class 'pandas.core.frame.DataFrame'>\n",
      "RangeIndex: 748 entries, 0 to 747\n",
      "Data columns (total 6 columns):\n",
      " #   Column      Non-Null Count  Dtype\n",
      "---  ------      --------------  -----\n",
      " 0   Unnamed: 0  748 non-null    int64\n",
      " 1   recency     748 non-null    int64\n",
      " 2   frequency   748 non-null    int64\n",
      " 3   monetary    748 non-null    int64\n",
      " 4   time        748 non-null    int64\n",
      " 5   label       748 non-null    int64\n",
      "dtypes: int64(6)\n",
      "memory usage: 35.2 KB\n",
      "(748, 5) (748,)\n",
      "Class representation - original:  Counter({0: 570, 1: 178})\n",
      "Class representation - training data:  Counter({0: 428, 1: 133})\n",
      "Class representation - testing data:  Counter({0: 142, 1: 45})\n"
     ]
    }
   ],
   "source": [
    "# Data Prep\n",
    "# Complete code for data preperation\n",
    "# Read data\n",
    "df_ewd3 = pd.read_csv('tranfusion_ewd3.csv')\n",
    "disc = 'EWD'\n",
    "k = 10\n",
    "\n",
    "df_ewd3.info()\n",
    "data = df_ewd3.values\n",
    "data.shape\n",
    "\n",
    "features = df_ewd3.drop('label', axis = 1).columns\n",
    "\n",
    "# separate the data into X and y\n",
    "X = data[:, : len(features)]\n",
    "Y = data[:,-1]\n",
    "#X = df_ewd3[features]\n",
    "#Y = df_ewd3['label']\n",
    "\n",
    "print(X.shape, Y.shape)\n",
    "\n",
    "# Split train test\n",
    "x_train, x_test, y_train, y_test = train_test_split(X, Y, test_size=0.25, random_state = 30, stratify=Y)\n",
    "\n",
    "# Check representation of class\n",
    "print('Class representation - original: ', Counter(Y)) \n",
    "print('Class representation - training data: ', Counter(y_train)) \n",
    "print('Class representation - testing data: ', Counter(y_test)) \n",
    "\n",
    "# Check number of categories for features\n",
    "n_categories = df_ewd3[features].nunique()\n",
    "\n",
    "from imblearn.combine import SMOTEENN\n",
    "smt_enn = SMOTEENN(random_state=42)\n",
    "x_resample, y_resample = smt_enn.fit_resample(x_train, y_train)"
   ]
  },
  {
   "cell_type": "code",
   "execution_count": 12,
   "id": "64277f80",
   "metadata": {},
   "outputs": [
    {
     "name": "stdout",
     "output_type": "stream",
     "text": [
      "tranfusion_ID3_EWD_10.skops\n"
     ]
    }
   ],
   "source": [
    "# Load models\n",
    "k=10\n",
    "model = 'ID3'\n",
    "dataset = 'tranfusion'\n",
    "discretizer = 'EWD'\n",
    "disc_param = 'k = 10'\n",
    "model_name = f\"{dataset}_{model}_{discretizer}_{k}.skops\"\n",
    "print(model_name)\n",
    "loaded_id3 = sio.load(model_name, trusted=True)\n",
    "y_pred_id3 = loaded_id3.predict(x_test)"
   ]
  },
  {
   "cell_type": "code",
   "execution_count": 13,
   "id": "a672e659",
   "metadata": {},
   "outputs": [],
   "source": [
    "# Decomposition\n",
    "f = open(\"transfusion_evaluation_id3.txt\", \"a\")\n",
    "import time\n",
    "start = time.time() # For measuring time execution\n",
    "\n",
    "avg_expected_loss, avg_bias, avg_var = bias_variance_decomp(\n",
    "loaded_id3, x_resample, y_resample, x_test, y_test,\n",
    "loss='0-1_loss',\n",
    "random_seed=123)\n",
    "#---\n",
    "\n",
    "print(f'Evaluation result: {model}, {discretizer}, {disc_param}', file = f)\n",
    "print('Average expected loss: %.3f' % avg_expected_loss, file = f)\n",
    "print('Average bias: %.3f' % avg_bias, file = f)\n",
    "print('Average variance: %.3f' % avg_var, file = f)\n",
    "print('Sklearn 0-1 loss: %.3f' % zero_one_loss(y_test,y_pred_id3), file = f)\n",
    "\n",
    "end = time.time()\n",
    "print(f'Execution time {model}- default, {disc}, k = {k} is: {end - start}.', file = f) # Total time execution\n",
    "print('=='*20, file = f)\n",
    "f.close()"
   ]
  },
  {
   "cell_type": "markdown",
   "id": "780c5d70",
   "metadata": {},
   "source": [
    "# 2. EFD"
   ]
  },
  {
   "cell_type": "markdown",
   "id": "b72dcb79",
   "metadata": {},
   "source": [
    "# EFD, k = 4"
   ]
  },
  {
   "cell_type": "code",
   "execution_count": 14,
   "id": "170fa18b",
   "metadata": {},
   "outputs": [
    {
     "name": "stdout",
     "output_type": "stream",
     "text": [
      "<class 'pandas.core.frame.DataFrame'>\n",
      "RangeIndex: 748 entries, 0 to 747\n",
      "Data columns (total 6 columns):\n",
      " #   Column      Non-Null Count  Dtype\n",
      "---  ------      --------------  -----\n",
      " 0   Unnamed: 0  748 non-null    int64\n",
      " 1   recency     748 non-null    int64\n",
      " 2   frequency   748 non-null    int64\n",
      " 3   monetary    748 non-null    int64\n",
      " 4   time        748 non-null    int64\n",
      " 5   label       748 non-null    int64\n",
      "dtypes: int64(6)\n",
      "memory usage: 35.2 KB\n",
      "(748, 5) (748,)\n",
      "Class representation - original:  Counter({0: 570, 1: 178})\n",
      "Class representation - training data:  Counter({0: 428, 1: 133})\n",
      "Class representation - testing data:  Counter({0: 142, 1: 45})\n"
     ]
    }
   ],
   "source": [
    "# Data Prep\n",
    "# Complete code for data preperation\n",
    "# Read data\n",
    "df_efd1 = pd.read_csv('tranfusion_efd1.csv')\n",
    "disc = 'EFD'\n",
    "k = 4\n",
    "\n",
    "df_efd1.info()\n",
    "data = df_efd1.values\n",
    "data.shape\n",
    "\n",
    "features = df_efd1.drop('label', axis = 1).columns\n",
    "\n",
    "# separate the data into X and y\n",
    "X = data[:, : len(features)]\n",
    "Y = data[:,-1]\n",
    "#X = df_efd1[features]\n",
    "#Y = df_efd1['label']\n",
    "\n",
    "print(X.shape, Y.shape)\n",
    "\n",
    "# Split train test\n",
    "x_train, x_test, y_train, y_test = train_test_split(X, Y, test_size=0.25, random_state = 30, stratify=Y)\n",
    "\n",
    "# Check representation of class\n",
    "print('Class representation - original: ', Counter(Y)) \n",
    "print('Class representation - training data: ', Counter(y_train)) \n",
    "print('Class representation - testing data: ', Counter(y_test)) \n",
    "\n",
    "# Check number of categories for features\n",
    "n_categories = df_efd1[features].nunique()\n",
    "\n",
    "from imblearn.combine import SMOTEENN\n",
    "smt_enn = SMOTEENN(random_state=42)\n",
    "x_resample, y_resample = smt_enn.fit_resample(x_train, y_train)\n",
    "# # Check labels in traning dataset after SMOTE\n",
    "# pd.Series(y_resample) \\\n",
    "# .value_counts() \\\n",
    "# .plot(kind='bar', title='Class distribution after applying SMOTE ENN', xlabel='Blood donating')"
   ]
  },
  {
   "cell_type": "code",
   "execution_count": 15,
   "id": "9c570716",
   "metadata": {},
   "outputs": [
    {
     "name": "stdout",
     "output_type": "stream",
     "text": [
      "tranfusion_ID3_EFD_4.skops\n"
     ]
    }
   ],
   "source": [
    "# Load models\n",
    "k=4\n",
    "model = 'ID3'\n",
    "dataset = 'tranfusion'\n",
    "discretizer = 'EFD'\n",
    "disc_param = 'k = 4'\n",
    "model_name = \"{dataset}_{model}_{discretizer}_{k}.skops\".format(dataset=dataset, \n",
    "                                                                model=model, \n",
    "                                                                discretizer = discretizer, \n",
    "                                                                k=k)\n",
    "print(model_name)\n",
    "loaded_id3 = sio.load(model_name, trusted=True)\n",
    "y_pred_id3 = loaded_id3.predict(x_test)"
   ]
  },
  {
   "cell_type": "code",
   "execution_count": 16,
   "id": "382b6786",
   "metadata": {},
   "outputs": [],
   "source": [
    "# Decomposition\n",
    "f = open(\"transfusion_evaluation_id3.txt\", \"a\")\n",
    "import time\n",
    "start = time.time() # For measuring time execution\n",
    "\n",
    "avg_expected_loss, avg_bias, avg_var = bias_variance_decomp(\n",
    "loaded_id3, x_resample, y_resample, x_test, y_test,\n",
    "loss='0-1_loss',\n",
    "random_seed=123)\n",
    "#---\n",
    "\n",
    "print(f'Evaluation result: {model}, {discretizer}, {disc_param}', file = f)\n",
    "print('Average expected loss: %.3f' % avg_expected_loss, file = f)\n",
    "print('Average bias: %.3f' % avg_bias, file = f)\n",
    "print('Average variance: %.3f' % avg_var, file = f)\n",
    "print('Sklearn 0-1 loss: %.3f' % zero_one_loss(y_test,y_pred_id3), file = f)\n",
    "\n",
    "end = time.time()\n",
    "print(f'Execution time {model}- default, {disc}, k = {k} is: {end - start}.', file = f) # Total time execution\n",
    "print('=='*20, file = f)\n",
    "f.close()"
   ]
  },
  {
   "cell_type": "markdown",
   "id": "f193d581",
   "metadata": {},
   "source": [
    "## EFD, k = 7"
   ]
  },
  {
   "cell_type": "code",
   "execution_count": 17,
   "id": "90230be0",
   "metadata": {},
   "outputs": [
    {
     "name": "stdout",
     "output_type": "stream",
     "text": [
      "<class 'pandas.core.frame.DataFrame'>\n",
      "RangeIndex: 748 entries, 0 to 747\n",
      "Data columns (total 6 columns):\n",
      " #   Column      Non-Null Count  Dtype\n",
      "---  ------      --------------  -----\n",
      " 0   Unnamed: 0  748 non-null    int64\n",
      " 1   recency     748 non-null    int64\n",
      " 2   frequency   748 non-null    int64\n",
      " 3   monetary    748 non-null    int64\n",
      " 4   time        748 non-null    int64\n",
      " 5   label       748 non-null    int64\n",
      "dtypes: int64(6)\n",
      "memory usage: 35.2 KB\n",
      "(748, 5) (748,)\n",
      "Class representation - original:  Counter({0: 570, 1: 178})\n",
      "Class representation - training data:  Counter({0: 428, 1: 133})\n",
      "Class representation - testing data:  Counter({0: 142, 1: 45})\n"
     ]
    }
   ],
   "source": [
    "# Data Prep\n",
    "# Complete code for data preperation\n",
    "# Read data\n",
    "df_efd2 = pd.read_csv('tranfusion_efd2.csv')\n",
    "disc = 'efd'\n",
    "k = 7\n",
    "\n",
    "df_efd2.info()\n",
    "data = df_efd2.values\n",
    "data.shape\n",
    "\n",
    "features = df_efd2.drop('label', axis = 1).columns\n",
    "\n",
    "# separate the data into X and y\n",
    "X = data[:, : len(features)]\n",
    "Y = data[:,-1]\n",
    "#X = df_efd2[features]\n",
    "#Y = df_efd2['label']\n",
    "\n",
    "print(X.shape, Y.shape)\n",
    "\n",
    "# Split train test\n",
    "x_train, x_test, y_train, y_test = train_test_split(X, Y, test_size=0.25, random_state = 30, stratify=Y)\n",
    "\n",
    "# Check representation of class\n",
    "print('Class representation - original: ', Counter(Y)) \n",
    "print('Class representation - training data: ', Counter(y_train)) \n",
    "print('Class representation - testing data: ', Counter(y_test)) \n",
    "\n",
    "# Check number of categories for features\n",
    "n_categories = df_efd2[features].nunique()\n",
    "\n",
    "from imblearn.combine import SMOTEENN\n",
    "smt_enn = SMOTEENN(random_state=42)\n",
    "x_resample, y_resample = smt_enn.fit_resample(x_train, y_train)"
   ]
  },
  {
   "cell_type": "code",
   "execution_count": 18,
   "id": "3ef1f941",
   "metadata": {},
   "outputs": [
    {
     "name": "stdout",
     "output_type": "stream",
     "text": [
      "tranfusion_ID3_EFD_7.skops\n"
     ]
    }
   ],
   "source": [
    "# Load models\n",
    "k=7\n",
    "model = 'ID3'\n",
    "dataset = 'tranfusion'\n",
    "discretizer = 'EFD'\n",
    "disc_param = 'k = 7'\n",
    "model_name = f\"{dataset}_{model}_{discretizer}_{k}.skops\"\n",
    "print(model_name)\n",
    "loaded_id3 = sio.load(model_name, trusted=True)\n",
    "y_pred_id3 = loaded_id3.predict(x_test)"
   ]
  },
  {
   "cell_type": "code",
   "execution_count": 19,
   "id": "11bc26ba",
   "metadata": {},
   "outputs": [],
   "source": [
    "# Decomposition\n",
    "f = open(\"transfusion_evaluation_id3.txt\", \"a\")\n",
    "import time\n",
    "start = time.time() # For measuring time execution\n",
    "\n",
    "avg_expected_loss, avg_bias, avg_var = bias_variance_decomp(\n",
    "loaded_id3, x_resample, y_resample, x_test, y_test,\n",
    "loss='0-1_loss',\n",
    "random_seed=123)\n",
    "#---\n",
    "\n",
    "print(f'Evaluation result: {model}, {discretizer}, {disc_param}', file = f)\n",
    "print('Average expected loss: %.3f' % avg_expected_loss, file = f)\n",
    "print('Average bias: %.3f' % avg_bias, file = f)\n",
    "print('Average variance: %.3f' % avg_var, file = f)\n",
    "print('Sklearn 0-1 loss: %.3f' % zero_one_loss(y_test,y_pred_id3), file = f)\n",
    "\n",
    "end = time.time()\n",
    "print(f'Execution time {model}- default, {disc}, k = {k} is: {end - start}.', file = f) # Total time execution\n",
    "print('=='*20, file = f)\n",
    "f.close()"
   ]
  },
  {
   "cell_type": "markdown",
   "id": "aa23913b",
   "metadata": {},
   "source": [
    "## EFD, k = 10"
   ]
  },
  {
   "cell_type": "code",
   "execution_count": 20,
   "id": "43bfc1e3",
   "metadata": {},
   "outputs": [
    {
     "name": "stdout",
     "output_type": "stream",
     "text": [
      "<class 'pandas.core.frame.DataFrame'>\n",
      "RangeIndex: 748 entries, 0 to 747\n",
      "Data columns (total 6 columns):\n",
      " #   Column      Non-Null Count  Dtype\n",
      "---  ------      --------------  -----\n",
      " 0   Unnamed: 0  748 non-null    int64\n",
      " 1   recency     748 non-null    int64\n",
      " 2   frequency   748 non-null    int64\n",
      " 3   monetary    748 non-null    int64\n",
      " 4   time        748 non-null    int64\n",
      " 5   label       748 non-null    int64\n",
      "dtypes: int64(6)\n",
      "memory usage: 35.2 KB\n",
      "(748, 5) (748,)\n",
      "Class representation - original:  Counter({0: 570, 1: 178})\n",
      "Class representation - training data:  Counter({0: 428, 1: 133})\n",
      "Class representation - testing data:  Counter({0: 142, 1: 45})\n"
     ]
    }
   ],
   "source": [
    "# Data Prep\n",
    "# Complete code for data preperation\n",
    "# Read data\n",
    "df_efd3 = pd.read_csv('tranfusion_efd3.csv')\n",
    "disc = 'EFD'\n",
    "k = 10\n",
    "\n",
    "df_efd3.info()\n",
    "data = df_efd3.values\n",
    "data.shape\n",
    "\n",
    "features = df_efd3.drop('label', axis = 1).columns\n",
    "\n",
    "# separate the data into X and y\n",
    "X = data[:, : len(features)]\n",
    "Y = data[:,-1]\n",
    "#X = df_efd3[features]\n",
    "#Y = df_efd3['label']\n",
    "\n",
    "print(X.shape, Y.shape)\n",
    "\n",
    "# Split train test\n",
    "x_train, x_test, y_train, y_test = train_test_split(X, Y, test_size=0.25, random_state = 30, stratify=Y)\n",
    "\n",
    "# Check representation of class\n",
    "print('Class representation - original: ', Counter(Y)) \n",
    "print('Class representation - training data: ', Counter(y_train)) \n",
    "print('Class representation - testing data: ', Counter(y_test)) \n",
    "\n",
    "# Check number of categories for features\n",
    "n_categories = df_efd3[features].nunique()\n",
    "\n",
    "from imblearn.combine import SMOTEENN\n",
    "smt_enn = SMOTEENN(random_state=42)\n",
    "x_resample, y_resample = smt_enn.fit_resample(x_train, y_train)"
   ]
  },
  {
   "cell_type": "code",
   "execution_count": 21,
   "id": "156ca90e",
   "metadata": {},
   "outputs": [
    {
     "name": "stdout",
     "output_type": "stream",
     "text": [
      "tranfusion_ID3_EFD_10.skops\n"
     ]
    }
   ],
   "source": [
    "# Load models\n",
    "k=10\n",
    "model = 'ID3'\n",
    "dataset = 'tranfusion'\n",
    "discretizer = 'EFD'\n",
    "disc_param = 'k = 10'\n",
    "model_name = f\"{dataset}_{model}_{discretizer}_{k}.skops\"\n",
    "print(model_name)\n",
    "loaded_id3 = sio.load(model_name, trusted=True)\n",
    "y_pred_id3 = loaded_id3.predict(x_test)"
   ]
  },
  {
   "cell_type": "code",
   "execution_count": 22,
   "id": "c9c9fe8a",
   "metadata": {},
   "outputs": [],
   "source": [
    "# Decomposition\n",
    "f = open(\"transfusion_evaluation_id3.txt\", \"a\")\n",
    "import time\n",
    "start = time.time() # For measuring time execution\n",
    "\n",
    "avg_expected_loss, avg_bias, avg_var = bias_variance_decomp(\n",
    "loaded_id3, x_resample, y_resample, x_test, y_test,\n",
    "loss='0-1_loss',\n",
    "random_seed=123)\n",
    "#---\n",
    "\n",
    "print(f'Evaluation result: {model}, {discretizer}, {disc_param}', file = f)\n",
    "print('Average expected loss: %.3f' % avg_expected_loss, file = f)\n",
    "print('Average bias: %.3f' % avg_bias, file = f)\n",
    "print('Average variance: %.3f' % avg_var, file = f)\n",
    "print('Sklearn 0-1 loss: %.3f' % zero_one_loss(y_test,y_pred_id3), file = f)\n",
    "\n",
    "end = time.time()\n",
    "print(f'Execution time {model}- default, {disc}, k = {k} is: {end - start}.', file = f) # Total time execution\n",
    "print('=='*20, file = f)\n",
    "f.close()"
   ]
  },
  {
   "cell_type": "markdown",
   "id": "60e0155b",
   "metadata": {},
   "source": [
    "# 3. FFD"
   ]
  },
  {
   "cell_type": "markdown",
   "id": "66d0c4eb",
   "metadata": {},
   "source": [
    "## FFD, m = 10"
   ]
  },
  {
   "cell_type": "code",
   "execution_count": 23,
   "id": "0f503cb8",
   "metadata": {},
   "outputs": [
    {
     "name": "stdout",
     "output_type": "stream",
     "text": [
      "<class 'pandas.core.frame.DataFrame'>\n",
      "RangeIndex: 748 entries, 0 to 747\n",
      "Data columns (total 6 columns):\n",
      " #   Column      Non-Null Count  Dtype\n",
      "---  ------      --------------  -----\n",
      " 0   Unnamed: 0  748 non-null    int64\n",
      " 1   recency     748 non-null    int64\n",
      " 2   frequency   748 non-null    int64\n",
      " 3   monetary    748 non-null    int64\n",
      " 4   time        748 non-null    int64\n",
      " 5   label       748 non-null    int64\n",
      "dtypes: int64(6)\n",
      "memory usage: 35.2 KB\n",
      "(748, 5) (748,)\n",
      "Class representation - original:  Counter({0: 570, 1: 178})\n",
      "Class representation - training data:  Counter({0: 428, 1: 133})\n",
      "Class representation - testing data:  Counter({0: 142, 1: 45})\n"
     ]
    }
   ],
   "source": [
    "# Complete code for data preperation\n",
    "# Read data\n",
    "df_ffd1 = pd.read_csv('tranfusion_ffd1.csv')\n",
    "disc = 'FFD'\n",
    "m = 10\n",
    "\n",
    "df_ffd1.info()\n",
    "data = df_ffd1.values\n",
    "data.shape\n",
    "\n",
    "features = df_ffd1.drop('label', axis = 1).columns\n",
    "\n",
    "# separate the data into X and y\n",
    "X = data[:, : len(features)]\n",
    "Y = data[:,-1]\n",
    "\n",
    "print(X.shape, Y.shape)\n",
    "\n",
    "# Split train test\n",
    "x_train, x_test, y_train, y_test = train_test_split(X, Y, test_size=0.25, random_state = 30, stratify = Y)\n",
    "\n",
    "# Check representation of class\n",
    "print('Class representation - original: ', Counter(Y)) \n",
    "print('Class representation - training data: ', Counter(y_train)) \n",
    "print('Class representation - testing data: ', Counter(y_test)) \n",
    "\n",
    "# Check number of categories for features\n",
    "n_categories = df_ffd1[features].nunique()\n",
    "\n",
    "from imblearn.combine import SMOTEENN\n",
    "smt_enn = SMOTEENN(random_state=42)\n",
    "x_resample, y_resample = smt_enn.fit_resample(x_train, y_train)\n"
   ]
  },
  {
   "cell_type": "code",
   "execution_count": 24,
   "id": "932b4921",
   "metadata": {},
   "outputs": [
    {
     "name": "stdout",
     "output_type": "stream",
     "text": [
      "tranfusion_ID3_FFD_10.skops\n"
     ]
    }
   ],
   "source": [
    "# Load models\n",
    "model = 'ID3'\n",
    "dataset = 'tranfusion'\n",
    "discretizer = 'FFD'\n",
    "disc_param = 'm = 10'\n",
    "\n",
    "model_name = f\"{dataset}_{model}_{discretizer}_{m}.skops\"\n",
    "print(model_name)\n",
    "loaded_id3 = sio.load(model_name, trusted=True)\n",
    "y_pred_id3 = loaded_id3.predict(x_test)"
   ]
  },
  {
   "cell_type": "code",
   "execution_count": 25,
   "id": "895cf66d",
   "metadata": {},
   "outputs": [],
   "source": [
    "# Decomposition\n",
    "f = open(\"transfusion_evaluation_id3.txt\", \"a\")\n",
    "import time\n",
    "start = time.time() # For measuring time execution\n",
    "\n",
    "avg_expected_loss, avg_bias, avg_var = bias_variance_decomp(\n",
    "loaded_id3, x_resample, y_resample, x_test, y_test,\n",
    "loss='0-1_loss',\n",
    "random_seed=123)\n",
    "#---\n",
    "\n",
    "print(f'Evaluation result: {model}, {discretizer}, {disc_param}', file = f)\n",
    "print('Average expected loss: %.3f' % avg_expected_loss, file = f)\n",
    "print('Average bias: %.3f' % avg_bias, file = f)\n",
    "print('Average variance: %.3f' % avg_var, file = f)\n",
    "print('Sklearn 0-1 loss: %.3f' % zero_one_loss(y_test,y_pred_id3), file = f)\n",
    "\n",
    "end = time.time()\n",
    "print(f'Execution time {model}- default, {disc}, m = {m} is: {end - start}.', file = f) # Total time execution\n",
    "print('=='*20, file = f)\n",
    "f.close()"
   ]
  },
  {
   "cell_type": "markdown",
   "id": "93abfab5",
   "metadata": {},
   "source": [
    "## FFD, m = 30"
   ]
  },
  {
   "cell_type": "code",
   "execution_count": 26,
   "id": "c5482f0b",
   "metadata": {},
   "outputs": [
    {
     "name": "stdout",
     "output_type": "stream",
     "text": [
      "<class 'pandas.core.frame.DataFrame'>\n",
      "RangeIndex: 748 entries, 0 to 747\n",
      "Data columns (total 6 columns):\n",
      " #   Column      Non-Null Count  Dtype\n",
      "---  ------      --------------  -----\n",
      " 0   Unnamed: 0  748 non-null    int64\n",
      " 1   recency     748 non-null    int64\n",
      " 2   frequency   748 non-null    int64\n",
      " 3   monetary    748 non-null    int64\n",
      " 4   time        748 non-null    int64\n",
      " 5   label       748 non-null    int64\n",
      "dtypes: int64(6)\n",
      "memory usage: 35.2 KB\n",
      "(748, 5) (748,)\n",
      "Class representation - original:  Counter({0: 570, 1: 178})\n",
      "Class representation - training data:  Counter({0: 428, 1: 133})\n",
      "Class representation - testing data:  Counter({0: 142, 1: 45})\n"
     ]
    }
   ],
   "source": [
    "# Complete code for data preperation\n",
    "# Read data\n",
    "df_ffd2 = pd.read_csv('tranfusion_ffd2.csv')\n",
    "disc = 'FFD'\n",
    "m = 30\n",
    "\n",
    "df_ffd2.info()\n",
    "data = df_ffd2.values\n",
    "data.shape\n",
    "\n",
    "features = df_ffd2.drop('label', axis = 1).columns\n",
    "\n",
    "# separate the data into X and y\n",
    "X = data[:, : len(features)]\n",
    "Y = data[:,-1]\n",
    "\n",
    "print(X.shape, Y.shape)\n",
    "\n",
    "# Split train test\n",
    "x_train, x_test, y_train, y_test = train_test_split(X, Y, test_size=0.25, random_state = 30, stratify = Y)\n",
    "\n",
    "# Check representation of class\n",
    "print('Class representation - original: ', Counter(Y)) \n",
    "print('Class representation - training data: ', Counter(y_train)) \n",
    "print('Class representation - testing data: ', Counter(y_test)) \n",
    "\n",
    "# Check number of categories for features\n",
    "n_categories = df_ffd2[features].nunique()\n",
    "\n",
    "from imblearn.combine import SMOTEENN\n",
    "smt_enn = SMOTEENN(random_state=42)\n",
    "x_resample, y_resample = smt_enn.fit_resample(x_train, y_train)\n"
   ]
  },
  {
   "cell_type": "code",
   "execution_count": 27,
   "id": "1fb87d25",
   "metadata": {},
   "outputs": [
    {
     "name": "stdout",
     "output_type": "stream",
     "text": [
      "tranfusion_ID3_FFD_30.skops\n"
     ]
    }
   ],
   "source": [
    "# Load models\n",
    "model = 'ID3'\n",
    "dataset = 'tranfusion'\n",
    "discretizer = 'FFD'\n",
    "disc_param = 'm = 30'\n",
    "\n",
    "model_name = f\"{dataset}_{model}_{discretizer}_{m}.skops\"\n",
    "print(model_name)\n",
    "loaded_id3 = sio.load(model_name, trusted=True)\n",
    "y_pred_id3 = loaded_id3.predict(x_test)"
   ]
  },
  {
   "cell_type": "code",
   "execution_count": 28,
   "id": "e1bf1826",
   "metadata": {},
   "outputs": [],
   "source": [
    "# Decomposition\n",
    "f = open(\"transfusion_evaluation_id3.txt\", \"a\")\n",
    "import time\n",
    "start = time.time() # For measuring time execution\n",
    "\n",
    "avg_expected_loss, avg_bias, avg_var = bias_variance_decomp(\n",
    "loaded_id3, x_resample, y_resample, x_test, y_test,\n",
    "loss='0-1_loss',\n",
    "random_seed=123)\n",
    "#---\n",
    "\n",
    "print(f'Evaluation result: {model}, {discretizer}, {disc_param}', file = f)\n",
    "print('Average expected loss: %.3f' % avg_expected_loss, file = f)\n",
    "print('Average bias: %.3f' % avg_bias, file = f)\n",
    "print('Average variance: %.3f' % avg_var, file = f)\n",
    "print('Sklearn 0-1 loss: %.3f' % zero_one_loss(y_test,y_pred_id3), file = f)\n",
    "\n",
    "end = time.time()\n",
    "print(f'Execution time {model}- default, {disc}, m = {m} is: {end - start}.', file = f) # Total time execution\n",
    "print('=='*20, file = f)\n",
    "f.close()"
   ]
  },
  {
   "cell_type": "markdown",
   "id": "1dd27b19",
   "metadata": {},
   "source": [
    "## FFD, m = 60"
   ]
  },
  {
   "cell_type": "code",
   "execution_count": 29,
   "id": "38b98e7c",
   "metadata": {},
   "outputs": [
    {
     "name": "stdout",
     "output_type": "stream",
     "text": [
      "<class 'pandas.core.frame.DataFrame'>\n",
      "RangeIndex: 748 entries, 0 to 747\n",
      "Data columns (total 6 columns):\n",
      " #   Column      Non-Null Count  Dtype\n",
      "---  ------      --------------  -----\n",
      " 0   Unnamed: 0  748 non-null    int64\n",
      " 1   recency     748 non-null    int64\n",
      " 2   frequency   748 non-null    int64\n",
      " 3   monetary    748 non-null    int64\n",
      " 4   time        748 non-null    int64\n",
      " 5   label       748 non-null    int64\n",
      "dtypes: int64(6)\n",
      "memory usage: 35.2 KB\n",
      "(748, 5) (748,)\n",
      "Class representation - original:  Counter({0: 570, 1: 178})\n",
      "Class representation - training data:  Counter({0: 428, 1: 133})\n",
      "Class representation - testing data:  Counter({0: 142, 1: 45})\n"
     ]
    }
   ],
   "source": [
    "# Complete code for data preperation\n",
    "# Read data\n",
    "df_ffd3 = pd.read_csv('tranfusion_ffd3.csv')\n",
    "disc = 'FFD'\n",
    "m = 60\n",
    "\n",
    "df_ffd3.info()\n",
    "data = df_ffd3.values\n",
    "data.shape\n",
    "\n",
    "features = df_ffd3.drop('label', axis = 1).columns\n",
    "\n",
    "# separate the data into X and y\n",
    "X = data[:, : len(features)]\n",
    "Y = data[:,-1]\n",
    "\n",
    "print(X.shape, Y.shape)\n",
    "\n",
    "# Split train test\n",
    "x_train, x_test, y_train, y_test = train_test_split(X, Y, test_size=0.25, random_state = 30, stratify = Y)\n",
    "\n",
    "# Check representation of class\n",
    "print('Class representation - original: ', Counter(Y)) \n",
    "print('Class representation - training data: ', Counter(y_train)) \n",
    "print('Class representation - testing data: ', Counter(y_test)) \n",
    "\n",
    "# Check number of categories for features\n",
    "n_categories = df_ffd3[features].nunique()\n",
    "\n",
    "from imblearn.combine import SMOTEENN\n",
    "smt_enn = SMOTEENN(random_state=42)\n",
    "x_resample, y_resample = smt_enn.fit_resample(x_train, y_train)\n"
   ]
  },
  {
   "cell_type": "code",
   "execution_count": 30,
   "id": "68e7891e",
   "metadata": {},
   "outputs": [
    {
     "name": "stdout",
     "output_type": "stream",
     "text": [
      "tranfusion_ID3_FFD_60.skops\n"
     ]
    }
   ],
   "source": [
    "# Load models\n",
    "model = 'ID3'\n",
    "dataset = 'tranfusion'\n",
    "discretizer = 'FFD'\n",
    "disc_param = 'm = 60'\n",
    "\n",
    "model_name = f\"{dataset}_{model}_{discretizer}_{m}.skops\"\n",
    "print(model_name)\n",
    "loaded_id3 = sio.load(model_name, trusted=True)\n",
    "y_pred_id3 = loaded_id3.predict(x_test)"
   ]
  },
  {
   "cell_type": "code",
   "execution_count": 31,
   "id": "084723b3",
   "metadata": {},
   "outputs": [],
   "source": [
    "# Decomposition\n",
    "f = open(\"transfusion_evaluation_id3.txt\", \"a\")\n",
    "import time\n",
    "start = time.time() # For measuring time execution\n",
    "\n",
    "avg_expected_loss, avg_bias, avg_var = bias_variance_decomp(\n",
    "loaded_id3, x_resample, y_resample, x_test, y_test,\n",
    "loss='0-1_loss',\n",
    "random_seed=123)\n",
    "#---\n",
    "\n",
    "print(f'Evaluation result: {model}, {discretizer}, {disc_param}', file = f)\n",
    "print('Average expected loss: %.3f' % avg_expected_loss, file = f)\n",
    "print('Average bias: %.3f' % avg_bias, file = f)\n",
    "print('Average variance: %.3f' % avg_var, file = f)\n",
    "print('Sklearn 0-1 loss: %.3f' % zero_one_loss(y_test,y_pred_id3), file = f)\n",
    "\n",
    "end = time.time()\n",
    "print(f'Execution time {model}- default, {disc}, m = {m} is: {end - start}.', file = f) # Total time execution\n",
    "print('=='*20, file = f)\n",
    "f.close()"
   ]
  },
  {
   "cell_type": "markdown",
   "id": "422e27e1",
   "metadata": {},
   "source": [
    "## FFD, m = 100"
   ]
  },
  {
   "cell_type": "code",
   "execution_count": 32,
   "id": "9cad833f",
   "metadata": {},
   "outputs": [
    {
     "name": "stdout",
     "output_type": "stream",
     "text": [
      "<class 'pandas.core.frame.DataFrame'>\n",
      "RangeIndex: 748 entries, 0 to 747\n",
      "Data columns (total 6 columns):\n",
      " #   Column      Non-Null Count  Dtype\n",
      "---  ------      --------------  -----\n",
      " 0   Unnamed: 0  748 non-null    int64\n",
      " 1   recency     748 non-null    int64\n",
      " 2   frequency   748 non-null    int64\n",
      " 3   monetary    748 non-null    int64\n",
      " 4   time        748 non-null    int64\n",
      " 5   label       748 non-null    int64\n",
      "dtypes: int64(6)\n",
      "memory usage: 35.2 KB\n",
      "(748, 5) (748,)\n",
      "Class representation - original:  Counter({0: 570, 1: 178})\n",
      "Class representation - training data:  Counter({0: 428, 1: 133})\n",
      "Class representation - testing data:  Counter({0: 142, 1: 45})\n"
     ]
    }
   ],
   "source": [
    "# Complete code for data preperation\n",
    "# Read data\n",
    "df_ffd4 = pd.read_csv('tranfusion_ffd4.csv')\n",
    "disc = 'FFD'\n",
    "m = 100\n",
    "\n",
    "df_ffd4.info()\n",
    "data = df_ffd4.values\n",
    "data.shape\n",
    "\n",
    "features = df_ffd4.drop('label', axis = 1).columns\n",
    "\n",
    "# separate the data into X and y\n",
    "X = data[:, : len(features)]\n",
    "Y = data[:,-1]\n",
    "\n",
    "print(X.shape, Y.shape)\n",
    "\n",
    "# Split train test\n",
    "x_train, x_test, y_train, y_test = train_test_split(X, Y, test_size=0.25, random_state = 30, stratify = Y)\n",
    "\n",
    "# Check representation of class\n",
    "print('Class representation - original: ', Counter(Y)) \n",
    "print('Class representation - training data: ', Counter(y_train)) \n",
    "print('Class representation - testing data: ', Counter(y_test)) \n",
    "\n",
    "# Check number of categories for features\n",
    "n_categories = df_ffd4[features].nunique()\n",
    "\n",
    "from imblearn.combine import SMOTEENN\n",
    "smt_enn = SMOTEENN(random_state=42)\n",
    "x_resample, y_resample = smt_enn.fit_resample(x_train, y_train)\n"
   ]
  },
  {
   "cell_type": "code",
   "execution_count": 33,
   "id": "60f20a46",
   "metadata": {},
   "outputs": [
    {
     "name": "stdout",
     "output_type": "stream",
     "text": [
      "tranfusion_ID3_FFD_100.skops\n"
     ]
    }
   ],
   "source": [
    "# Load models\n",
    "model = 'ID3'\n",
    "dataset = 'tranfusion'\n",
    "discretizer = 'FFD'\n",
    "disc_param = 'm = 100'\n",
    "\n",
    "model_name = f\"{dataset}_{model}_{discretizer}_{m}.skops\"\n",
    "print(model_name)\n",
    "loaded_id3 = sio.load(model_name, trusted=True)\n",
    "y_pred_id3 = loaded_id3.predict(x_test)"
   ]
  },
  {
   "cell_type": "code",
   "execution_count": 34,
   "id": "2902f6df",
   "metadata": {},
   "outputs": [],
   "source": [
    "# Decomposition\n",
    "f = open(\"transfusion_evaluation_id3.txt\", \"a\")\n",
    "import time\n",
    "start = time.time() # For measuring time execution\n",
    "\n",
    "avg_expected_loss, avg_bias, avg_var = bias_variance_decomp(\n",
    "loaded_id3, x_resample, y_resample, x_test, y_test,\n",
    "loss='0-1_loss',\n",
    "random_seed=123)\n",
    "#---\n",
    "\n",
    "print(f'Evaluation result: {model}, {discretizer}, {disc_param}', file = f)\n",
    "print('Average expected loss: %.3f' % avg_expected_loss, file = f)\n",
    "print('Average bias: %.3f' % avg_bias, file = f)\n",
    "print('Average variance: %.3f' % avg_var, file = f)\n",
    "print('Sklearn 0-1 loss: %.3f' % zero_one_loss(y_test,y_pred_id3), file = f)\n",
    "\n",
    "end = time.time()\n",
    "print(f'Execution time {model}- default, {disc}, m = {m} is: {end - start}.', file = f) # Total time execution\n",
    "print('=='*20, file = f)\n",
    "f.close()"
   ]
  }
 ],
 "metadata": {
  "kernelspec": {
   "display_name": "Python 3 (ipykernel)",
   "language": "python",
   "name": "python3"
  },
  "language_info": {
   "codemirror_mode": {
    "name": "ipython",
    "version": 3
   },
   "file_extension": ".py",
   "mimetype": "text/x-python",
   "name": "python",
   "nbconvert_exporter": "python",
   "pygments_lexer": "ipython3",
   "version": "3.9.12"
  }
 },
 "nbformat": 4,
 "nbformat_minor": 5
}
